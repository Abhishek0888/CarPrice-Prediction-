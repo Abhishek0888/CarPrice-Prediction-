{
 "cells": [
  {
   "cell_type": "code",
   "execution_count": 10,
   "id": "e3f5b6d2",
   "metadata": {},
   "outputs": [],
   "source": [
    "import pandas as pd\n",
    "import numpy as np\n",
    "import seaborn as sns\n",
    "import matplotlib.pyplot as plt\n",
    "%matplotlib inline\n",
    "\n",
    "import warnings\n",
    "warnings.filterwarnings('ignore')"
   ]
  },
  {
   "cell_type": "code",
   "execution_count": 11,
   "id": "f1e28e93",
   "metadata": {},
   "outputs": [],
   "source": [
    "d1=pd.read_excel('car24.xlsx', index_col=0)\n",
    "d2=pd.read_excel('cardekho.xlsx', index_col=0)\n"
   ]
  },
  {
   "cell_type": "code",
   "execution_count": 12,
   "id": "f17b4a5c",
   "metadata": {},
   "outputs": [
    {
     "data": {
      "text/plain": [
       "Index(['Name', 'Manufacture', 'Model', 'Fuel', 'Driven', 'Automatic', 'Owner',\n",
       "       'Location', 'Posting Date', 'Price'],\n",
       "      dtype='object')"
      ]
     },
     "execution_count": 12,
     "metadata": {},
     "output_type": "execute_result"
    }
   ],
   "source": [
    "d1.columns"
   ]
  },
  {
   "cell_type": "code",
   "execution_count": 13,
   "id": "5b1f65ff",
   "metadata": {},
   "outputs": [],
   "source": [
    "d1.drop('Posting Date',axis=1,inplace=True)"
   ]
  },
  {
   "cell_type": "code",
   "execution_count": 14,
   "id": "00b7f0f6",
   "metadata": {},
   "outputs": [],
   "source": [
    "d2.drop('Posting Date',axis=1,inplace=True)"
   ]
  },
  {
   "cell_type": "code",
   "execution_count": 15,
   "id": "bd084c99",
   "metadata": {},
   "outputs": [
    {
     "data": {
      "text/plain": [
       "((60, 9), (500, 9))"
      ]
     },
     "execution_count": 15,
     "metadata": {},
     "output_type": "execute_result"
    }
   ],
   "source": [
    "d1.shape ,d2.shape"
   ]
  },
  {
   "cell_type": "code",
   "execution_count": 16,
   "id": "0cc3cdbb",
   "metadata": {},
   "outputs": [
    {
     "data": {
      "text/plain": [
       "Name            0\n",
       "Manufacture     0\n",
       "Model          20\n",
       "Fuel            0\n",
       "Driven          0\n",
       "Automatic       0\n",
       "Owner           0\n",
       "Location        0\n",
       "Price           0\n",
       "dtype: int64"
      ]
     },
     "execution_count": 16,
     "metadata": {},
     "output_type": "execute_result"
    }
   ],
   "source": [
    "d2.isnull().sum()"
   ]
  },
  {
   "cell_type": "code",
   "execution_count": 17,
   "id": "679931a3",
   "metadata": {},
   "outputs": [],
   "source": [
    "d2.replace('-',np.nan, inplace=True)"
   ]
  },
  {
   "cell_type": "code",
   "execution_count": 18,
   "id": "e2be06c0",
   "metadata": {},
   "outputs": [
    {
     "data": {
      "text/plain": [
       "Name           40\n",
       "Manufacture    40\n",
       "Model          60\n",
       "Fuel           40\n",
       "Driven         40\n",
       "Automatic      40\n",
       "Owner          40\n",
       "Location       40\n",
       "Price          40\n",
       "dtype: int64"
      ]
     },
     "execution_count": 18,
     "metadata": {},
     "output_type": "execute_result"
    }
   ],
   "source": [
    "d2.isnull().sum()"
   ]
  },
  {
   "cell_type": "code",
   "execution_count": 19,
   "id": "10b3ab4d",
   "metadata": {},
   "outputs": [],
   "source": [
    "d2.dropna(inplace=True)"
   ]
  },
  {
   "cell_type": "code",
   "execution_count": 20,
   "id": "c1093688",
   "metadata": {},
   "outputs": [
    {
     "data": {
      "text/html": [
       "<div>\n",
       "<style scoped>\n",
       "    .dataframe tbody tr th:only-of-type {\n",
       "        vertical-align: middle;\n",
       "    }\n",
       "\n",
       "    .dataframe tbody tr th {\n",
       "        vertical-align: top;\n",
       "    }\n",
       "\n",
       "    .dataframe thead th {\n",
       "        text-align: right;\n",
       "    }\n",
       "</style>\n",
       "<table border=\"1\" class=\"dataframe\">\n",
       "  <thead>\n",
       "    <tr style=\"text-align: right;\">\n",
       "      <th></th>\n",
       "      <th>Name</th>\n",
       "      <th>Manufacture</th>\n",
       "      <th>Model</th>\n",
       "      <th>Fuel</th>\n",
       "      <th>Driven</th>\n",
       "      <th>Automatic</th>\n",
       "      <th>Owner</th>\n",
       "      <th>Location</th>\n",
       "      <th>Price</th>\n",
       "    </tr>\n",
       "  </thead>\n",
       "  <tbody>\n",
       "    <tr>\n",
       "      <th>0</th>\n",
       "      <td>Hyundai Verna</td>\n",
       "      <td>2019</td>\n",
       "      <td>1.6 SX VTVT (O)</td>\n",
       "      <td>Petrol</td>\n",
       "      <td>80,631 km</td>\n",
       "      <td>Manual</td>\n",
       "      <td>1st Owner</td>\n",
       "      <td>HR-26</td>\n",
       "      <td>₹ 9,81,699</td>\n",
       "    </tr>\n",
       "    <tr>\n",
       "      <th>1</th>\n",
       "      <td>KIA SELTOS</td>\n",
       "      <td>2020</td>\n",
       "      <td>HTK PLUS 1.5 PETROL</td>\n",
       "      <td>Petrol</td>\n",
       "      <td>12,981 km</td>\n",
       "      <td>Manual</td>\n",
       "      <td>2nd Owner</td>\n",
       "      <td>HR-26</td>\n",
       "      <td>₹ 11,55,299</td>\n",
       "    </tr>\n",
       "    <tr>\n",
       "      <th>2</th>\n",
       "      <td>Renault Kwid</td>\n",
       "      <td>2016</td>\n",
       "      <td>RXT</td>\n",
       "      <td>Petrol</td>\n",
       "      <td>22,388 km</td>\n",
       "      <td>Manual</td>\n",
       "      <td>1st Owner</td>\n",
       "      <td>DL-1C</td>\n",
       "      <td>₹ 2,79,799</td>\n",
       "    </tr>\n",
       "    <tr>\n",
       "      <th>3</th>\n",
       "      <td>Mercedes Benz C Class</td>\n",
       "      <td>2014</td>\n",
       "      <td>C 200 AVANTGARDE</td>\n",
       "      <td>Petrol</td>\n",
       "      <td>36,806 km</td>\n",
       "      <td>Automatic</td>\n",
       "      <td>1st Owner</td>\n",
       "      <td>UP-16</td>\n",
       "      <td>₹ 21,33,299</td>\n",
       "    </tr>\n",
       "    <tr>\n",
       "      <th>4</th>\n",
       "      <td>KIA SELTOS</td>\n",
       "      <td>2020</td>\n",
       "      <td>HTX AT PETROL</td>\n",
       "      <td>Petrol</td>\n",
       "      <td>21,784 km</td>\n",
       "      <td>Automatic</td>\n",
       "      <td>2nd Owner</td>\n",
       "      <td>HR-26</td>\n",
       "      <td>₹ 14,29,999</td>\n",
       "    </tr>\n",
       "  </tbody>\n",
       "</table>\n",
       "</div>"
      ],
      "text/plain": [
       "                    Name  Manufacture                Model    Fuel     Driven  \\\n",
       "0          Hyundai Verna         2019      1.6 SX VTVT (O)  Petrol  80,631 km   \n",
       "1             KIA SELTOS         2020  HTK PLUS 1.5 PETROL  Petrol  12,981 km   \n",
       "2           Renault Kwid         2016                  RXT  Petrol  22,388 km   \n",
       "3  Mercedes Benz C Class         2014     C 200 AVANTGARDE  Petrol  36,806 km   \n",
       "4             KIA SELTOS         2020        HTX AT PETROL  Petrol  21,784 km   \n",
       "\n",
       "   Automatic      Owner Location        Price  \n",
       "0     Manual  1st Owner    HR-26   ₹ 9,81,699  \n",
       "1     Manual  2nd Owner    HR-26  ₹ 11,55,299  \n",
       "2     Manual  1st Owner    DL-1C   ₹ 2,79,799  \n",
       "3  Automatic  1st Owner    UP-16  ₹ 21,33,299  \n",
       "4  Automatic  2nd Owner    HR-26  ₹ 14,29,999  "
      ]
     },
     "execution_count": 20,
     "metadata": {},
     "output_type": "execute_result"
    }
   ],
   "source": [
    "d1.head(5)"
   ]
  },
  {
   "cell_type": "code",
   "execution_count": 21,
   "id": "a8b62db3",
   "metadata": {},
   "outputs": [
    {
     "data": {
      "text/plain": [
       "array(['HR-26', 'DL-1C', 'UP-16', 'DL-6C', 'DL-8C', 'DL-7C', 'UP-37',\n",
       "       'UP-14', 'HR-79', 'DL-10', 'DL-3C', 'DL-9C', 'DL-5C', 'DL-2C',\n",
       "       'DL-4C', 'HR-51', 'HR-29', 'HR-98', 'DL-12', 'HR-55'], dtype=object)"
      ]
     },
     "execution_count": 21,
     "metadata": {},
     "output_type": "execute_result"
    }
   ],
   "source": [
    "d1['Location'].unique()"
   ]
  },
  {
   "cell_type": "code",
   "execution_count": 22,
   "id": "76da4420",
   "metadata": {},
   "outputs": [],
   "source": [
    "d1['Location']=d1['Location'].str.split('-').str.slice(0,1).str.join(' ')"
   ]
  },
  {
   "cell_type": "code",
   "execution_count": 23,
   "id": "ac3a2fee",
   "metadata": {},
   "outputs": [
    {
     "data": {
      "text/html": [
       "<div>\n",
       "<style scoped>\n",
       "    .dataframe tbody tr th:only-of-type {\n",
       "        vertical-align: middle;\n",
       "    }\n",
       "\n",
       "    .dataframe tbody tr th {\n",
       "        vertical-align: top;\n",
       "    }\n",
       "\n",
       "    .dataframe thead th {\n",
       "        text-align: right;\n",
       "    }\n",
       "</style>\n",
       "<table border=\"1\" class=\"dataframe\">\n",
       "  <thead>\n",
       "    <tr style=\"text-align: right;\">\n",
       "      <th></th>\n",
       "      <th>Name</th>\n",
       "      <th>Manufacture</th>\n",
       "      <th>Model</th>\n",
       "      <th>Fuel</th>\n",
       "      <th>Driven</th>\n",
       "      <th>Automatic</th>\n",
       "      <th>Owner</th>\n",
       "      <th>Location</th>\n",
       "      <th>Price</th>\n",
       "    </tr>\n",
       "  </thead>\n",
       "  <tbody>\n",
       "    <tr>\n",
       "      <th>0</th>\n",
       "      <td>Maruti Suzuki Swift</td>\n",
       "      <td>2021</td>\n",
       "      <td>VXI</td>\n",
       "      <td>PETROL</td>\n",
       "      <td>51000.0 KM</td>\n",
       "      <td>MANUAL</td>\n",
       "      <td>1st</td>\n",
       "      <td>Ellis Nagar, Madurai</td>\n",
       "      <td>₹ 6,90,000</td>\n",
       "    </tr>\n",
       "    <tr>\n",
       "      <th>1</th>\n",
       "      <td>Renault Duster</td>\n",
       "      <td>2015</td>\n",
       "      <td>85PS Diesel RxE</td>\n",
       "      <td>DIESEL</td>\n",
       "      <td>74253.0 KM</td>\n",
       "      <td>MANUAL</td>\n",
       "      <td>2nd</td>\n",
       "      <td>Mayur Vihar, Delhi</td>\n",
       "      <td>₹ 4,75,000</td>\n",
       "    </tr>\n",
       "    <tr>\n",
       "      <th>2</th>\n",
       "      <td>Maruti Suzuki Celerio</td>\n",
       "      <td>2015</td>\n",
       "      <td>VXI AMT</td>\n",
       "      <td>PETROL</td>\n",
       "      <td>36213.0 KM</td>\n",
       "      <td>MANUAL</td>\n",
       "      <td>2nd</td>\n",
       "      <td>Kapsi MIDC, Nagpur</td>\n",
       "      <td>₹ 4,00,000</td>\n",
       "    </tr>\n",
       "    <tr>\n",
       "      <th>4</th>\n",
       "      <td>Ford Figo</td>\n",
       "      <td>2013</td>\n",
       "      <td>2012-2015 Diesel EXI</td>\n",
       "      <td>DIESEL</td>\n",
       "      <td>70000 KM</td>\n",
       "      <td>MANUAL</td>\n",
       "      <td>Second</td>\n",
       "      <td>Sajjan Bilas Evergreen Society, Bhilwara</td>\n",
       "      <td>₹ 2,00,000</td>\n",
       "    </tr>\n",
       "    <tr>\n",
       "      <th>5</th>\n",
       "      <td>Maruti Suzuki Swift</td>\n",
       "      <td>2009</td>\n",
       "      <td>VDI</td>\n",
       "      <td>DIESEL</td>\n",
       "      <td>135,000 KM</td>\n",
       "      <td>MANUAL</td>\n",
       "      <td>4+</td>\n",
       "      <td>Ranna Circle, Mudhol</td>\n",
       "      <td>₹ 2,60,000</td>\n",
       "    </tr>\n",
       "  </tbody>\n",
       "</table>\n",
       "</div>"
      ],
      "text/plain": [
       "                     Name Manufacture                 Model    Fuel  \\\n",
       "0    Maruti Suzuki Swift         2021                   VXI  PETROL   \n",
       "1         Renault Duster         2015       85PS Diesel RxE  DIESEL   \n",
       "2  Maruti Suzuki Celerio         2015               VXI AMT  PETROL   \n",
       "4              Ford Figo         2013  2012-2015 Diesel EXI  DIESEL   \n",
       "5    Maruti Suzuki Swift         2009                   VDI  DIESEL   \n",
       "\n",
       "       Driven Automatic   Owner                                  Location  \\\n",
       "0  51000.0 KM    MANUAL     1st                      Ellis Nagar, Madurai   \n",
       "1  74253.0 KM    MANUAL     2nd                        Mayur Vihar, Delhi   \n",
       "2  36213.0 KM    MANUAL     2nd                        Kapsi MIDC, Nagpur   \n",
       "4    70000 KM    MANUAL  Second  Sajjan Bilas Evergreen Society, Bhilwara   \n",
       "5  135,000 KM    MANUAL      4+                      Ranna Circle, Mudhol   \n",
       "\n",
       "        Price  \n",
       "0  ₹ 6,90,000  \n",
       "1  ₹ 4,75,000  \n",
       "2  ₹ 4,00,000  \n",
       "4  ₹ 2,00,000  \n",
       "5  ₹ 2,60,000  "
      ]
     },
     "execution_count": 23,
     "metadata": {},
     "output_type": "execute_result"
    }
   ],
   "source": [
    "d2.head(5)"
   ]
  },
  {
   "cell_type": "code",
   "execution_count": 24,
   "id": "1e857421",
   "metadata": {},
   "outputs": [],
   "source": [
    "d2['Location']=d2['Location'].str.split(',').str.slice(1,2).str.join(' ')"
   ]
  },
  {
   "cell_type": "code",
   "execution_count": 25,
   "id": "afd3dc77",
   "metadata": {},
   "outputs": [],
   "source": [
    "d2['Location']=d2['Location'].str.strip()"
   ]
  },
  {
   "cell_type": "code",
   "execution_count": 26,
   "id": "297a480a",
   "metadata": {},
   "outputs": [
    {
     "data": {
      "text/plain": [
       "array(['Madurai', 'Delhi', 'Nagpur', 'Bhilwara', 'Mudhol', 'Thrissur',\n",
       "       'Chirmiri', 'Tiruppur', 'Karnal', 'Gunupur', 'Sagar', 'Srinagar',\n",
       "       'Malappuram', 'Jorhat', 'Mavelikkara', 'Nashik', 'Ara',\n",
       "       'Muzaffarnagar', 'Coimbatore', 'Hyderabad', 'Lucknow', 'Salem',\n",
       "       'Kochi', 'Chennai', 'Ahmedabad', 'Surat', 'Jaipur', 'Kolhapur',\n",
       "       'Chandigarh', 'Mumbai', 'Patiala', 'Ghaziabad', 'Bengaluru',\n",
       "       'Bobbili', 'Vijayawada', 'Herbertpur', 'Gorakhpur', 'Palakkodu',\n",
       "       'Thiruvallur', 'Barnala', 'Pali Lalitpur District', 'Kakinada',\n",
       "       'Kancheepuram', 'Jambusar', 'Khanna', 'Kottayam', 'Gwalior',\n",
       "       'SIDCUL Haridwar', 'Vadodara', 'Guntur', 'Idukki Township',\n",
       "       'Ballia', 'Islampur', 'Pune', 'Rajapalayam', 'Bathinda',\n",
       "       'Senapati', 'Adoor', 'Manjeri', 'Varanasi', 'Tikari',\n",
       "       'Mannarkad I', 'Udaipur', 'Noida', 'Thiruvananthapuram',\n",
       "       'Kotputli', 'Kondotty', 'Guwahati', 'Perumbavoor', 'Kushinagar',\n",
       "       'Bhubaneshwar', 'Gurgaon', 'Hisar', 'Satna', 'Sonipat',\n",
       "       'Nakkapalle', 'Sangli Miraj Kupwad', 'Kota', 'Tirupati',\n",
       "       'Rayadurg', 'Ratu', 'Greater Noida', 'Khanauri', 'Muvattupuzha',\n",
       "       'Neem Ka Thana', 'Nizambad', 'Ludhiana', 'Thane', 'Bareilly',\n",
       "       'Panipat', 'Virajpete', 'Mangaldoi', 'Narnaul', 'Rajkot',\n",
       "       'Fazi Nagar', 'Palakkad', 'Sitamarhi', 'Dhanaula', 'Thalassery',\n",
       "       'Jhansi', 'Durgapur', 'Kolkata', 'Tuticorin', 'Maralia', 'Rohtak',\n",
       "       'Rajahmundry', 'Banda', 'Pileru', 'Erode', 'Edavilangu', 'Indore',\n",
       "       'Tiruchirappalli', 'Kashipur', 'Jahanabad', '', 'Gharsana',\n",
       "       'Dhariwal', 'Navi Mumbai', 'Kurnool', 'Thanjavur', 'Dehradun',\n",
       "       'Ramnagar', 'Uttar Champamura', 'Kudal MIDC', 'Mettupalayam',\n",
       "       'Pollachi', 'Pataudi', 'Malaut', 'Shivamogga', 'Mairwa', 'Vaduj',\n",
       "       'Cuddalore', 'Gourdanda', 'Kannod', 'Nokha', 'Lakhimpur',\n",
       "       'Taliparamba', 'Derapur', 'Jodhpur', 'Palwancha', 'Jasdan',\n",
       "       'Allahabad', 'Aligarh', 'Chaibasa', 'Srikakulam', 'Pithoragarh',\n",
       "       'Gaya', 'Ranchi', 'Dinanagar', 'Mangaluru', 'Chauparan',\n",
       "       'Bakiabad', 'Kollam', 'Kannur', 'Narsipatnam', 'Bungal', 'Patna',\n",
       "       'Umri Kalan', 'Ballari', 'Sitapur', 'Bokaro Steel City',\n",
       "       'Junagadh', 'Navsari', 'Aurangabad', 'Yamunanagar', 'Phagwara',\n",
       "       'Ettumanoor', 'Mohali', 'Chakia', 'Konch', 'Allipura', 'Bettiah',\n",
       "       'Bikaner', 'Mudki', 'Rayachoti', 'Kozhikode', 'Bhopal', 'Nellore'],\n",
       "      dtype=object)"
      ]
     },
     "execution_count": 26,
     "metadata": {},
     "output_type": "execute_result"
    }
   ],
   "source": [
    "d2['Location'].unique()"
   ]
  },
  {
   "cell_type": "code",
   "execution_count": 27,
   "id": "5b68dff8",
   "metadata": {},
   "outputs": [],
   "source": [
    "dic={\"Madurai\":'TN',\"Delhi\":'DL',\"Nagpur\":'MH',\"Bhilwara\":'RJ',\"Mudhol\":'KR',\"Thrissur\":'KE',\"Chirmiri\":'CH',\"Tiruppur\":'TN',\n",
    "\"Karnal\":'HR',\"Gunupur\":'OD',\"Sagar\":'MP',\"Srinagar\":'JK',\"Malappuram\":'KE',\"Jorhat\":'AS',\"Mavelikkara\":'KE',\n",
    "\"Nashik\":'MH',\"Ara\":'BI',\"Muzaffarnagar\":'UP',\"Coimbatore\":'TN',\"Hyderabad\":'HY',\n",
    "\"Lucknow\":'UP',\"Salem\":'TN',\"Kochi\":'KE','Chennai':'TN',\"Ahmedabad\":'GU',\"Surat\":'GU',\n",
    "\"Jaipur\":'RJ',\"Kolhapur\":'MH',\"Chandigarh\":'PJ',\"Mumbai\":'MH',\"Patiala\":'PJ',\n",
    "\"Ghaziabad\":'UP',\"Bengaluru\":'KR',\"Bobbili\":'AP',\"Vijayawada\":'AP',\n",
    "\"Herbertpur\":'UK',\"Gorakhpur\":'UP',\"Palakkodu\":'TN',\"Thiruvallur\":'TN',\n",
    "\"Barnala\":'PJ',\"Pali Lalitpur District\":'UP',\"Kakinada\":'AP',\n",
    "\"Kancheepuram\":'TN',\"Jambusar\":'GU',\"Khanna\":'PJ',\"Kottayam\":'KE',\"Gwalior\":'MP',\n",
    "\"SIDCUL Haridwar\":'UK',\"Vadodara\":'GU',\"Guntur\":'AP',\"Idukki Township\":'KE',\n",
    "\"Ballia\":'UP',\"Islampur\":'WB',\"Pune\":'MH',\"Rajapalayam\":'TN',\"Bathinda\":'PJ',\n",
    "\"Senapati\":'MA',\"Adoor\":'KE',\"Manjeri\":'KE',\"Varanasi\":'UP',\"Tikari\":'BI',\n",
    "\"Mannarkad I\":'KE',\"Udaipur\":'RJ',\"Noida\":'UP',\"Thiruvananthapuram\":'KE',\n",
    "\"Kotputli\":'RJ',\"Kondotty\":'KE',\"Guwahati\":'AS',\"Perumbavoor\":'KE',\"Kushinagar\":'UP',\n",
    "\"Bhubaneshwar\":'OD',\"Gurgaon\":'HR',\"Hisar\":'HR',\"Satna\":'MP',\"Sonipat\":'HR',\n",
    "\"Nakkapalle\":'AP',\"Sangli Miraj Kupwad\":'MP',\"Kota\":'RJ',\"Tirupati\":'AP',\n",
    "\"Rayadurg\":'AP',\"Ratu\":'JH',\"Greater Noida\":'UP',\"Khanauri\":'PJ',\"Muvattupuzha\":'KE',\n",
    "\"Neem Ka Thana\":'RJ',\"Nizambad\":'TE',\"Ludhiana\":'PJ',\"Thane\":'MH',\"Bareilly\":'UP',\n",
    "\"Panipat\":'HR',\"Virajpete\":'KR',\"Mangaldoi\":'AS',\"Narnaul\":'HR',\"Rajkot\":'Gu',\n",
    "\"Fazi Nagar\":'UP',\"Palakkad\":'KE',\"Sitamarhi\":'BI',\"Dhanaula\":'PJ',\"Thalassery\":'KE',\n",
    "\"Jhansi\":'UP',\"Durgapur\":'WB',\"Kolkata\":'WB',\"Tuticorin\":'TN',\"Maralia\":'OD',\"Rohtak\":'HR',\n",
    "\"Rajahmundry\":'AP',\"Banda\":'UP',\"Pileru\":'AP',\"Erode\":'TN',\"Edavilangu\":'KE',\"Indore\":'MP',\n",
    "\"Tiruchirappalli\":'TN',\"Kashipur\":'UK',\"Jahanabad\":'BI',\"Gharsana\":'RJ',\n",
    "\"Dhariwal\":'PJ',\"Navi Mumbai\":'MH',\"Kurnool\":'AP',\"Thanjavur\":'TN',\"Dehradun\":'UK',\n",
    "\"Ramnagar\":'UK',\"Uttar Champamura\":'TI',\"Kudal MIDC\":'MH',\"Mettupalayam\":'TN',\n",
    "\"Pollachi\":'TN',\"Pataudi\":'HR',\"Malaut\":'PJ',\"Shivamogga\":'KR',\"Mairwa\":'BI',\"Vaduj\":'MH',\n",
    "\"Cuddalore\":'TN',\"Gourdanda\":'OD',\"Kannod\":'MP',\"Nokha\":'RJ',\"Lakhimpur\":'UP',\n",
    "\"Taliparamba\":'KE',\"Derapur\":'UP',\"Jodhpur\":'RJ',\"Palwancha\":'TE',\"Jasdan\":'GU',\n",
    "\"Allahabad\":'UP',\"Aligarh\":'UP',\"Chaibasa\":'JH',\"Srikakulam\":'AP',\"Pithoragarh\":'UK',\n",
    "\"Gaya\":'BI',\"Ranchi\":'JH',\"Dinanagar\":'PJ',\"Mangaluru\":'KR',\"Chauparan\":'JH',\n",
    "\"Bakiabad\":'UP',\"Kollam\":'KE',\"Kannur\":'KE',\"Narsipatnam\":'AP',\"Bungal\":'PJ',\"Patna\":'BI',\n",
    "\"Umri Kalan\":'UP',\"Ballari\":'KR',\"Sitapur\":'UP',\"Bokaro Steel City\":'JH',\n",
    "\"Junagadh\":'GU',\"Navsari\":'GU',\"Aurangabad\":'MH',\"Yamunanagar\":'HR',\"Phagwara\":'PJ',\n",
    "\"Ettumanoor\":'KE',\"Mohali\":'PJ',\"Chakia\":'MH',\"Konch\":'UP',\"Allipura\":'KR',\"Bettiah\":'BI',\n",
    "\"Bikaner\":'RJ',\"Mudki\":'PJ',\"Rayachoti\":'AP',\"Kozhikode\":'KE',\"Bhopal\":'MP',\"Nellore\":'AP'}"
   ]
  },
  {
   "cell_type": "raw",
   "id": "36225628",
   "metadata": {},
   "source": [
    "TN- Tamil Naidu\n",
    "MH= Maharastra\n",
    "KR= Karnataka\n",
    "RJ= Rajistan\n",
    "KE= kerala\n",
    "CH=Chhattisgarh\n",
    "od=Odisha\n",
    "AS= Assam\n",
    "BI= Bihar\n",
    "HY= Hyderabad\n",
    "GU= Gujrat\n",
    "PJ= Punjab\n",
    "AP= Andra Pradesh\n",
    "UK= uttarankand\n",
    "MA= Manipur\n",
    "JH= jharkhand\n",
    "TE= Telangana\n",
    "TI= tripura"
   ]
  },
  {
   "cell_type": "code",
   "execution_count": 28,
   "id": "75b79296",
   "metadata": {},
   "outputs": [],
   "source": [
    "d2['Location']=d2['Location'].replace(dic)"
   ]
  },
  {
   "cell_type": "code",
   "execution_count": 29,
   "id": "b9ca38d1",
   "metadata": {},
   "outputs": [
    {
     "data": {
      "text/html": [
       "<div>\n",
       "<style scoped>\n",
       "    .dataframe tbody tr th:only-of-type {\n",
       "        vertical-align: middle;\n",
       "    }\n",
       "\n",
       "    .dataframe tbody tr th {\n",
       "        vertical-align: top;\n",
       "    }\n",
       "\n",
       "    .dataframe thead th {\n",
       "        text-align: right;\n",
       "    }\n",
       "</style>\n",
       "<table border=\"1\" class=\"dataframe\">\n",
       "  <thead>\n",
       "    <tr style=\"text-align: right;\">\n",
       "      <th></th>\n",
       "      <th>Name</th>\n",
       "      <th>Manufacture</th>\n",
       "      <th>Model</th>\n",
       "      <th>Fuel</th>\n",
       "      <th>Driven</th>\n",
       "      <th>Automatic</th>\n",
       "      <th>Owner</th>\n",
       "      <th>Location</th>\n",
       "      <th>Price</th>\n",
       "    </tr>\n",
       "  </thead>\n",
       "  <tbody>\n",
       "    <tr>\n",
       "      <th>0</th>\n",
       "      <td>Maruti Suzuki Swift</td>\n",
       "      <td>2021</td>\n",
       "      <td>VXI</td>\n",
       "      <td>PETROL</td>\n",
       "      <td>51000.0 KM</td>\n",
       "      <td>MANUAL</td>\n",
       "      <td>1st</td>\n",
       "      <td>TN</td>\n",
       "      <td>₹ 6,90,000</td>\n",
       "    </tr>\n",
       "    <tr>\n",
       "      <th>1</th>\n",
       "      <td>Renault Duster</td>\n",
       "      <td>2015</td>\n",
       "      <td>85PS Diesel RxE</td>\n",
       "      <td>DIESEL</td>\n",
       "      <td>74253.0 KM</td>\n",
       "      <td>MANUAL</td>\n",
       "      <td>2nd</td>\n",
       "      <td>DL</td>\n",
       "      <td>₹ 4,75,000</td>\n",
       "    </tr>\n",
       "    <tr>\n",
       "      <th>2</th>\n",
       "      <td>Maruti Suzuki Celerio</td>\n",
       "      <td>2015</td>\n",
       "      <td>VXI AMT</td>\n",
       "      <td>PETROL</td>\n",
       "      <td>36213.0 KM</td>\n",
       "      <td>MANUAL</td>\n",
       "      <td>2nd</td>\n",
       "      <td>MH</td>\n",
       "      <td>₹ 4,00,000</td>\n",
       "    </tr>\n",
       "    <tr>\n",
       "      <th>4</th>\n",
       "      <td>Ford Figo</td>\n",
       "      <td>2013</td>\n",
       "      <td>2012-2015 Diesel EXI</td>\n",
       "      <td>DIESEL</td>\n",
       "      <td>70000 KM</td>\n",
       "      <td>MANUAL</td>\n",
       "      <td>Second</td>\n",
       "      <td>RJ</td>\n",
       "      <td>₹ 2,00,000</td>\n",
       "    </tr>\n",
       "    <tr>\n",
       "      <th>5</th>\n",
       "      <td>Maruti Suzuki Swift</td>\n",
       "      <td>2009</td>\n",
       "      <td>VDI</td>\n",
       "      <td>DIESEL</td>\n",
       "      <td>135,000 KM</td>\n",
       "      <td>MANUAL</td>\n",
       "      <td>4+</td>\n",
       "      <td>KR</td>\n",
       "      <td>₹ 2,60,000</td>\n",
       "    </tr>\n",
       "  </tbody>\n",
       "</table>\n",
       "</div>"
      ],
      "text/plain": [
       "                     Name Manufacture                 Model    Fuel  \\\n",
       "0    Maruti Suzuki Swift         2021                   VXI  PETROL   \n",
       "1         Renault Duster         2015       85PS Diesel RxE  DIESEL   \n",
       "2  Maruti Suzuki Celerio         2015               VXI AMT  PETROL   \n",
       "4              Ford Figo         2013  2012-2015 Diesel EXI  DIESEL   \n",
       "5    Maruti Suzuki Swift         2009                   VDI  DIESEL   \n",
       "\n",
       "       Driven Automatic   Owner Location       Price  \n",
       "0  51000.0 KM    MANUAL     1st       TN  ₹ 6,90,000  \n",
       "1  74253.0 KM    MANUAL     2nd       DL  ₹ 4,75,000  \n",
       "2  36213.0 KM    MANUAL     2nd       MH  ₹ 4,00,000  \n",
       "4    70000 KM    MANUAL  Second       RJ  ₹ 2,00,000  \n",
       "5  135,000 KM    MANUAL      4+       KR  ₹ 2,60,000  "
      ]
     },
     "execution_count": 29,
     "metadata": {},
     "output_type": "execute_result"
    }
   ],
   "source": [
    "d2.head()"
   ]
  },
  {
   "cell_type": "code",
   "execution_count": 30,
   "id": "bbf656d2",
   "metadata": {},
   "outputs": [
    {
     "data": {
      "text/plain": [
       "((60, 9), (440, 9))"
      ]
     },
     "execution_count": 30,
     "metadata": {},
     "output_type": "execute_result"
    }
   ],
   "source": [
    "d1.shape ,d2.shape"
   ]
  },
  {
   "cell_type": "code",
   "execution_count": 31,
   "id": "e368e5c3",
   "metadata": {},
   "outputs": [],
   "source": [
    "data = d1.append(d2, ignore_index=True)"
   ]
  },
  {
   "cell_type": "code",
   "execution_count": 32,
   "id": "cbbbe908",
   "metadata": {},
   "outputs": [
    {
     "data": {
      "text/plain": [
       "(500, 9)"
      ]
     },
     "execution_count": 32,
     "metadata": {},
     "output_type": "execute_result"
    }
   ],
   "source": [
    "data.shape"
   ]
  },
  {
   "cell_type": "code",
   "execution_count": 33,
   "id": "c1cc3b5f",
   "metadata": {},
   "outputs": [
    {
     "data": {
      "text/html": [
       "<div>\n",
       "<style scoped>\n",
       "    .dataframe tbody tr th:only-of-type {\n",
       "        vertical-align: middle;\n",
       "    }\n",
       "\n",
       "    .dataframe tbody tr th {\n",
       "        vertical-align: top;\n",
       "    }\n",
       "\n",
       "    .dataframe thead th {\n",
       "        text-align: right;\n",
       "    }\n",
       "</style>\n",
       "<table border=\"1\" class=\"dataframe\">\n",
       "  <thead>\n",
       "    <tr style=\"text-align: right;\">\n",
       "      <th></th>\n",
       "      <th>Name</th>\n",
       "      <th>Manufacture</th>\n",
       "      <th>Model</th>\n",
       "      <th>Fuel</th>\n",
       "      <th>Driven</th>\n",
       "      <th>Automatic</th>\n",
       "      <th>Owner</th>\n",
       "      <th>Location</th>\n",
       "      <th>Price</th>\n",
       "    </tr>\n",
       "  </thead>\n",
       "  <tbody>\n",
       "    <tr>\n",
       "      <th>0</th>\n",
       "      <td>Hyundai Verna</td>\n",
       "      <td>2019</td>\n",
       "      <td>1.6 SX VTVT (O)</td>\n",
       "      <td>Petrol</td>\n",
       "      <td>80,631 km</td>\n",
       "      <td>Manual</td>\n",
       "      <td>1st Owner</td>\n",
       "      <td>HR</td>\n",
       "      <td>₹ 9,81,699</td>\n",
       "    </tr>\n",
       "    <tr>\n",
       "      <th>1</th>\n",
       "      <td>KIA SELTOS</td>\n",
       "      <td>2020</td>\n",
       "      <td>HTK PLUS 1.5 PETROL</td>\n",
       "      <td>Petrol</td>\n",
       "      <td>12,981 km</td>\n",
       "      <td>Manual</td>\n",
       "      <td>2nd Owner</td>\n",
       "      <td>HR</td>\n",
       "      <td>₹ 11,55,299</td>\n",
       "    </tr>\n",
       "    <tr>\n",
       "      <th>2</th>\n",
       "      <td>Renault Kwid</td>\n",
       "      <td>2016</td>\n",
       "      <td>RXT</td>\n",
       "      <td>Petrol</td>\n",
       "      <td>22,388 km</td>\n",
       "      <td>Manual</td>\n",
       "      <td>1st Owner</td>\n",
       "      <td>DL</td>\n",
       "      <td>₹ 2,79,799</td>\n",
       "    </tr>\n",
       "    <tr>\n",
       "      <th>3</th>\n",
       "      <td>Mercedes Benz C Class</td>\n",
       "      <td>2014</td>\n",
       "      <td>C 200 AVANTGARDE</td>\n",
       "      <td>Petrol</td>\n",
       "      <td>36,806 km</td>\n",
       "      <td>Automatic</td>\n",
       "      <td>1st Owner</td>\n",
       "      <td>UP</td>\n",
       "      <td>₹ 21,33,299</td>\n",
       "    </tr>\n",
       "    <tr>\n",
       "      <th>4</th>\n",
       "      <td>KIA SELTOS</td>\n",
       "      <td>2020</td>\n",
       "      <td>HTX AT PETROL</td>\n",
       "      <td>Petrol</td>\n",
       "      <td>21,784 km</td>\n",
       "      <td>Automatic</td>\n",
       "      <td>2nd Owner</td>\n",
       "      <td>HR</td>\n",
       "      <td>₹ 14,29,999</td>\n",
       "    </tr>\n",
       "  </tbody>\n",
       "</table>\n",
       "</div>"
      ],
      "text/plain": [
       "                    Name Manufacture                Model    Fuel     Driven  \\\n",
       "0          Hyundai Verna        2019      1.6 SX VTVT (O)  Petrol  80,631 km   \n",
       "1             KIA SELTOS        2020  HTK PLUS 1.5 PETROL  Petrol  12,981 km   \n",
       "2           Renault Kwid        2016                  RXT  Petrol  22,388 km   \n",
       "3  Mercedes Benz C Class        2014     C 200 AVANTGARDE  Petrol  36,806 km   \n",
       "4             KIA SELTOS        2020        HTX AT PETROL  Petrol  21,784 km   \n",
       "\n",
       "   Automatic      Owner Location        Price  \n",
       "0     Manual  1st Owner       HR   ₹ 9,81,699  \n",
       "1     Manual  2nd Owner       HR  ₹ 11,55,299  \n",
       "2     Manual  1st Owner       DL   ₹ 2,79,799  \n",
       "3  Automatic  1st Owner       UP  ₹ 21,33,299  \n",
       "4  Automatic  2nd Owner       HR  ₹ 14,29,999  "
      ]
     },
     "execution_count": 33,
     "metadata": {},
     "output_type": "execute_result"
    }
   ],
   "source": [
    "data.head()"
   ]
  },
  {
   "cell_type": "code",
   "execution_count": 34,
   "id": "d56671f9",
   "metadata": {},
   "outputs": [
    {
     "data": {
      "text/plain": [
       "Name           object\n",
       "Manufacture    object\n",
       "Model          object\n",
       "Fuel           object\n",
       "Driven         object\n",
       "Automatic      object\n",
       "Owner          object\n",
       "Location       object\n",
       "Price          object\n",
       "dtype: object"
      ]
     },
     "execution_count": 34,
     "metadata": {},
     "output_type": "execute_result"
    }
   ],
   "source": [
    "data.dtypes"
   ]
  },
  {
   "cell_type": "code",
   "execution_count": 35,
   "id": "dcd8ed6a",
   "metadata": {},
   "outputs": [],
   "source": [
    "data['Manufacture']=data['Manufacture'].astype('int')"
   ]
  },
  {
   "cell_type": "code",
   "execution_count": 36,
   "id": "f336dca9",
   "metadata": {},
   "outputs": [],
   "source": [
    "data['Driven']=data['Driven'].str.replace(',','').str.replace(' km','').str.replace(' Kms','').str.replace(' KM','')"
   ]
  },
  {
   "cell_type": "code",
   "execution_count": 37,
   "id": "e20a6e4e",
   "metadata": {},
   "outputs": [
    {
     "data": {
      "text/plain": [
       "Name           object\n",
       "Manufacture     int32\n",
       "Model          object\n",
       "Fuel           object\n",
       "Driven         object\n",
       "Automatic      object\n",
       "Owner          object\n",
       "Location       object\n",
       "Price          object\n",
       "dtype: object"
      ]
     },
     "execution_count": 37,
     "metadata": {},
     "output_type": "execute_result"
    }
   ],
   "source": [
    "data.dtypes"
   ]
  },
  {
   "cell_type": "code",
   "execution_count": null,
   "id": "6e1089f8",
   "metadata": {},
   "outputs": [],
   "source": []
  },
  {
   "cell_type": "code",
   "execution_count": 38,
   "id": "4f4a39ba",
   "metadata": {},
   "outputs": [],
   "source": [
    "data['Driven']=data['Driven'].replace('--','')\n",
    "data['Driven']=data['Driven'].replace('.0','')"
   ]
  },
  {
   "cell_type": "code",
   "execution_count": 39,
   "id": "16fb0fcd",
   "metadata": {},
   "outputs": [
    {
     "data": {
      "text/plain": [
       "'0         80631\\n1         12981\\n2         22388\\n3         36806\\n4         21784\\n5         20330\\n6         54723\\n7         47547\\n8         28289\\n9         40369\\n10        44319\\n11        23277\\n12        32251\\n13        46400\\n14        21490\\n15         2775\\n16        22505\\n17        22638\\n18        28843\\n19        63433\\n20        45246\\n21        12511\\n22         6344\\n23         2213\\n24         9370\\n25        11399\\n26        48915\\n27        51105\\n28        90086\\n29        66782\\n30        42422\\n31        13223\\n32        34566\\n33        42881\\n34        54517\\n35        11828\\n36        29645\\n37         4555\\n38         7760\\n39        26475\\n40        60774\\n41        20830\\n42         5287\\n43         6962\\n44         7212\\n45         2572\\n46        29974\\n47        73937\\n48         4536\\n49        30697\\n50        12855\\n51         8717\\n52        40193\\n53        45277\\n54         6568\\n55        18191\\n56        82295\\n57        23733\\n58         9835\\n59         3120\\n60      51000.0\\n61      74253.0\\n62      36213.0\\n63        70000\\n64       135000\\n65        75000\\n66       120000\\n67        50000\\n68        87000\\n69        51000\\n70      78000.0\\n71        62000\\n72        64000\\n73     195000.0\\n74     198000.0\\n75      81000.0\\n76      15000.0\\n77      26000.0\\n78      80500.0\\n79      23000.0\\n80        60000\\n81      18000.0\\n82       160000\\n83       120000\\n84      37000.0\\n85     260000.0\\n86      27000.0\\n87      75000.0\\n88      59000.0\\n89      61000.0\\n90      63200.0\\n91     110000.0\\n92      65000.0\\n93      85800.0\\n94      70000.0\\n95          0.0\\n96      65398.0\\n97      44000.0\\n98      88000.0\\n99      36000.0\\n100     63000.0\\n101       90000\\n102      120000\\n103     57000.0\\n104     35000.0\\n105     92000.0\\n106     83000.0\\n107      118000\\n108     28000.0\\n109       58000\\n110      707105\\n111       90000\\n112      4000.0\\n113     63000.0\\n114     75000.0\\n115      140000\\n116     20614.0\\n117    142058.0\\n118     50000.0\\n119      160000\\n120      120000\\n121      113346\\n122      100000\\n123      113000\\n124     34000.0\\n125      261000\\n126     67000.0\\n127       68000\\n128       98315\\n129       10000\\n130     65000.0\\n131        3000\\n132      105000\\n133     47000.0\\n134     93000.0\\n135       90000\\n136       90000\\n137       98800\\n138       77000\\n139     72000.0\\n140       80000\\n141       37000\\n142    114000.0\\n143        3450\\n144       45548\\n145     24000.0\\n146     42056.0\\n147     29000.0\\n148      151734\\n149    143000.0\\n150     37000.0\\n151     31000.0\\n152     68000.0\\n153       90000\\n154      140000\\n155     20000.0\\n156     98000.0\\n157       80000\\n158      130000\\n159        7500\\n160     44000.0\\n161     76000.0\\n162     90480.0\\n163      125000\\n164       76000\\n165       35000\\n166     50000.0\\n167      130000\\n168       71626\\n169     20000.0\\n170       90000\\n171      120000\\n172     55000.0\\n173     98000.0\\n174    125000.0\\n175    130000.0\\n176    134000.0\\n177    235000.0\\n178     35000.0\\n179     85000.0\\n180     40000.0\\n181     55000.0\\n182     35000.0\\n183     30000.0\\n184     65000.0\\n185     81200.0\\n186     70000.0\\n187       30000\\n188       90000\\n189     24000.0\\n190     42000.0\\n191     48000.0\\n192     83000.0\\n193     50000.0\\n194       19000\\n195       75000\\n196       80000\\n197       80000\\n198    100000.0\\n199    111200.0\\n200     50000.0\\n201      118000\\n202       25055\\n203     58000.0\\n204     25000.0\\n205       90000\\n206       50000\\n207       39000\\n208       93000\\n209      240000\\n210      100000\\n211       80000\\n212     50000.0\\n213     72000.0\\n214       22000\\n215       30500\\n216       70000\\n217     78000.0\\n218       45630\\n219       60000\\n220      150000\\n221     80000.0\\n222     95000.0\\n223     83025.0\\n224      180000\\n225       50000\\n226        5500\\n227      100000\\n228       23214\\n229       85000\\n230     82000.0\\n231       64000\\n232       79000\\n233      165000\\n234       45000\\n235       92000\\n236       91000\\n237      180000\\n238       40000\\n239       77000\\n240       47000\\n241     28108.0\\n242     60000.0\\n243      140000\\n244       90000\\n245       41251\\n246       70000\\n247       83545\\n248            \\n249      149000\\n250       78523\\n251     82000.0\\n252      230000\\n253      125000\\n254    117000.0\\n255     25183.0\\n256     20000.0\\n257     55600.0\\n258      160000\\n259      120000\\n260     99000.0\\n261     13500.0\\n262    115000.0\\n263    135000.0\\n264     44500.0\\n265    145000.0\\n266     58000.0\\n267     85000.0\\n268     48000.0\\n269      2600.0\\n270     59000.0\\n271     63000.0\\n272       43000\\n273     69000.0\\n274     37000.0\\n275    175850.0\\n276     54000.0\\n277       10000\\n278      120000\\n279    100000.0\\n280       88400\\n281     72000.0\\n282      120000\\n283          15\\n284      108000\\n285       80000\\n286           0\\n287     72000.0\\n288       50000\\n289    150000.0\\n290      200000\\n291       70000\\n292     59000.0\\n293       10000\\n294      120000\\n295      100000\\n296     75000.0\\n297       92000\\n298     90000.0\\n299     76000.0\\n300      136000\\n301     55000.0\\n302     86000.0\\n303     71000.0\\n304     25000.0\\n305    127346.0\\n306     20000.0\\n307     98000.0\\n308      5000.0\\n309     74000.0\\n310     55000.0\\n311     82000.0\\n312       70000\\n313       90000\\n314     31000.0\\n315       75000\\n316     76000.0\\n317     74000.0\\n318      100000\\n319     72000.0\\n320      185000\\n321      102000\\n322       80000\\n323       82000\\n324     50000.0\\n325     61258.0\\n326       90000\\n327       70000\\n328       94000\\n329      120822\\n330        3300\\n331       71500\\n332            \\n333      148000\\n334     78444.0\\n335       78456\\n336      125000\\n337       60000\\n338     70000.0\\n339            \\n340      130000\\n341     58444.0\\n342     61900.0\\n343     60000.0\\n344     50000.0\\n345      120000\\n346       50000\\n347       65739\\n348       80000\\n349     72000.0\\n350       67000\\n351     80000.0\\n352      150000\\n353     26000.0\\n354      115000\\n355    110000.0\\n356     20000.0\\n357     65000.0\\n358     78000.0\\n359     72000.0\\n360    144255.0\\n361     92000.0\\n362     51000.0\\n363      120000\\n364       30000\\n365       85000\\n366     70000.0\\n367       64000\\n368       93450\\n369       96000\\n370       39810\\n371      150000\\n372       59000\\n373       60000\\n374       70000\\n375    120000.0\\n376       60000\\n377       50507\\n378     55000.0\\n379        7900\\n380     69000.0\\n381      160000\\n382       70000\\n383    140000.0\\n384      100000\\n385      111000\\n386       64000\\n387     38000.0\\n388       69000\\n389          13\\n390     76000.0\\n391      2000.0\\n392    115000.0\\n393    175000.0\\n394    120375.0\\n395     84060.0\\n396     98000.0\\n397      6500.0\\n398       90000\\n399       70000\\n400    122000.0\\n401     62000.0\\n402     53000.0\\n403     62000.0\\n404     72000.0\\n405       90000\\n406     56000.0\\n407       28000\\n408    128000.0\\n409     96000.0\\n410       83000\\n411     55000.0\\n412       75000\\n413    103000.0\\n414     85000.0\\n415       70000\\n416       70000\\n417       84000\\n418      7000.0\\n419       62000\\n420     80000.0\\n421      312000\\n422      130000\\n423      120100\\n424      165000\\n425       62031\\n426     53000.0\\n427       48000\\n428       70000\\n429     20500.0\\n430     78000.0\\n431       40000\\n432       40000\\n433     44000.0\\n434     40000.0\\n435     66000.0\\n436     78000.0\\n437     66000.0\\n438       92000\\n439      150000\\n440            \\n441       52000\\n442    100000.0\\n443     50000.0\\n444    270000.0\\n445      132532\\n446      4000.0\\n447     29000.0\\n448     60000.0\\n449     76000.0\\n450       70000\\n451       90000\\n452      124000\\n453      115000\\n454      110000\\n455      135000\\n456     55000.0\\n457     72000.0\\n458     61803.0\\n459       77500\\n460     82000.0\\n461    100000.0\\n462     52000.0\\n463      9899.0\\n464    114000.0\\n465     38000.0\\n466     67000.0\\n467       30000\\n468       10000\\n469       14700\\n470     32000.0\\n471      114108\\n472       34000\\n473       83000\\n474      120000\\n475       81000\\n476    104750.0\\n477    108750.0\\n478     60000.0\\n479    120000.0\\n480     49000.0\\n481     12000.0\\n482     39000.0\\n483     70000.0\\n484      160000\\n485       70000\\n486     65000.0\\n487     12000.0\\n488      168000\\n489     78000.0\\n490     82000.0\\n491     82000.0\\n492     62000.0\\n493     70000.0\\n494     76000.0\\n495       90800\\n496     62500.0\\n497      135280\\n498       67000\\n499     40000.0'"
      ]
     },
     "execution_count": 39,
     "metadata": {},
     "output_type": "execute_result"
    }
   ],
   "source": [
    "data['Driven'].to_string()"
   ]
  },
  {
   "cell_type": "code",
   "execution_count": null,
   "id": "69a920d7",
   "metadata": {},
   "outputs": [],
   "source": []
  },
  {
   "cell_type": "code",
   "execution_count": null,
   "id": "1eac6e3d",
   "metadata": {},
   "outputs": [],
   "source": []
  },
  {
   "cell_type": "code",
   "execution_count": 40,
   "id": "96ccf656",
   "metadata": {},
   "outputs": [],
   "source": [
    "data['Driven']=pd.to_numeric(data['Driven'], errors='coerce')"
   ]
  },
  {
   "cell_type": "code",
   "execution_count": 41,
   "id": "27063fbd",
   "metadata": {},
   "outputs": [
    {
     "data": {
      "text/plain": [
       "Name            object\n",
       "Manufacture      int32\n",
       "Model           object\n",
       "Fuel            object\n",
       "Driven         float64\n",
       "Automatic       object\n",
       "Owner           object\n",
       "Location        object\n",
       "Price           object\n",
       "dtype: object"
      ]
     },
     "execution_count": 41,
     "metadata": {},
     "output_type": "execute_result"
    }
   ],
   "source": [
    "data.dtypes"
   ]
  },
  {
   "cell_type": "code",
   "execution_count": 42,
   "id": "3ea43ad6",
   "metadata": {},
   "outputs": [
    {
     "data": {
      "text/html": [
       "<div>\n",
       "<style scoped>\n",
       "    .dataframe tbody tr th:only-of-type {\n",
       "        vertical-align: middle;\n",
       "    }\n",
       "\n",
       "    .dataframe tbody tr th {\n",
       "        vertical-align: top;\n",
       "    }\n",
       "\n",
       "    .dataframe thead th {\n",
       "        text-align: right;\n",
       "    }\n",
       "</style>\n",
       "<table border=\"1\" class=\"dataframe\">\n",
       "  <thead>\n",
       "    <tr style=\"text-align: right;\">\n",
       "      <th></th>\n",
       "      <th>Name</th>\n",
       "      <th>Manufacture</th>\n",
       "      <th>Model</th>\n",
       "      <th>Fuel</th>\n",
       "      <th>Driven</th>\n",
       "      <th>Automatic</th>\n",
       "      <th>Owner</th>\n",
       "      <th>Location</th>\n",
       "      <th>Price</th>\n",
       "    </tr>\n",
       "  </thead>\n",
       "  <tbody>\n",
       "    <tr>\n",
       "      <th>0</th>\n",
       "      <td>Hyundai Verna</td>\n",
       "      <td>2019</td>\n",
       "      <td>1.6 SX VTVT (O)</td>\n",
       "      <td>Petrol</td>\n",
       "      <td>80631.0</td>\n",
       "      <td>Manual</td>\n",
       "      <td>1st Owner</td>\n",
       "      <td>HR</td>\n",
       "      <td>₹ 9,81,699</td>\n",
       "    </tr>\n",
       "    <tr>\n",
       "      <th>1</th>\n",
       "      <td>KIA SELTOS</td>\n",
       "      <td>2020</td>\n",
       "      <td>HTK PLUS 1.5 PETROL</td>\n",
       "      <td>Petrol</td>\n",
       "      <td>12981.0</td>\n",
       "      <td>Manual</td>\n",
       "      <td>2nd Owner</td>\n",
       "      <td>HR</td>\n",
       "      <td>₹ 11,55,299</td>\n",
       "    </tr>\n",
       "    <tr>\n",
       "      <th>2</th>\n",
       "      <td>Renault Kwid</td>\n",
       "      <td>2016</td>\n",
       "      <td>RXT</td>\n",
       "      <td>Petrol</td>\n",
       "      <td>22388.0</td>\n",
       "      <td>Manual</td>\n",
       "      <td>1st Owner</td>\n",
       "      <td>DL</td>\n",
       "      <td>₹ 2,79,799</td>\n",
       "    </tr>\n",
       "    <tr>\n",
       "      <th>3</th>\n",
       "      <td>Mercedes Benz C Class</td>\n",
       "      <td>2014</td>\n",
       "      <td>C 200 AVANTGARDE</td>\n",
       "      <td>Petrol</td>\n",
       "      <td>36806.0</td>\n",
       "      <td>Automatic</td>\n",
       "      <td>1st Owner</td>\n",
       "      <td>UP</td>\n",
       "      <td>₹ 21,33,299</td>\n",
       "    </tr>\n",
       "    <tr>\n",
       "      <th>4</th>\n",
       "      <td>KIA SELTOS</td>\n",
       "      <td>2020</td>\n",
       "      <td>HTX AT PETROL</td>\n",
       "      <td>Petrol</td>\n",
       "      <td>21784.0</td>\n",
       "      <td>Automatic</td>\n",
       "      <td>2nd Owner</td>\n",
       "      <td>HR</td>\n",
       "      <td>₹ 14,29,999</td>\n",
       "    </tr>\n",
       "  </tbody>\n",
       "</table>\n",
       "</div>"
      ],
      "text/plain": [
       "                    Name  Manufacture                Model    Fuel   Driven  \\\n",
       "0          Hyundai Verna         2019      1.6 SX VTVT (O)  Petrol  80631.0   \n",
       "1             KIA SELTOS         2020  HTK PLUS 1.5 PETROL  Petrol  12981.0   \n",
       "2           Renault Kwid         2016                  RXT  Petrol  22388.0   \n",
       "3  Mercedes Benz C Class         2014     C 200 AVANTGARDE  Petrol  36806.0   \n",
       "4             KIA SELTOS         2020        HTX AT PETROL  Petrol  21784.0   \n",
       "\n",
       "   Automatic      Owner Location        Price  \n",
       "0     Manual  1st Owner       HR   ₹ 9,81,699  \n",
       "1     Manual  2nd Owner       HR  ₹ 11,55,299  \n",
       "2     Manual  1st Owner       DL   ₹ 2,79,799  \n",
       "3  Automatic  1st Owner       UP  ₹ 21,33,299  \n",
       "4  Automatic  2nd Owner       HR  ₹ 14,29,999  "
      ]
     },
     "execution_count": 42,
     "metadata": {},
     "output_type": "execute_result"
    }
   ],
   "source": [
    "data.head()"
   ]
  },
  {
   "cell_type": "code",
   "execution_count": 43,
   "id": "75d2908a",
   "metadata": {},
   "outputs": [],
   "source": [
    "data['Price']=data['Price'].str.replace('₹','').str.replace(',','').astype('int')"
   ]
  },
  {
   "cell_type": "code",
   "execution_count": 44,
   "id": "ea122fe4",
   "metadata": {},
   "outputs": [
    {
     "data": {
      "text/plain": [
       "Name            object\n",
       "Manufacture      int32\n",
       "Model           object\n",
       "Fuel            object\n",
       "Driven         float64\n",
       "Automatic       object\n",
       "Owner           object\n",
       "Location        object\n",
       "Price            int32\n",
       "dtype: object"
      ]
     },
     "execution_count": 44,
     "metadata": {},
     "output_type": "execute_result"
    }
   ],
   "source": [
    "data.dtypes"
   ]
  },
  {
   "cell_type": "code",
   "execution_count": 45,
   "id": "b28f8627",
   "metadata": {},
   "outputs": [
    {
     "data": {
      "text/html": [
       "<div>\n",
       "<style scoped>\n",
       "    .dataframe tbody tr th:only-of-type {\n",
       "        vertical-align: middle;\n",
       "    }\n",
       "\n",
       "    .dataframe tbody tr th {\n",
       "        vertical-align: top;\n",
       "    }\n",
       "\n",
       "    .dataframe thead th {\n",
       "        text-align: right;\n",
       "    }\n",
       "</style>\n",
       "<table border=\"1\" class=\"dataframe\">\n",
       "  <thead>\n",
       "    <tr style=\"text-align: right;\">\n",
       "      <th></th>\n",
       "      <th>Name</th>\n",
       "      <th>Manufacture</th>\n",
       "      <th>Model</th>\n",
       "      <th>Fuel</th>\n",
       "      <th>Driven</th>\n",
       "      <th>Automatic</th>\n",
       "      <th>Owner</th>\n",
       "      <th>Location</th>\n",
       "      <th>Price</th>\n",
       "    </tr>\n",
       "  </thead>\n",
       "  <tbody>\n",
       "    <tr>\n",
       "      <th>0</th>\n",
       "      <td>Hyundai Verna</td>\n",
       "      <td>2019</td>\n",
       "      <td>1.6 SX VTVT (O)</td>\n",
       "      <td>Petrol</td>\n",
       "      <td>80631.0</td>\n",
       "      <td>Manual</td>\n",
       "      <td>1st Owner</td>\n",
       "      <td>HR</td>\n",
       "      <td>981699</td>\n",
       "    </tr>\n",
       "    <tr>\n",
       "      <th>1</th>\n",
       "      <td>KIA SELTOS</td>\n",
       "      <td>2020</td>\n",
       "      <td>HTK PLUS 1.5 PETROL</td>\n",
       "      <td>Petrol</td>\n",
       "      <td>12981.0</td>\n",
       "      <td>Manual</td>\n",
       "      <td>2nd Owner</td>\n",
       "      <td>HR</td>\n",
       "      <td>1155299</td>\n",
       "    </tr>\n",
       "    <tr>\n",
       "      <th>2</th>\n",
       "      <td>Renault Kwid</td>\n",
       "      <td>2016</td>\n",
       "      <td>RXT</td>\n",
       "      <td>Petrol</td>\n",
       "      <td>22388.0</td>\n",
       "      <td>Manual</td>\n",
       "      <td>1st Owner</td>\n",
       "      <td>DL</td>\n",
       "      <td>279799</td>\n",
       "    </tr>\n",
       "    <tr>\n",
       "      <th>3</th>\n",
       "      <td>Mercedes Benz C Class</td>\n",
       "      <td>2014</td>\n",
       "      <td>C 200 AVANTGARDE</td>\n",
       "      <td>Petrol</td>\n",
       "      <td>36806.0</td>\n",
       "      <td>Automatic</td>\n",
       "      <td>1st Owner</td>\n",
       "      <td>UP</td>\n",
       "      <td>2133299</td>\n",
       "    </tr>\n",
       "    <tr>\n",
       "      <th>4</th>\n",
       "      <td>KIA SELTOS</td>\n",
       "      <td>2020</td>\n",
       "      <td>HTX AT PETROL</td>\n",
       "      <td>Petrol</td>\n",
       "      <td>21784.0</td>\n",
       "      <td>Automatic</td>\n",
       "      <td>2nd Owner</td>\n",
       "      <td>HR</td>\n",
       "      <td>1429999</td>\n",
       "    </tr>\n",
       "  </tbody>\n",
       "</table>\n",
       "</div>"
      ],
      "text/plain": [
       "                    Name  Manufacture                Model    Fuel   Driven  \\\n",
       "0          Hyundai Verna         2019      1.6 SX VTVT (O)  Petrol  80631.0   \n",
       "1             KIA SELTOS         2020  HTK PLUS 1.5 PETROL  Petrol  12981.0   \n",
       "2           Renault Kwid         2016                  RXT  Petrol  22388.0   \n",
       "3  Mercedes Benz C Class         2014     C 200 AVANTGARDE  Petrol  36806.0   \n",
       "4             KIA SELTOS         2020        HTX AT PETROL  Petrol  21784.0   \n",
       "\n",
       "   Automatic      Owner Location    Price  \n",
       "0     Manual  1st Owner       HR   981699  \n",
       "1     Manual  2nd Owner       HR  1155299  \n",
       "2     Manual  1st Owner       DL   279799  \n",
       "3  Automatic  1st Owner       UP  2133299  \n",
       "4  Automatic  2nd Owner       HR  1429999  "
      ]
     },
     "execution_count": 45,
     "metadata": {},
     "output_type": "execute_result"
    }
   ],
   "source": [
    "data.head()"
   ]
  },
  {
   "cell_type": "code",
   "execution_count": 46,
   "id": "e22b18fa",
   "metadata": {},
   "outputs": [
    {
     "data": {
      "text/plain": [
       "array(['1st Owner', '2nd Owner', '3rd Owner', '1st', '2nd', 'Second',\n",
       "       '4+', '3rd', 'First', '4th', 'Third', 'Fourth', '--'], dtype=object)"
      ]
     },
     "execution_count": 46,
     "metadata": {},
     "output_type": "execute_result"
    }
   ],
   "source": [
    "data['Owner'].unique()"
   ]
  },
  {
   "cell_type": "code",
   "execution_count": 47,
   "id": "383be4f4",
   "metadata": {},
   "outputs": [],
   "source": [
    "data['Owner']=data['Owner'].replace({\"--\":0,\"0th Owner\":0,\"1st Owner\":1,\"1st\":1,\"First\":1,\"2nd Owner\":2,\"2nd\":2,\"Second\":2,\"3rd Owner\":3,\"3rd\":3,\"Third\":3,\"4+\":4,\"4th\":4,\"Fourth\":4   })"
   ]
  },
  {
   "cell_type": "code",
   "execution_count": 48,
   "id": "2980a79b",
   "metadata": {},
   "outputs": [
    {
     "data": {
      "text/html": [
       "<div>\n",
       "<style scoped>\n",
       "    .dataframe tbody tr th:only-of-type {\n",
       "        vertical-align: middle;\n",
       "    }\n",
       "\n",
       "    .dataframe tbody tr th {\n",
       "        vertical-align: top;\n",
       "    }\n",
       "\n",
       "    .dataframe thead th {\n",
       "        text-align: right;\n",
       "    }\n",
       "</style>\n",
       "<table border=\"1\" class=\"dataframe\">\n",
       "  <thead>\n",
       "    <tr style=\"text-align: right;\">\n",
       "      <th></th>\n",
       "      <th>Name</th>\n",
       "      <th>Manufacture</th>\n",
       "      <th>Model</th>\n",
       "      <th>Fuel</th>\n",
       "      <th>Driven</th>\n",
       "      <th>Automatic</th>\n",
       "      <th>Owner</th>\n",
       "      <th>Location</th>\n",
       "      <th>Price</th>\n",
       "    </tr>\n",
       "  </thead>\n",
       "  <tbody>\n",
       "    <tr>\n",
       "      <th>0</th>\n",
       "      <td>Hyundai Verna</td>\n",
       "      <td>2019</td>\n",
       "      <td>1.6 SX VTVT (O)</td>\n",
       "      <td>Petrol</td>\n",
       "      <td>80631.0</td>\n",
       "      <td>Manual</td>\n",
       "      <td>1</td>\n",
       "      <td>HR</td>\n",
       "      <td>981699</td>\n",
       "    </tr>\n",
       "    <tr>\n",
       "      <th>1</th>\n",
       "      <td>KIA SELTOS</td>\n",
       "      <td>2020</td>\n",
       "      <td>HTK PLUS 1.5 PETROL</td>\n",
       "      <td>Petrol</td>\n",
       "      <td>12981.0</td>\n",
       "      <td>Manual</td>\n",
       "      <td>2</td>\n",
       "      <td>HR</td>\n",
       "      <td>1155299</td>\n",
       "    </tr>\n",
       "    <tr>\n",
       "      <th>2</th>\n",
       "      <td>Renault Kwid</td>\n",
       "      <td>2016</td>\n",
       "      <td>RXT</td>\n",
       "      <td>Petrol</td>\n",
       "      <td>22388.0</td>\n",
       "      <td>Manual</td>\n",
       "      <td>1</td>\n",
       "      <td>DL</td>\n",
       "      <td>279799</td>\n",
       "    </tr>\n",
       "    <tr>\n",
       "      <th>3</th>\n",
       "      <td>Mercedes Benz C Class</td>\n",
       "      <td>2014</td>\n",
       "      <td>C 200 AVANTGARDE</td>\n",
       "      <td>Petrol</td>\n",
       "      <td>36806.0</td>\n",
       "      <td>Automatic</td>\n",
       "      <td>1</td>\n",
       "      <td>UP</td>\n",
       "      <td>2133299</td>\n",
       "    </tr>\n",
       "    <tr>\n",
       "      <th>4</th>\n",
       "      <td>KIA SELTOS</td>\n",
       "      <td>2020</td>\n",
       "      <td>HTX AT PETROL</td>\n",
       "      <td>Petrol</td>\n",
       "      <td>21784.0</td>\n",
       "      <td>Automatic</td>\n",
       "      <td>2</td>\n",
       "      <td>HR</td>\n",
       "      <td>1429999</td>\n",
       "    </tr>\n",
       "  </tbody>\n",
       "</table>\n",
       "</div>"
      ],
      "text/plain": [
       "                    Name  Manufacture                Model    Fuel   Driven  \\\n",
       "0          Hyundai Verna         2019      1.6 SX VTVT (O)  Petrol  80631.0   \n",
       "1             KIA SELTOS         2020  HTK PLUS 1.5 PETROL  Petrol  12981.0   \n",
       "2           Renault Kwid         2016                  RXT  Petrol  22388.0   \n",
       "3  Mercedes Benz C Class         2014     C 200 AVANTGARDE  Petrol  36806.0   \n",
       "4             KIA SELTOS         2020        HTX AT PETROL  Petrol  21784.0   \n",
       "\n",
       "   Automatic  Owner Location    Price  \n",
       "0     Manual      1       HR   981699  \n",
       "1     Manual      2       HR  1155299  \n",
       "2     Manual      1       DL   279799  \n",
       "3  Automatic      1       UP  2133299  \n",
       "4  Automatic      2       HR  1429999  "
      ]
     },
     "execution_count": 48,
     "metadata": {},
     "output_type": "execute_result"
    }
   ],
   "source": [
    "data.head()"
   ]
  },
  {
   "cell_type": "code",
   "execution_count": 49,
   "id": "f03535c9",
   "metadata": {},
   "outputs": [
    {
     "data": {
      "text/plain": [
       "array(['HR', 'DL', 'UP', 'TN', 'MH', 'RJ', 'KR', 'KE', 'CH', 'OD', 'MP',\n",
       "       'JK', 'AS', 'BI', 'HY', 'GU', 'PJ', 'AP', 'UK', 'WB', 'MA', 'JH',\n",
       "       'TE', 'Gu', '', 'TI'], dtype=object)"
      ]
     },
     "execution_count": 49,
     "metadata": {},
     "output_type": "execute_result"
    }
   ],
   "source": [
    "data['Location'].unique()"
   ]
  },
  {
   "cell_type": "code",
   "execution_count": 50,
   "id": "3d2d2164",
   "metadata": {},
   "outputs": [
    {
     "data": {
      "text/plain": [
       "DL    88\n",
       "MH    58\n",
       "KE    54\n",
       "TN    49\n",
       "UP    42\n",
       "PJ    34\n",
       "HR    27\n",
       "GU    20\n",
       "KR    19\n",
       "AP    16\n",
       "RJ    14\n",
       "BI    11\n",
       "HY    11\n",
       "MP     9\n",
       "OD     8\n",
       "UK     8\n",
       "JH     7\n",
       "WB     7\n",
       "AS     6\n",
       "       5\n",
       "TE     2\n",
       "Gu     1\n",
       "MA     1\n",
       "TI     1\n",
       "CH     1\n",
       "JK     1\n",
       "Name: Location, dtype: int64"
      ]
     },
     "execution_count": 50,
     "metadata": {},
     "output_type": "execute_result"
    }
   ],
   "source": [
    "data['Location'].value_counts()"
   ]
  },
  {
   "cell_type": "code",
   "execution_count": 51,
   "id": "19017bae",
   "metadata": {},
   "outputs": [
    {
     "data": {
      "text/plain": [
       "0    DL\n",
       "dtype: object"
      ]
     },
     "execution_count": 51,
     "metadata": {},
     "output_type": "execute_result"
    }
   ],
   "source": [
    "data['Location'].mode()"
   ]
  },
  {
   "cell_type": "code",
   "execution_count": 52,
   "id": "1e8b5f6f",
   "metadata": {},
   "outputs": [
    {
     "data": {
      "text/plain": [
       "Int64Index([], dtype='int64')"
      ]
     },
     "execution_count": 52,
     "metadata": {},
     "output_type": "execute_result"
    }
   ],
   "source": [
    "data[data['Location']=='6 '].index"
   ]
  },
  {
   "cell_type": "code",
   "execution_count": 53,
   "id": "75258913",
   "metadata": {},
   "outputs": [
    {
     "data": {
      "text/plain": [
       "Int64Index([284, 322, 335, 373, 445], dtype='int64')"
      ]
     },
     "execution_count": 53,
     "metadata": {},
     "output_type": "execute_result"
    }
   ],
   "source": [
    "indices=data[data['Location']==''].index\n",
    "indices"
   ]
  },
  {
   "cell_type": "code",
   "execution_count": 54,
   "id": "9aa8f6e5",
   "metadata": {},
   "outputs": [],
   "source": [
    "data.loc[data[data['Location']=='6 '].index,'Location'] = 'MH'\n",
    "data.loc[data[data['Location']=='10'].index,'Location'] = 'MH'\n",
    "data.loc[data[data['Location']=='1 '].index,'Location'] = 'MH'\n",
    "data.loc[data[data['Location']=='11'].index,'Location'] = 'MH'\n",
    "data.loc[data[data['Location']=='4 '].index,'Location'] = 'MH'\n",
    "data.loc[data[data['Location']=='9 '].index,'Location'] = 'MH'\n",
    "data.loc[data[data['Location']=='5 '].index,'Location'] = 'MH'\n",
    "data.loc[data[data['Location']=='3 '].index,'Location'] = 'MH'\n",
    "data.loc[data[data['Location']=='7 '].index,'Location'] = 'MH'\n",
    "data.loc[data[data['Location']=='12'].index,'Location'] = 'MH'\n",
    "data.loc[data[data['Location']=='8 '].index,'Location'] = 'MH'\n",
    "data.loc[data[data['Location']=='2 '].index,'Location'] = 'MH'\n"
   ]
  },
  {
   "cell_type": "code",
   "execution_count": 55,
   "id": "5b547d4d",
   "metadata": {},
   "outputs": [
    {
     "data": {
      "text/plain": [
       "array(['HR', 'DL', 'UP', 'TN', 'MH', 'RJ', 'KR', 'KE', 'CH', 'OD', 'MP',\n",
       "       'JK', 'AS', 'BI', 'HY', 'GU', 'PJ', 'AP', 'UK', 'WB', 'MA', 'JH',\n",
       "       'TE', 'Gu', '', 'TI'], dtype=object)"
      ]
     },
     "execution_count": 55,
     "metadata": {},
     "output_type": "execute_result"
    }
   ],
   "source": [
    "data['Location'].unique()"
   ]
  },
  {
   "cell_type": "code",
   "execution_count": 56,
   "id": "5741f875",
   "metadata": {},
   "outputs": [
    {
     "data": {
      "text/html": [
       "<div>\n",
       "<style scoped>\n",
       "    .dataframe tbody tr th:only-of-type {\n",
       "        vertical-align: middle;\n",
       "    }\n",
       "\n",
       "    .dataframe tbody tr th {\n",
       "        vertical-align: top;\n",
       "    }\n",
       "\n",
       "    .dataframe thead th {\n",
       "        text-align: right;\n",
       "    }\n",
       "</style>\n",
       "<table border=\"1\" class=\"dataframe\">\n",
       "  <thead>\n",
       "    <tr style=\"text-align: right;\">\n",
       "      <th></th>\n",
       "      <th>Name</th>\n",
       "      <th>Manufacture</th>\n",
       "      <th>Model</th>\n",
       "      <th>Fuel</th>\n",
       "      <th>Driven</th>\n",
       "      <th>Automatic</th>\n",
       "      <th>Owner</th>\n",
       "      <th>Location</th>\n",
       "      <th>Price</th>\n",
       "    </tr>\n",
       "  </thead>\n",
       "  <tbody>\n",
       "    <tr>\n",
       "      <th>0</th>\n",
       "      <td>Hyundai Verna</td>\n",
       "      <td>2019</td>\n",
       "      <td>1.6 SX VTVT (O)</td>\n",
       "      <td>Petrol</td>\n",
       "      <td>80631.0</td>\n",
       "      <td>Manual</td>\n",
       "      <td>1</td>\n",
       "      <td>HR</td>\n",
       "      <td>981699</td>\n",
       "    </tr>\n",
       "    <tr>\n",
       "      <th>1</th>\n",
       "      <td>KIA SELTOS</td>\n",
       "      <td>2020</td>\n",
       "      <td>HTK PLUS 1.5 PETROL</td>\n",
       "      <td>Petrol</td>\n",
       "      <td>12981.0</td>\n",
       "      <td>Manual</td>\n",
       "      <td>2</td>\n",
       "      <td>HR</td>\n",
       "      <td>1155299</td>\n",
       "    </tr>\n",
       "    <tr>\n",
       "      <th>2</th>\n",
       "      <td>Renault Kwid</td>\n",
       "      <td>2016</td>\n",
       "      <td>RXT</td>\n",
       "      <td>Petrol</td>\n",
       "      <td>22388.0</td>\n",
       "      <td>Manual</td>\n",
       "      <td>1</td>\n",
       "      <td>DL</td>\n",
       "      <td>279799</td>\n",
       "    </tr>\n",
       "    <tr>\n",
       "      <th>3</th>\n",
       "      <td>Mercedes Benz C Class</td>\n",
       "      <td>2014</td>\n",
       "      <td>C 200 AVANTGARDE</td>\n",
       "      <td>Petrol</td>\n",
       "      <td>36806.0</td>\n",
       "      <td>Automatic</td>\n",
       "      <td>1</td>\n",
       "      <td>UP</td>\n",
       "      <td>2133299</td>\n",
       "    </tr>\n",
       "    <tr>\n",
       "      <th>4</th>\n",
       "      <td>KIA SELTOS</td>\n",
       "      <td>2020</td>\n",
       "      <td>HTX AT PETROL</td>\n",
       "      <td>Petrol</td>\n",
       "      <td>21784.0</td>\n",
       "      <td>Automatic</td>\n",
       "      <td>2</td>\n",
       "      <td>HR</td>\n",
       "      <td>1429999</td>\n",
       "    </tr>\n",
       "  </tbody>\n",
       "</table>\n",
       "</div>"
      ],
      "text/plain": [
       "                    Name  Manufacture                Model    Fuel   Driven  \\\n",
       "0          Hyundai Verna         2019      1.6 SX VTVT (O)  Petrol  80631.0   \n",
       "1             KIA SELTOS         2020  HTK PLUS 1.5 PETROL  Petrol  12981.0   \n",
       "2           Renault Kwid         2016                  RXT  Petrol  22388.0   \n",
       "3  Mercedes Benz C Class         2014     C 200 AVANTGARDE  Petrol  36806.0   \n",
       "4             KIA SELTOS         2020        HTX AT PETROL  Petrol  21784.0   \n",
       "\n",
       "   Automatic  Owner Location    Price  \n",
       "0     Manual      1       HR   981699  \n",
       "1     Manual      2       HR  1155299  \n",
       "2     Manual      1       DL   279799  \n",
       "3  Automatic      1       UP  2133299  \n",
       "4  Automatic      2       HR  1429999  "
      ]
     },
     "execution_count": 56,
     "metadata": {},
     "output_type": "execute_result"
    }
   ],
   "source": [
    "# In Location feature few columns have not correct data.\n",
    "\n",
    "data.head()"
   ]
  },
  {
   "cell_type": "code",
   "execution_count": 57,
   "id": "03804e0a",
   "metadata": {},
   "outputs": [
    {
     "name": "stdout",
     "output_type": "stream",
     "text": [
      "<class 'pandas.core.frame.DataFrame'>\n",
      "RangeIndex: 500 entries, 0 to 499\n",
      "Data columns (total 9 columns):\n",
      " #   Column       Non-Null Count  Dtype  \n",
      "---  ------       --------------  -----  \n",
      " 0   Name         500 non-null    object \n",
      " 1   Manufacture  500 non-null    int32  \n",
      " 2   Model        500 non-null    object \n",
      " 3   Fuel         500 non-null    object \n",
      " 4   Driven       496 non-null    float64\n",
      " 5   Automatic    500 non-null    object \n",
      " 6   Owner        500 non-null    int64  \n",
      " 7   Location     500 non-null    object \n",
      " 8   Price        500 non-null    int32  \n",
      "dtypes: float64(1), int32(2), int64(1), object(5)\n",
      "memory usage: 31.4+ KB\n"
     ]
    }
   ],
   "source": [
    "data.info()"
   ]
  },
  {
   "cell_type": "code",
   "execution_count": 58,
   "id": "aba0faff",
   "metadata": {},
   "outputs": [
    {
     "data": {
      "text/html": [
       "<div>\n",
       "<style scoped>\n",
       "    .dataframe tbody tr th:only-of-type {\n",
       "        vertical-align: middle;\n",
       "    }\n",
       "\n",
       "    .dataframe tbody tr th {\n",
       "        vertical-align: top;\n",
       "    }\n",
       "\n",
       "    .dataframe thead th {\n",
       "        text-align: right;\n",
       "    }\n",
       "</style>\n",
       "<table border=\"1\" class=\"dataframe\">\n",
       "  <thead>\n",
       "    <tr style=\"text-align: right;\">\n",
       "      <th></th>\n",
       "      <th>Name</th>\n",
       "      <th>Manufacture</th>\n",
       "      <th>Model</th>\n",
       "      <th>Fuel</th>\n",
       "      <th>Driven</th>\n",
       "      <th>Automatic</th>\n",
       "      <th>Owner</th>\n",
       "      <th>Location</th>\n",
       "      <th>Price</th>\n",
       "    </tr>\n",
       "  </thead>\n",
       "  <tbody>\n",
       "    <tr>\n",
       "      <th>248</th>\n",
       "      <td>Maruti Suzuki 800</td>\n",
       "      <td>2003</td>\n",
       "      <td>EX</td>\n",
       "      <td>PETROL</td>\n",
       "      <td>NaN</td>\n",
       "      <td>MANUAL</td>\n",
       "      <td>0</td>\n",
       "      <td>OD</td>\n",
       "      <td>40000</td>\n",
       "    </tr>\n",
       "    <tr>\n",
       "      <th>332</th>\n",
       "      <td>Maruti Suzuki Alto</td>\n",
       "      <td>2005</td>\n",
       "      <td>2000-2005 LXI</td>\n",
       "      <td>PETROL</td>\n",
       "      <td>NaN</td>\n",
       "      <td>MANUAL</td>\n",
       "      <td>1</td>\n",
       "      <td>PJ</td>\n",
       "      <td>60000</td>\n",
       "    </tr>\n",
       "    <tr>\n",
       "      <th>339</th>\n",
       "      <td>Maruti Suzuki 800</td>\n",
       "      <td>2007</td>\n",
       "      <td>AC</td>\n",
       "      <td>PETROL</td>\n",
       "      <td>NaN</td>\n",
       "      <td>MANUAL</td>\n",
       "      <td>0</td>\n",
       "      <td>OD</td>\n",
       "      <td>60000</td>\n",
       "    </tr>\n",
       "    <tr>\n",
       "      <th>440</th>\n",
       "      <td>Maruti Suzuki Omni</td>\n",
       "      <td>2011</td>\n",
       "      <td>LPG BS-III</td>\n",
       "      <td>LPG</td>\n",
       "      <td>NaN</td>\n",
       "      <td>MANUAL</td>\n",
       "      <td>2</td>\n",
       "      <td>RJ</td>\n",
       "      <td>140000</td>\n",
       "    </tr>\n",
       "  </tbody>\n",
       "</table>\n",
       "</div>"
      ],
      "text/plain": [
       "                    Name  Manufacture          Model    Fuel  Driven  \\\n",
       "248   Maruti Suzuki 800          2003             EX  PETROL     NaN   \n",
       "332  Maruti Suzuki Alto          2005  2000-2005 LXI  PETROL     NaN   \n",
       "339   Maruti Suzuki 800          2007             AC  PETROL     NaN   \n",
       "440  Maruti Suzuki Omni          2011     LPG BS-III     LPG     NaN   \n",
       "\n",
       "    Automatic  Owner Location   Price  \n",
       "248    MANUAL      0       OD   40000  \n",
       "332    MANUAL      1       PJ   60000  \n",
       "339    MANUAL      0       OD   60000  \n",
       "440    MANUAL      2       RJ  140000  "
      ]
     },
     "execution_count": 58,
     "metadata": {},
     "output_type": "execute_result"
    }
   ],
   "source": [
    "data[data['Driven'].isnull()]"
   ]
  },
  {
   "cell_type": "code",
   "execution_count": 59,
   "id": "843f04dd",
   "metadata": {},
   "outputs": [
    {
     "data": {
      "text/html": [
       "<div>\n",
       "<style scoped>\n",
       "    .dataframe tbody tr th:only-of-type {\n",
       "        vertical-align: middle;\n",
       "    }\n",
       "\n",
       "    .dataframe tbody tr th {\n",
       "        vertical-align: top;\n",
       "    }\n",
       "\n",
       "    .dataframe thead th {\n",
       "        text-align: right;\n",
       "    }\n",
       "</style>\n",
       "<table border=\"1\" class=\"dataframe\">\n",
       "  <thead>\n",
       "    <tr style=\"text-align: right;\">\n",
       "      <th></th>\n",
       "      <th>Manufacture</th>\n",
       "      <th>Driven</th>\n",
       "      <th>Owner</th>\n",
       "      <th>Price</th>\n",
       "    </tr>\n",
       "  </thead>\n",
       "  <tbody>\n",
       "    <tr>\n",
       "      <th>Manufacture</th>\n",
       "      <td>1.000000</td>\n",
       "      <td>-0.321049</td>\n",
       "      <td>-0.416437</td>\n",
       "      <td>0.353275</td>\n",
       "    </tr>\n",
       "    <tr>\n",
       "      <th>Driven</th>\n",
       "      <td>-0.321049</td>\n",
       "      <td>1.000000</td>\n",
       "      <td>0.346642</td>\n",
       "      <td>-0.151474</td>\n",
       "    </tr>\n",
       "    <tr>\n",
       "      <th>Owner</th>\n",
       "      <td>-0.416437</td>\n",
       "      <td>0.346642</td>\n",
       "      <td>1.000000</td>\n",
       "      <td>-0.181997</td>\n",
       "    </tr>\n",
       "    <tr>\n",
       "      <th>Price</th>\n",
       "      <td>0.353275</td>\n",
       "      <td>-0.151474</td>\n",
       "      <td>-0.181997</td>\n",
       "      <td>1.000000</td>\n",
       "    </tr>\n",
       "  </tbody>\n",
       "</table>\n",
       "</div>"
      ],
      "text/plain": [
       "             Manufacture    Driven     Owner     Price\n",
       "Manufacture     1.000000 -0.321049 -0.416437  0.353275\n",
       "Driven         -0.321049  1.000000  0.346642 -0.151474\n",
       "Owner          -0.416437  0.346642  1.000000 -0.181997\n",
       "Price           0.353275 -0.151474 -0.181997  1.000000"
      ]
     },
     "execution_count": 59,
     "metadata": {},
     "output_type": "execute_result"
    }
   ],
   "source": [
    "# Driven means km already runned is a important factor to determins price\n",
    "\n",
    "data.corr()"
   ]
  },
  {
   "cell_type": "code",
   "execution_count": 60,
   "id": "62f37547",
   "metadata": {},
   "outputs": [
    {
     "data": {
      "text/plain": [
       "<AxesSubplot:>"
      ]
     },
     "execution_count": 60,
     "metadata": {},
     "output_type": "execute_result"
    },
    {
     "data": {
      "image/png": "[encoded data removed]",
      "text/plain": [
       "<Figure size 432x288 with 2 Axes>"
      ]
     },
     "metadata": {
      "needs_background": "light"
     },
     "output_type": "display_data"
    }
   ],
   "source": [
    "sns.heatmap(data.corr(), annot=True)"
   ]
  },
  {
   "cell_type": "code",
   "execution_count": 61,
   "id": "071ed75c",
   "metadata": {},
   "outputs": [
    {
     "data": {
      "text/plain": [
       "array(['Hyundai Verna', 'KIA SELTOS', 'Renault Kwid',\n",
       "       'Mercedes Benz C Class', 'Maruti Baleno', 'Maruti Wagon R 1.0',\n",
       "       'Hyundai i10', 'Jaguar XF', 'Maruti Alto 800', 'Maruti Alto K10',\n",
       "       'Maruti Swift', 'Jeep Compass', 'Hyundai VENUE', 'MG HECTOR PLUS',\n",
       "       'Hyundai Elite i20', 'Nissan Micra', 'Honda City', 'Renault Kiger',\n",
       "       'Maruti Ciaz', 'Skoda Rapid', 'Toyota Fortuner', 'Hyundai i20',\n",
       "       'Hyundai Grand i10', 'Mercedes Benz E Class',\n",
       "       'Toyota URBAN CRUISER', 'Datsun Redi Go', 'Maruti Vitara Brezza',\n",
       "       'Renault Duster', 'Honda CRV', 'MG HECTOR', 'Hyundai Creta',\n",
       "       'Tata Tiago', 'Toyota Innova', 'Honda Jazz',\n",
       "       'Mahindra KUV 100 NXT', 'Mahindra Thar', 'Maruti Suzuki Swift ',\n",
       "       'Renault Duster ', 'Maruti Suzuki Celerio ', 'Ford Figo ',\n",
       "       'Maruti Suzuki Ertiga ', 'Maruti Suzuki Omni ',\n",
       "       'Maruti Suzuki 800 ', 'Maruti Suzuki Ciaz ', 'Mahindra Xuv500 ',\n",
       "       'Mahindra Bolero ', 'Hyundai Elite I20 ', 'Mercedes-Benz E-Class ',\n",
       "       'Toyota Innova ', 'Maruti Suzuki Eeco ', 'Hyundai I20 ',\n",
       "       'Honda Wr-V ', 'Renault Kwid ', 'Honda Jazz ', 'Renault Lodgy ',\n",
       "       'Hyundai Fluidic Verna ', 'Toyota Innova Crysta ',\n",
       "       'Maruti Suzuki Baleno ', 'Honda Amaze ', 'Nissan Terrano ',\n",
       "       'Honda City Zx ', 'Hyundai I10 ', 'Audi Q3 ', 'Honda Brio ',\n",
       "       'Maruti Suzuki Wagon R 1.0 ', 'Hyundai Sonata ', 'Nissan Micra ',\n",
       "       'Maruti Suzuki Grand Vitara ', 'Honda City ', 'Maruti Suzuki Zen ',\n",
       "       'Maruti Suzuki Alto ', 'Jeep Compass ', 'Hyundai Santro Xing ',\n",
       "       'Maruti Suzuki Wagon R Duo ', 'Mahindra Marazzo ',\n",
       "       'Mahindra Tuv 300 ', 'Mahindra Scorpio ', 'Hyundai Accent ',\n",
       "       'San Storm ', 'Fiat Grande Punto ', 'Tata Nexon ',\n",
       "       'Force Motors Trax Cruiser ', 'Tata Indica ', 'Maruti Suzuki Sx4 ',\n",
       "       'Maruti Suzuki Wagon R ', 'Maruti Suzuki Swift Dzire ',\n",
       "       'Toyota Fortuner ', 'Maruti Suzuki Ritz ', 'Toyota Etios Cross ',\n",
       "       'Hyundai Eon ', 'Maruti Suzuki Versa ', 'Maruti Suzuki Ignis ',\n",
       "       'Maruti Suzuki Alto 800 ', 'Renault Fluence ',\n",
       "       'Toyota Corolla Altis ', 'Hyundai Creta ', 'Chevrolet Spark ',\n",
       "       'Mahindra Xylo ', 'Mg Hector ', 'Toyota Etios ',\n",
       "       'Chevrolet Tavera ', 'Porsche Cayman ', 'Volkswagen Polo ',\n",
       "       'Maruti Suzuki A-Star ', 'Mercedes-Benz New C-Class ',\n",
       "       'Nissan Datsun Redi Go ', 'Tata Hexa ', 'Hyundai Grand I 10 ',\n",
       "       'Jaguar Xf ', 'Renault Pulse ', 'Honda Cr-V ', 'Chevrolet Beat ',\n",
       "       'Force Motors Force One ', 'Tata Safari ', 'Ford Figo Aspire ',\n",
       "       'Ford Fiesta Classic ', 'Audi A4 ', 'Tata Vista ',\n",
       "       'Hyundai Venue ', 'Hyundai Verna ', 'Hyundai Grand I10 ',\n",
       "       'Tata Manza ', 'Honda Civic ', 'Chevrolet Enjoy ',\n",
       "       'Tata Indigo Ecs ', 'Mercedes-Benz Gla ', 'Toyota Glanza ',\n",
       "       'Nissan Sunny ', 'Ford Endeavour ', 'Ford Ecosport ',\n",
       "       'Toyota Qualis ', 'Jeep Wrangler ', 'Skoda Rapid ',\n",
       "       'Tata Sumo Grande Mk Ii ', 'Tata Indica V2 ', 'Mahindra Thar ',\n",
       "       'Renault Scala ', 'Volkswagen Vento ', 'Tata Indica Vista ',\n",
       "       'Mercedes-Benz C-Class ', 'Maruti Suzuki Vitara Brezza ',\n",
       "       'Datsun Go ', 'Mercedes-Benz Glc Class ', 'Bmw 3 Series ',\n",
       "       'Hyundai Santa Fe ', 'Hyundai Getz ', 'Hummer H3 ',\n",
       "       'Chevrolet Sail U-Va ', 'Maruti Suzuki 1000 ', 'Tata Tiago Nrg ',\n",
       "       'Hindustan Motors Ambassador ', 'Mg Astor ',\n",
       "       'Mahindra Bolero Power Plus ', 'Maruti Suzuki Zen Estilo ',\n",
       "       'Bmw 5 Series ', 'Maruti Suzuki Alto K10 ', 'Bmw X1 ',\n",
       "       'Maruti Suzuki Xl6 ', 'Hyundai Xcent ', 'Mahindra Jeep ',\n",
       "       'Maruti Suzuki Wagon R Stingray ', 'Toyota Corolla ', 'Audi A6 ',\n",
       "       'Mercedes-Benz Cla ', 'Mahindra Xuv300 ', 'Ford Fiesta ',\n",
       "       'Volvo S60 ', 'Kia Seltos ', 'Maruti Suzuki Swift Dzire Tour ',\n",
       "       'Tata Nano ', 'Maruti Suzuki S-Presso ', 'Mercedes-Benz Sl-Class ',\n",
       "       'Maruti Suzuki S Cross ', 'Ford Aspire ', 'Bmw 7 Series ',\n",
       "       'Hyundai Elantra ', 'Mercedes-Benz Gle Class ', 'Jaguar Xj ',\n",
       "       'Mercedes Benz C Class ', 'Honda New Accord '], dtype=object)"
      ]
     },
     "execution_count": 61,
     "metadata": {},
     "output_type": "execute_result"
    }
   ],
   "source": [
    "# extract company name because brand always matters\n",
    "\n",
    "data['Name'].unique()"
   ]
  },
  {
   "cell_type": "code",
   "execution_count": 62,
   "id": "ca124df5",
   "metadata": {},
   "outputs": [],
   "source": [
    "data['Brand']=data['Name'].str.split(' ').str.slice(0,1).str.join(' ')"
   ]
  },
  {
   "cell_type": "code",
   "execution_count": 63,
   "id": "6df2b50f",
   "metadata": {},
   "outputs": [
    {
     "data": {
      "text/html": [
       "<div>\n",
       "<style scoped>\n",
       "    .dataframe tbody tr th:only-of-type {\n",
       "        vertical-align: middle;\n",
       "    }\n",
       "\n",
       "    .dataframe tbody tr th {\n",
       "        vertical-align: top;\n",
       "    }\n",
       "\n",
       "    .dataframe thead th {\n",
       "        text-align: right;\n",
       "    }\n",
       "</style>\n",
       "<table border=\"1\" class=\"dataframe\">\n",
       "  <thead>\n",
       "    <tr style=\"text-align: right;\">\n",
       "      <th></th>\n",
       "      <th>Name</th>\n",
       "      <th>Manufacture</th>\n",
       "      <th>Model</th>\n",
       "      <th>Fuel</th>\n",
       "      <th>Driven</th>\n",
       "      <th>Automatic</th>\n",
       "      <th>Owner</th>\n",
       "      <th>Location</th>\n",
       "      <th>Price</th>\n",
       "      <th>Brand</th>\n",
       "    </tr>\n",
       "  </thead>\n",
       "  <tbody>\n",
       "    <tr>\n",
       "      <th>0</th>\n",
       "      <td>Hyundai Verna</td>\n",
       "      <td>2019</td>\n",
       "      <td>1.6 SX VTVT (O)</td>\n",
       "      <td>Petrol</td>\n",
       "      <td>80631.0</td>\n",
       "      <td>Manual</td>\n",
       "      <td>1</td>\n",
       "      <td>HR</td>\n",
       "      <td>981699</td>\n",
       "      <td>Hyundai</td>\n",
       "    </tr>\n",
       "    <tr>\n",
       "      <th>1</th>\n",
       "      <td>KIA SELTOS</td>\n",
       "      <td>2020</td>\n",
       "      <td>HTK PLUS 1.5 PETROL</td>\n",
       "      <td>Petrol</td>\n",
       "      <td>12981.0</td>\n",
       "      <td>Manual</td>\n",
       "      <td>2</td>\n",
       "      <td>HR</td>\n",
       "      <td>1155299</td>\n",
       "      <td>KIA</td>\n",
       "    </tr>\n",
       "    <tr>\n",
       "      <th>2</th>\n",
       "      <td>Renault Kwid</td>\n",
       "      <td>2016</td>\n",
       "      <td>RXT</td>\n",
       "      <td>Petrol</td>\n",
       "      <td>22388.0</td>\n",
       "      <td>Manual</td>\n",
       "      <td>1</td>\n",
       "      <td>DL</td>\n",
       "      <td>279799</td>\n",
       "      <td>Renault</td>\n",
       "    </tr>\n",
       "    <tr>\n",
       "      <th>3</th>\n",
       "      <td>Mercedes Benz C Class</td>\n",
       "      <td>2014</td>\n",
       "      <td>C 200 AVANTGARDE</td>\n",
       "      <td>Petrol</td>\n",
       "      <td>36806.0</td>\n",
       "      <td>Automatic</td>\n",
       "      <td>1</td>\n",
       "      <td>UP</td>\n",
       "      <td>2133299</td>\n",
       "      <td>Mercedes</td>\n",
       "    </tr>\n",
       "    <tr>\n",
       "      <th>4</th>\n",
       "      <td>KIA SELTOS</td>\n",
       "      <td>2020</td>\n",
       "      <td>HTX AT PETROL</td>\n",
       "      <td>Petrol</td>\n",
       "      <td>21784.0</td>\n",
       "      <td>Automatic</td>\n",
       "      <td>2</td>\n",
       "      <td>HR</td>\n",
       "      <td>1429999</td>\n",
       "      <td>KIA</td>\n",
       "    </tr>\n",
       "  </tbody>\n",
       "</table>\n",
       "</div>"
      ],
      "text/plain": [
       "                    Name  Manufacture                Model    Fuel   Driven  \\\n",
       "0          Hyundai Verna         2019      1.6 SX VTVT (O)  Petrol  80631.0   \n",
       "1             KIA SELTOS         2020  HTK PLUS 1.5 PETROL  Petrol  12981.0   \n",
       "2           Renault Kwid         2016                  RXT  Petrol  22388.0   \n",
       "3  Mercedes Benz C Class         2014     C 200 AVANTGARDE  Petrol  36806.0   \n",
       "4             KIA SELTOS         2020        HTX AT PETROL  Petrol  21784.0   \n",
       "\n",
       "   Automatic  Owner Location    Price     Brand  \n",
       "0     Manual      1       HR   981699   Hyundai  \n",
       "1     Manual      2       HR  1155299       KIA  \n",
       "2     Manual      1       DL   279799   Renault  \n",
       "3  Automatic      1       UP  2133299  Mercedes  \n",
       "4  Automatic      2       HR  1429999       KIA  "
      ]
     },
     "execution_count": 63,
     "metadata": {},
     "output_type": "execute_result"
    }
   ],
   "source": [
    "data.head()"
   ]
  },
  {
   "cell_type": "code",
   "execution_count": 64,
   "id": "d50e9dac",
   "metadata": {},
   "outputs": [
    {
     "data": {
      "text/plain": [
       "array(['Hyundai', 'KIA', 'Renault', 'Mercedes', 'Maruti', 'Jaguar',\n",
       "       'Jeep', 'MG', 'Nissan', 'Honda', 'Skoda', 'Toyota', 'Datsun',\n",
       "       'Tata', 'Mahindra', 'Ford', 'Mercedes-Benz', 'Audi', 'San', 'Fiat',\n",
       "       'Force', 'Chevrolet', 'Mg', 'Porsche', 'Volkswagen', 'Bmw',\n",
       "       'Hummer', 'Hindustan', 'Volvo', 'Kia'], dtype=object)"
      ]
     },
     "execution_count": 64,
     "metadata": {},
     "output_type": "execute_result"
    }
   ],
   "source": [
    "data['Brand'].unique()"
   ]
  },
  {
   "cell_type": "code",
   "execution_count": 65,
   "id": "db9e06e0",
   "metadata": {},
   "outputs": [],
   "source": [
    "data['Brand']=data['Brand'].replace('Kia','KIA')\n",
    "data['Brand']=data['Brand'].replace('Mg','MG')\n",
    "data['Brand']=data['Brand'].replace('Mercedes-Benz','Mercedes')"
   ]
  },
  {
   "cell_type": "code",
   "execution_count": 66,
   "id": "e2d31b44",
   "metadata": {},
   "outputs": [
    {
     "data": {
      "text/plain": [
       "array([2019, 2020, 2016, 2014, 2018, 2011, 2013, 2009, 2021, 2010, 2015,\n",
       "       2017, 2002, 2012, 2007, 2008, 2006, 2004, 2003, 2005, 2001, 1998,\n",
       "       2022, 1990, 2000, 1996])"
      ]
     },
     "execution_count": 66,
     "metadata": {},
     "output_type": "execute_result"
    }
   ],
   "source": [
    "data['Manufacture'].unique()"
   ]
  },
  {
   "cell_type": "code",
   "execution_count": 67,
   "id": "384106cd",
   "metadata": {},
   "outputs": [
    {
     "data": {
      "text/plain": [
       "362"
      ]
     },
     "execution_count": 67,
     "metadata": {},
     "output_type": "execute_result"
    }
   ],
   "source": [
    "data['Model'].nunique()"
   ]
  },
  {
   "cell_type": "code",
   "execution_count": 68,
   "id": "f972b307",
   "metadata": {},
   "outputs": [],
   "source": [
    "# Model have 856 unique categories,"
   ]
  },
  {
   "cell_type": "code",
   "execution_count": 69,
   "id": "5eed6acd",
   "metadata": {},
   "outputs": [
    {
     "data": {
      "text/plain": [
       "array(['Petrol', 'Diesel', 'PETROL', 'DIESEL', 'ELECTRIC',\n",
       "       'CNG & HYBRIDS', 'CNG', 'LPG', '--'], dtype=object)"
      ]
     },
     "execution_count": 69,
     "metadata": {},
     "output_type": "execute_result"
    }
   ],
   "source": [
    "data['Fuel'].unique()"
   ]
  },
  {
   "cell_type": "code",
   "execution_count": 70,
   "id": "56d383e5",
   "metadata": {},
   "outputs": [],
   "source": [
    "data['Fuel']=data['Fuel'].replace('PETROL','Petrol')\n",
    "data['Fuel']=data['Fuel'].replace('DIESEL','Diesel')\n"
   ]
  },
  {
   "cell_type": "code",
   "execution_count": 71,
   "id": "53c549c5",
   "metadata": {},
   "outputs": [
    {
     "data": {
      "text/plain": [
       "array(['Petrol', 'Diesel', 'ELECTRIC', 'CNG & HYBRIDS', 'CNG', 'LPG',\n",
       "       '--'], dtype=object)"
      ]
     },
     "execution_count": 71,
     "metadata": {},
     "output_type": "execute_result"
    }
   ],
   "source": [
    "data['Fuel'].unique()"
   ]
  },
  {
   "cell_type": "code",
   "execution_count": 72,
   "id": "1c7c96f3",
   "metadata": {},
   "outputs": [
    {
     "data": {
      "text/html": [
       "<div>\n",
       "<style scoped>\n",
       "    .dataframe tbody tr th:only-of-type {\n",
       "        vertical-align: middle;\n",
       "    }\n",
       "\n",
       "    .dataframe tbody tr th {\n",
       "        vertical-align: top;\n",
       "    }\n",
       "\n",
       "    .dataframe thead th {\n",
       "        text-align: right;\n",
       "    }\n",
       "</style>\n",
       "<table border=\"1\" class=\"dataframe\">\n",
       "  <thead>\n",
       "    <tr style=\"text-align: right;\">\n",
       "      <th></th>\n",
       "      <th>Name</th>\n",
       "      <th>Manufacture</th>\n",
       "      <th>Model</th>\n",
       "      <th>Fuel</th>\n",
       "      <th>Driven</th>\n",
       "      <th>Automatic</th>\n",
       "      <th>Owner</th>\n",
       "      <th>Location</th>\n",
       "      <th>Price</th>\n",
       "      <th>Brand</th>\n",
       "    </tr>\n",
       "  </thead>\n",
       "  <tbody>\n",
       "    <tr>\n",
       "      <th>343</th>\n",
       "      <td>Nissan Terrano</td>\n",
       "      <td>2015</td>\n",
       "      <td>Others</td>\n",
       "      <td>--</td>\n",
       "      <td>60000.0</td>\n",
       "      <td>MANUAL</td>\n",
       "      <td>1</td>\n",
       "      <td>MH</td>\n",
       "      <td>600000</td>\n",
       "      <td>Nissan</td>\n",
       "    </tr>\n",
       "  </tbody>\n",
       "</table>\n",
       "</div>"
      ],
      "text/plain": [
       "                Name  Manufacture   Model Fuel   Driven Automatic  Owner  \\\n",
       "343  Nissan Terrano          2015  Others   --  60000.0    MANUAL      1   \n",
       "\n",
       "    Location   Price   Brand  \n",
       "343       MH  600000  Nissan  "
      ]
     },
     "execution_count": 72,
     "metadata": {},
     "output_type": "execute_result"
    }
   ],
   "source": [
    "data[data['Fuel']=='--']"
   ]
  },
  {
   "cell_type": "code",
   "execution_count": 73,
   "id": "56dd4922",
   "metadata": {},
   "outputs": [],
   "source": [
    "data.loc[data[data['Fuel']=='--'].index,'Fuel'] = 'Diesel'"
   ]
  },
  {
   "cell_type": "code",
   "execution_count": 74,
   "id": "ca3c22ab",
   "metadata": {},
   "outputs": [
    {
     "data": {
      "text/plain": [
       "array(['Petrol', 'Diesel', 'ELECTRIC', 'CNG & HYBRIDS', 'CNG', 'LPG'],\n",
       "      dtype=object)"
      ]
     },
     "execution_count": 74,
     "metadata": {},
     "output_type": "execute_result"
    }
   ],
   "source": [
    "data['Fuel'].unique()"
   ]
  },
  {
   "cell_type": "code",
   "execution_count": 75,
   "id": "9274bc8a",
   "metadata": {},
   "outputs": [
    {
     "data": {
      "text/plain": [
       "array([8.06310e+04, 1.29810e+04, 2.23880e+04, 3.68060e+04, 2.17840e+04,\n",
       "       2.03300e+04, 5.47230e+04, 4.75470e+04, 2.82890e+04, 4.03690e+04,\n",
       "       4.43190e+04, 2.32770e+04, 3.22510e+04, 4.64000e+04, 2.14900e+04,\n",
       "       2.77500e+03, 2.25050e+04, 2.26380e+04, 2.88430e+04, 6.34330e+04,\n",
       "       4.52460e+04, 1.25110e+04, 6.34400e+03, 2.21300e+03, 9.37000e+03,\n",
       "       1.13990e+04, 4.89150e+04, 5.11050e+04, 9.00860e+04, 6.67820e+04,\n",
       "       4.24220e+04, 1.32230e+04, 3.45660e+04, 4.28810e+04, 5.45170e+04,\n",
       "       1.18280e+04, 2.96450e+04, 4.55500e+03, 7.76000e+03, 2.64750e+04,\n",
       "       6.07740e+04, 2.08300e+04, 5.28700e+03, 6.96200e+03, 7.21200e+03,\n",
       "       2.57200e+03, 2.99740e+04, 7.39370e+04, 4.53600e+03, 3.06970e+04,\n",
       "       1.28550e+04, 8.71700e+03, 4.01930e+04, 4.52770e+04, 6.56800e+03,\n",
       "       1.81910e+04, 8.22950e+04, 2.37330e+04, 9.83500e+03, 3.12000e+03,\n",
       "       5.10000e+04, 7.42530e+04, 3.62130e+04, 7.00000e+04, 1.35000e+05,\n",
       "       7.50000e+04, 1.20000e+05, 5.00000e+04, 8.70000e+04, 7.80000e+04,\n",
       "       6.20000e+04, 6.40000e+04, 1.95000e+05, 1.98000e+05, 8.10000e+04,\n",
       "       1.50000e+04, 2.60000e+04, 8.05000e+04, 2.30000e+04, 6.00000e+04,\n",
       "       1.80000e+04, 1.60000e+05, 3.70000e+04, 2.60000e+05, 2.70000e+04,\n",
       "       5.90000e+04, 6.10000e+04, 6.32000e+04, 1.10000e+05, 6.50000e+04,\n",
       "       8.58000e+04, 0.00000e+00, 6.53980e+04, 4.40000e+04, 8.80000e+04,\n",
       "       3.60000e+04, 6.30000e+04, 9.00000e+04, 5.70000e+04, 3.50000e+04,\n",
       "       9.20000e+04, 8.30000e+04, 1.18000e+05, 2.80000e+04, 5.80000e+04,\n",
       "       7.07105e+05, 4.00000e+03, 1.40000e+05, 2.06140e+04, 1.42058e+05,\n",
       "       1.13346e+05, 1.00000e+05, 1.13000e+05, 3.40000e+04, 2.61000e+05,\n",
       "       6.70000e+04, 6.80000e+04, 9.83150e+04, 1.00000e+04, 3.00000e+03,\n",
       "       1.05000e+05, 4.70000e+04, 9.30000e+04, 9.88000e+04, 7.70000e+04,\n",
       "       7.20000e+04, 8.00000e+04, 1.14000e+05, 3.45000e+03, 4.55480e+04,\n",
       "       2.40000e+04, 4.20560e+04, 2.90000e+04, 1.51734e+05, 1.43000e+05,\n",
       "       3.10000e+04, 2.00000e+04, 9.80000e+04, 1.30000e+05, 7.50000e+03,\n",
       "       7.60000e+04, 9.04800e+04, 1.25000e+05, 7.16260e+04, 5.50000e+04,\n",
       "       1.34000e+05, 2.35000e+05, 8.50000e+04, 4.00000e+04, 3.00000e+04,\n",
       "       8.12000e+04, 4.20000e+04, 4.80000e+04, 1.90000e+04, 1.11200e+05,\n",
       "       2.50550e+04, 2.50000e+04, 3.90000e+04, 2.40000e+05, 2.20000e+04,\n",
       "       3.05000e+04, 4.56300e+04, 1.50000e+05, 9.50000e+04, 8.30250e+04,\n",
       "       1.80000e+05, 5.50000e+03, 2.32140e+04, 8.20000e+04, 7.90000e+04,\n",
       "       1.65000e+05, 4.50000e+04, 9.10000e+04, 2.81080e+04, 4.12510e+04,\n",
       "       8.35450e+04,         nan, 1.49000e+05, 7.85230e+04, 2.30000e+05,\n",
       "       1.17000e+05, 2.51830e+04, 5.56000e+04, 9.90000e+04, 1.35000e+04,\n",
       "       1.15000e+05, 4.45000e+04, 1.45000e+05, 2.60000e+03, 4.30000e+04,\n",
       "       6.90000e+04, 1.75850e+05, 5.40000e+04, 8.84000e+04, 1.50000e+01,\n",
       "       1.08000e+05, 2.00000e+05, 1.36000e+05, 8.60000e+04, 7.10000e+04,\n",
       "       1.27346e+05, 5.00000e+03, 7.40000e+04, 1.85000e+05, 1.02000e+05,\n",
       "       6.12580e+04, 9.40000e+04, 1.20822e+05, 3.30000e+03, 7.15000e+04,\n",
       "       1.48000e+05, 7.84440e+04, 7.84560e+04, 5.84440e+04, 6.19000e+04,\n",
       "       6.57390e+04, 1.44255e+05, 9.34500e+04, 9.60000e+04, 3.98100e+04,\n",
       "       5.05070e+04, 7.90000e+03, 1.11000e+05, 3.80000e+04, 1.30000e+01,\n",
       "       2.00000e+03, 1.75000e+05, 1.20375e+05, 8.40600e+04, 6.50000e+03,\n",
       "       1.22000e+05, 5.30000e+04, 5.60000e+04, 1.28000e+05, 1.03000e+05,\n",
       "       8.40000e+04, 7.00000e+03, 3.12000e+05, 1.20100e+05, 6.20310e+04,\n",
       "       2.05000e+04, 6.60000e+04, 5.20000e+04, 2.70000e+05, 1.32532e+05,\n",
       "       1.24000e+05, 6.18030e+04, 7.75000e+04, 9.89900e+03, 1.47000e+04,\n",
       "       3.20000e+04, 1.14108e+05, 1.04750e+05, 1.08750e+05, 4.90000e+04,\n",
       "       1.20000e+04, 1.68000e+05, 9.08000e+04, 6.25000e+04, 1.35280e+05])"
      ]
     },
     "execution_count": 75,
     "metadata": {},
     "output_type": "execute_result"
    }
   ],
   "source": [
    "data['Driven'].unique()"
   ]
  },
  {
   "cell_type": "code",
   "execution_count": 76,
   "id": "4ec4d5d0",
   "metadata": {},
   "outputs": [
    {
     "data": {
      "text/plain": [
       "array(['Manual', 'Automatic', 'MT', 'MANUAL', 'AUTOMATIC', '--'],\n",
       "      dtype=object)"
      ]
     },
     "execution_count": 76,
     "metadata": {},
     "output_type": "execute_result"
    }
   ],
   "source": [
    "data['Automatic'].unique()"
   ]
  },
  {
   "cell_type": "code",
   "execution_count": 77,
   "id": "1c18649e",
   "metadata": {},
   "outputs": [
    {
     "data": {
      "text/plain": [
       "MANUAL       325\n",
       "AUTOMATIC    104\n",
       "Manual        43\n",
       "Automatic     16\n",
       "--            11\n",
       "MT             1\n",
       "Name: Automatic, dtype: int64"
      ]
     },
     "execution_count": 77,
     "metadata": {},
     "output_type": "execute_result"
    }
   ],
   "source": [
    "data['Automatic'].value_counts()"
   ]
  },
  {
   "cell_type": "code",
   "execution_count": 78,
   "id": "1f52f0ef",
   "metadata": {},
   "outputs": [],
   "source": [
    "data['Automatic']=data['Automatic'].replace('MANUAL','Manual')\n",
    "data['Automatic']=data['Automatic'].replace('AUTOMATIC','Automatic')"
   ]
  },
  {
   "cell_type": "code",
   "execution_count": 79,
   "id": "e316595c",
   "metadata": {},
   "outputs": [
    {
     "data": {
      "text/plain": [
       "Manual       368\n",
       "Automatic    120\n",
       "--            11\n",
       "MT             1\n",
       "Name: Automatic, dtype: int64"
      ]
     },
     "execution_count": 79,
     "metadata": {},
     "output_type": "execute_result"
    }
   ],
   "source": [
    "data['Automatic'].value_counts()"
   ]
  },
  {
   "cell_type": "code",
   "execution_count": 80,
   "id": "3fac6697",
   "metadata": {},
   "outputs": [
    {
     "data": {
      "text/plain": [
       "Int64Index([35, 122, 164, 165, 253, 283, 284, 299, 320, 371, 421, 498], dtype='int64')"
      ]
     },
     "execution_count": 80,
     "metadata": {},
     "output_type": "execute_result"
    }
   ],
   "source": [
    "data[(data['Automatic']!='Automatic') & (data['Automatic']!='Manual')].index"
   ]
  },
  {
   "cell_type": "code",
   "execution_count": 81,
   "id": "f60aa088",
   "metadata": {},
   "outputs": [],
   "source": [
    "data.loc[data[(data['Automatic']!='Automatic') & (data['Automatic']!='Manual')].index,'Automatic'] = 'Manual'"
   ]
  },
  {
   "cell_type": "code",
   "execution_count": 82,
   "id": "4f44d960",
   "metadata": {},
   "outputs": [
    {
     "data": {
      "text/plain": [
       "Manual       380\n",
       "Automatic    120\n",
       "Name: Automatic, dtype: int64"
      ]
     },
     "execution_count": 82,
     "metadata": {},
     "output_type": "execute_result"
    }
   ],
   "source": [
    "data['Automatic'].value_counts()"
   ]
  },
  {
   "cell_type": "code",
   "execution_count": 83,
   "id": "1bd3b2bf",
   "metadata": {},
   "outputs": [
    {
     "data": {
      "text/plain": [
       "array([1, 2, 3, 4, 0], dtype=int64)"
      ]
     },
     "execution_count": 83,
     "metadata": {},
     "output_type": "execute_result"
    }
   ],
   "source": [
    "data['Owner'].unique()"
   ]
  },
  {
   "cell_type": "code",
   "execution_count": 84,
   "id": "fcaaea87",
   "metadata": {},
   "outputs": [
    {
     "data": {
      "text/plain": [
       "array(['HR', 'DL', 'UP', 'TN', 'MH', 'RJ', 'KR', 'KE', 'CH', 'OD', 'MP',\n",
       "       'JK', 'AS', 'BI', 'HY', 'GU', 'PJ', 'AP', 'UK', 'WB', 'MA', 'JH',\n",
       "       'TE', 'Gu', '', 'TI'], dtype=object)"
      ]
     },
     "execution_count": 84,
     "metadata": {},
     "output_type": "execute_result"
    }
   ],
   "source": [
    "data['Location'].unique()"
   ]
  },
  {
   "cell_type": "code",
   "execution_count": 85,
   "id": "1ef9480a",
   "metadata": {},
   "outputs": [],
   "source": [
    "data['Location']=data['Location'].replace('Gu',\"GU\")\n",
    "data['Location']=data['Location'].replace('GJ',\"GU\")"
   ]
  },
  {
   "cell_type": "code",
   "execution_count": 86,
   "id": "1eaa13da",
   "metadata": {},
   "outputs": [
    {
     "data": {
      "text/plain": [
       "array(['HR', 'DL', 'UP', 'TN', 'MH', 'RJ', 'KR', 'KE', 'CH', 'OD', 'MP',\n",
       "       'JK', 'AS', 'BI', 'HY', 'GU', 'PJ', 'AP', 'UK', 'WB', 'MA', 'JH',\n",
       "       'TE', '', 'TI'], dtype=object)"
      ]
     },
     "execution_count": 86,
     "metadata": {},
     "output_type": "execute_result"
    }
   ],
   "source": [
    "data['Location'].unique()"
   ]
  },
  {
   "cell_type": "code",
   "execution_count": 87,
   "id": "d12551a0",
   "metadata": {},
   "outputs": [
    {
     "data": {
      "text/html": [
       "<div>\n",
       "<style scoped>\n",
       "    .dataframe tbody tr th:only-of-type {\n",
       "        vertical-align: middle;\n",
       "    }\n",
       "\n",
       "    .dataframe tbody tr th {\n",
       "        vertical-align: top;\n",
       "    }\n",
       "\n",
       "    .dataframe thead th {\n",
       "        text-align: right;\n",
       "    }\n",
       "</style>\n",
       "<table border=\"1\" class=\"dataframe\">\n",
       "  <thead>\n",
       "    <tr style=\"text-align: right;\">\n",
       "      <th></th>\n",
       "      <th>Name</th>\n",
       "      <th>Manufacture</th>\n",
       "      <th>Model</th>\n",
       "      <th>Fuel</th>\n",
       "      <th>Driven</th>\n",
       "      <th>Automatic</th>\n",
       "      <th>Owner</th>\n",
       "      <th>Location</th>\n",
       "      <th>Price</th>\n",
       "      <th>Brand</th>\n",
       "    </tr>\n",
       "  </thead>\n",
       "  <tbody>\n",
       "    <tr>\n",
       "      <th>0</th>\n",
       "      <td>Hyundai Verna</td>\n",
       "      <td>2019</td>\n",
       "      <td>1.6 SX VTVT (O)</td>\n",
       "      <td>Petrol</td>\n",
       "      <td>80631.0</td>\n",
       "      <td>Manual</td>\n",
       "      <td>1</td>\n",
       "      <td>HR</td>\n",
       "      <td>981699</td>\n",
       "      <td>Hyundai</td>\n",
       "    </tr>\n",
       "    <tr>\n",
       "      <th>1</th>\n",
       "      <td>KIA SELTOS</td>\n",
       "      <td>2020</td>\n",
       "      <td>HTK PLUS 1.5 PETROL</td>\n",
       "      <td>Petrol</td>\n",
       "      <td>12981.0</td>\n",
       "      <td>Manual</td>\n",
       "      <td>2</td>\n",
       "      <td>HR</td>\n",
       "      <td>1155299</td>\n",
       "      <td>KIA</td>\n",
       "    </tr>\n",
       "    <tr>\n",
       "      <th>2</th>\n",
       "      <td>Renault Kwid</td>\n",
       "      <td>2016</td>\n",
       "      <td>RXT</td>\n",
       "      <td>Petrol</td>\n",
       "      <td>22388.0</td>\n",
       "      <td>Manual</td>\n",
       "      <td>1</td>\n",
       "      <td>DL</td>\n",
       "      <td>279799</td>\n",
       "      <td>Renault</td>\n",
       "    </tr>\n",
       "    <tr>\n",
       "      <th>3</th>\n",
       "      <td>Mercedes Benz C Class</td>\n",
       "      <td>2014</td>\n",
       "      <td>C 200 AVANTGARDE</td>\n",
       "      <td>Petrol</td>\n",
       "      <td>36806.0</td>\n",
       "      <td>Automatic</td>\n",
       "      <td>1</td>\n",
       "      <td>UP</td>\n",
       "      <td>2133299</td>\n",
       "      <td>Mercedes</td>\n",
       "    </tr>\n",
       "    <tr>\n",
       "      <th>4</th>\n",
       "      <td>KIA SELTOS</td>\n",
       "      <td>2020</td>\n",
       "      <td>HTX AT PETROL</td>\n",
       "      <td>Petrol</td>\n",
       "      <td>21784.0</td>\n",
       "      <td>Automatic</td>\n",
       "      <td>2</td>\n",
       "      <td>HR</td>\n",
       "      <td>1429999</td>\n",
       "      <td>KIA</td>\n",
       "    </tr>\n",
       "  </tbody>\n",
       "</table>\n",
       "</div>"
      ],
      "text/plain": [
       "                    Name  Manufacture                Model    Fuel   Driven  \\\n",
       "0          Hyundai Verna         2019      1.6 SX VTVT (O)  Petrol  80631.0   \n",
       "1             KIA SELTOS         2020  HTK PLUS 1.5 PETROL  Petrol  12981.0   \n",
       "2           Renault Kwid         2016                  RXT  Petrol  22388.0   \n",
       "3  Mercedes Benz C Class         2014     C 200 AVANTGARDE  Petrol  36806.0   \n",
       "4             KIA SELTOS         2020        HTX AT PETROL  Petrol  21784.0   \n",
       "\n",
       "   Automatic  Owner Location    Price     Brand  \n",
       "0     Manual      1       HR   981699   Hyundai  \n",
       "1     Manual      2       HR  1155299       KIA  \n",
       "2     Manual      1       DL   279799   Renault  \n",
       "3  Automatic      1       UP  2133299  Mercedes  \n",
       "4  Automatic      2       HR  1429999       KIA  "
      ]
     },
     "execution_count": 87,
     "metadata": {},
     "output_type": "execute_result"
    }
   ],
   "source": [
    "data.head()"
   ]
  },
  {
   "cell_type": "code",
   "execution_count": 88,
   "id": "a1c69f2f",
   "metadata": {},
   "outputs": [],
   "source": [
    "# Data Preprocessing has been done\n",
    "\n",
    "# Lets begin with feature Extraction"
   ]
  },
  {
   "cell_type": "code",
   "execution_count": 89,
   "id": "f182bdfb",
   "metadata": {},
   "outputs": [],
   "source": [
    "# Name feature is not required as we have extracted Brand company from it"
   ]
  },
  {
   "cell_type": "markdown",
   "id": "98632cb1",
   "metadata": {},
   "source": [
    "# Missing Value"
   ]
  },
  {
   "cell_type": "code",
   "execution_count": 90,
   "id": "e534d314",
   "metadata": {},
   "outputs": [
    {
     "data": {
      "text/plain": [
       "<AxesSubplot:>"
      ]
     },
     "execution_count": 90,
     "metadata": {},
     "output_type": "execute_result"
    },
    {
     "data": {
      "image/png": "[encoded data removed]",
      "text/plain": [
       "<Figure size 432x288 with 2 Axes>"
      ]
     },
     "metadata": {
      "needs_background": "light"
     },
     "output_type": "display_data"
    }
   ],
   "source": [
    "sns.heatmap(data.isnull())"
   ]
  },
  {
   "cell_type": "code",
   "execution_count": 91,
   "id": "c32b6ef5",
   "metadata": {},
   "outputs": [],
   "source": [
    "data['Driven'].fillna(data['Driven'].median(), inplace=True)"
   ]
  },
  {
   "cell_type": "code",
   "execution_count": 92,
   "id": "e31eb327",
   "metadata": {},
   "outputs": [
    {
     "data": {
      "text/html": [
       "<div>\n",
       "<style scoped>\n",
       "    .dataframe tbody tr th:only-of-type {\n",
       "        vertical-align: middle;\n",
       "    }\n",
       "\n",
       "    .dataframe tbody tr th {\n",
       "        vertical-align: top;\n",
       "    }\n",
       "\n",
       "    .dataframe thead th {\n",
       "        text-align: right;\n",
       "    }\n",
       "</style>\n",
       "<table border=\"1\" class=\"dataframe\">\n",
       "  <thead>\n",
       "    <tr style=\"text-align: right;\">\n",
       "      <th></th>\n",
       "      <th>count</th>\n",
       "      <th>mean</th>\n",
       "      <th>std</th>\n",
       "      <th>min</th>\n",
       "      <th>25%</th>\n",
       "      <th>50%</th>\n",
       "      <th>75%</th>\n",
       "      <th>max</th>\n",
       "    </tr>\n",
       "  </thead>\n",
       "  <tbody>\n",
       "    <tr>\n",
       "      <th>Manufacture</th>\n",
       "      <td>500.0</td>\n",
       "      <td>2013.404</td>\n",
       "      <td>4.676808</td>\n",
       "      <td>1990.0</td>\n",
       "      <td>2011.00</td>\n",
       "      <td>2013.0</td>\n",
       "      <td>2017.0</td>\n",
       "      <td>2022.0</td>\n",
       "    </tr>\n",
       "    <tr>\n",
       "      <th>Driven</th>\n",
       "      <td>500.0</td>\n",
       "      <td>73843.828</td>\n",
       "      <td>54174.361613</td>\n",
       "      <td>0.0</td>\n",
       "      <td>40325.00</td>\n",
       "      <td>70000.0</td>\n",
       "      <td>92000.0</td>\n",
       "      <td>707105.0</td>\n",
       "    </tr>\n",
       "    <tr>\n",
       "      <th>Owner</th>\n",
       "      <td>500.0</td>\n",
       "      <td>1.620</td>\n",
       "      <td>0.820333</td>\n",
       "      <td>0.0</td>\n",
       "      <td>1.00</td>\n",
       "      <td>1.0</td>\n",
       "      <td>2.0</td>\n",
       "      <td>4.0</td>\n",
       "    </tr>\n",
       "    <tr>\n",
       "      <th>Price</th>\n",
       "      <td>500.0</td>\n",
       "      <td>633508.042</td>\n",
       "      <td>963072.455463</td>\n",
       "      <td>20000.0</td>\n",
       "      <td>238124.75</td>\n",
       "      <td>394500.0</td>\n",
       "      <td>679250.0</td>\n",
       "      <td>10900000.0</td>\n",
       "    </tr>\n",
       "  </tbody>\n",
       "</table>\n",
       "</div>"
      ],
      "text/plain": [
       "             count        mean            std      min        25%       50%  \\\n",
       "Manufacture  500.0    2013.404       4.676808   1990.0    2011.00    2013.0   \n",
       "Driven       500.0   73843.828   54174.361613      0.0   40325.00   70000.0   \n",
       "Owner        500.0       1.620       0.820333      0.0       1.00       1.0   \n",
       "Price        500.0  633508.042  963072.455463  20000.0  238124.75  394500.0   \n",
       "\n",
       "                  75%         max  \n",
       "Manufacture    2017.0      2022.0  \n",
       "Driven        92000.0    707105.0  \n",
       "Owner             2.0         4.0  \n",
       "Price        679250.0  10900000.0  "
      ]
     },
     "execution_count": 92,
     "metadata": {},
     "output_type": "execute_result"
    }
   ],
   "source": [
    "data.describe().T"
   ]
  },
  {
   "cell_type": "code",
   "execution_count": null,
   "id": "2ac04b91",
   "metadata": {},
   "outputs": [],
   "source": []
  },
  {
   "cell_type": "code",
   "execution_count": 93,
   "id": "e4c7b0c5",
   "metadata": {},
   "outputs": [
    {
     "data": {
      "text/plain": [
       "(array([ 0,  1,  2,  3,  4,  5,  6,  7,  8,  9, 10, 11, 12, 13, 14, 15, 16,\n",
       "        17, 18, 19, 20, 21, 22, 23, 24, 25, 26]),\n",
       " [Text(0, 0, 'Maruti'),\n",
       "  Text(1, 0, 'Hyundai'),\n",
       "  Text(2, 0, 'Mahindra'),\n",
       "  Text(3, 0, 'Honda'),\n",
       "  Text(4, 0, 'Toyota'),\n",
       "  Text(5, 0, 'Renault'),\n",
       "  Text(6, 0, 'Tata'),\n",
       "  Text(7, 0, 'Ford'),\n",
       "  Text(8, 0, 'Volkswagen'),\n",
       "  Text(9, 0, 'Mercedes'),\n",
       "  Text(10, 0, 'Chevrolet'),\n",
       "  Text(11, 0, 'Nissan'),\n",
       "  Text(12, 0, 'Audi'),\n",
       "  Text(13, 0, 'Bmw'),\n",
       "  Text(14, 0, 'Jeep'),\n",
       "  Text(15, 0, 'MG'),\n",
       "  Text(16, 0, 'Force'),\n",
       "  Text(17, 0, 'KIA'),\n",
       "  Text(18, 0, 'Jaguar'),\n",
       "  Text(19, 0, 'Skoda'),\n",
       "  Text(20, 0, 'Datsun'),\n",
       "  Text(21, 0, 'San'),\n",
       "  Text(22, 0, 'Porsche'),\n",
       "  Text(23, 0, 'Volvo'),\n",
       "  Text(24, 0, 'Fiat'),\n",
       "  Text(25, 0, 'Hindustan'),\n",
       "  Text(26, 0, 'Hummer')])"
      ]
     },
     "execution_count": 93,
     "metadata": {},
     "output_type": "execute_result"
    },
    {
     "data": {
      "image/png": "[encoded data removed]",
      "text/plain": [
       "<Figure size 864x576 with 1 Axes>"
      ]
     },
     "metadata": {
      "needs_background": "light"
     },
     "output_type": "display_data"
    }
   ],
   "source": [
    "plt.figure(figsize=(12,8))\n",
    "sns.countplot(data['Brand'], order=data['Brand'].value_counts().index)\n",
    "plt.xticks(rotation = 90)"
   ]
  },
  {
   "cell_type": "code",
   "execution_count": 94,
   "id": "0f46a8aa",
   "metadata": {},
   "outputs": [
    {
     "data": {
      "text/plain": [
       "Maruti        0.318\n",
       "Hyundai       0.158\n",
       "Mahindra      0.098\n",
       "Honda         0.084\n",
       "Toyota        0.078\n",
       "Renault       0.040\n",
       "Tata          0.038\n",
       "Ford          0.028\n",
       "Volkswagen    0.026\n",
       "Mercedes      0.022\n",
       "Chevrolet     0.020\n",
       "Nissan        0.016\n",
       "Audi          0.010\n",
       "Bmw           0.010\n",
       "Jeep          0.008\n",
       "MG            0.008\n",
       "Force         0.006\n",
       "KIA           0.006\n",
       "Jaguar        0.006\n",
       "Skoda         0.004\n",
       "Datsun        0.004\n",
       "San           0.002\n",
       "Porsche       0.002\n",
       "Volvo         0.002\n",
       "Fiat          0.002\n",
       "Hindustan     0.002\n",
       "Hummer        0.002\n",
       "Name: Brand, dtype: float64"
      ]
     },
     "execution_count": 94,
     "metadata": {},
     "output_type": "execute_result"
    }
   ],
   "source": [
    "data['Brand'].value_counts(normalize=True)"
   ]
  },
  {
   "cell_type": "code",
   "execution_count": 95,
   "id": "461a05e9",
   "metadata": {},
   "outputs": [],
   "source": [
    "# Dataset have most values for Maruti, Hyundai and Honda cars"
   ]
  },
  {
   "cell_type": "code",
   "execution_count": 96,
   "id": "f920796a",
   "metadata": {},
   "outputs": [
    {
     "data": {
      "text/plain": [
       "(array([ 0,  1,  2,  3,  4,  5,  6,  7,  8,  9, 10, 11, 12, 13, 14, 15, 16,\n",
       "        17, 18, 19, 20, 21, 22, 23, 24, 25]),\n",
       " [Text(0, 0, '1990'),\n",
       "  Text(1, 0, '1996'),\n",
       "  Text(2, 0, '1998'),\n",
       "  Text(3, 0, '2000'),\n",
       "  Text(4, 0, '2001'),\n",
       "  Text(5, 0, '2002'),\n",
       "  Text(6, 0, '2003'),\n",
       "  Text(7, 0, '2004'),\n",
       "  Text(8, 0, '2005'),\n",
       "  Text(9, 0, '2006'),\n",
       "  Text(10, 0, '2007'),\n",
       "  Text(11, 0, '2008'),\n",
       "  Text(12, 0, '2009'),\n",
       "  Text(13, 0, '2010'),\n",
       "  Text(14, 0, '2011'),\n",
       "  Text(15, 0, '2012'),\n",
       "  Text(16, 0, '2013'),\n",
       "  Text(17, 0, '2014'),\n",
       "  Text(18, 0, '2015'),\n",
       "  Text(19, 0, '2016'),\n",
       "  Text(20, 0, '2017'),\n",
       "  Text(21, 0, '2018'),\n",
       "  Text(22, 0, '2019'),\n",
       "  Text(23, 0, '2020'),\n",
       "  Text(24, 0, '2021'),\n",
       "  Text(25, 0, '2022')])"
      ]
     },
     "execution_count": 96,
     "metadata": {},
     "output_type": "execute_result"
    },
    {
     "data": {
      "image/png": "[encoded data removed]",
      "text/plain": [
       "<Figure size 432x288 with 1 Axes>"
      ]
     },
     "metadata": {
      "needs_background": "light"
     },
     "output_type": "display_data"
    }
   ],
   "source": [
    "sns.countplot(data['Manufacture'])\n",
    "plt.xticks(rotation=90)"
   ]
  },
  {
   "cell_type": "code",
   "execution_count": 97,
   "id": "5aee3f12",
   "metadata": {},
   "outputs": [],
   "source": [
    "# Most used cars are available from 2014 to 2021"
   ]
  },
  {
   "cell_type": "code",
   "execution_count": 98,
   "id": "ec151318",
   "metadata": {},
   "outputs": [
    {
     "data": {
      "text/plain": [
       "Index(['Name', 'Manufacture', 'Model', 'Fuel', 'Driven', 'Automatic', 'Owner',\n",
       "       'Location', 'Price', 'Brand'],\n",
       "      dtype='object')"
      ]
     },
     "execution_count": 98,
     "metadata": {},
     "output_type": "execute_result"
    }
   ],
   "source": [
    "data.columns"
   ]
  },
  {
   "cell_type": "code",
   "execution_count": 99,
   "id": "17a8de84",
   "metadata": {},
   "outputs": [
    {
     "data": {
      "text/plain": [
       "<AxesSubplot:xlabel='Fuel', ylabel='count'>"
      ]
     },
     "execution_count": 99,
     "metadata": {},
     "output_type": "execute_result"
    },
    {
     "data": {
      "image/png": "[encoded data removed]",
      "text/plain": [
       "<Figure size 432x288 with 1 Axes>"
      ]
     },
     "metadata": {
      "needs_background": "light"
     },
     "output_type": "display_data"
    }
   ],
   "source": [
    "sns.countplot(data['Fuel'], order=data['Fuel'].value_counts().index)"
   ]
  },
  {
   "cell_type": "code",
   "execution_count": 100,
   "id": "c1a5fc35",
   "metadata": {},
   "outputs": [
    {
     "data": {
      "text/plain": [
       "Petrol           45.4\n",
       "Diesel           44.8\n",
       "CNG & HYBRIDS     7.0\n",
       "CNG               1.8\n",
       "LPG               0.6\n",
       "ELECTRIC          0.4\n",
       "Name: Fuel, dtype: float64"
      ]
     },
     "execution_count": 100,
     "metadata": {},
     "output_type": "execute_result"
    }
   ],
   "source": [
    "round(data['Fuel'].value_counts(normalize=True)*100,2)"
   ]
  },
  {
   "cell_type": "markdown",
   "id": "f2110e79",
   "metadata": {},
   "source": [
    "71% cars are on Petrol\n",
    "25.49% cars are on Diesel\n",
    "others are very few"
   ]
  },
  {
   "cell_type": "code",
   "execution_count": 101,
   "id": "2605d852",
   "metadata": {},
   "outputs": [
    {
     "data": {
      "text/plain": [
       "<AxesSubplot:xlabel='Driven', ylabel='Density'>"
      ]
     },
     "execution_count": 101,
     "metadata": {},
     "output_type": "execute_result"
    },
    {
     "data": {
      "image/png": "[encoded data removed]",
      "text/plain": [
       "<Figure size 432x288 with 1 Axes>"
      ]
     },
     "metadata": {
      "needs_background": "light"
     },
     "output_type": "display_data"
    }
   ],
   "source": [
    "sns.distplot(data['Driven'])"
   ]
  },
  {
   "cell_type": "code",
   "execution_count": 102,
   "id": "47d15c54",
   "metadata": {},
   "outputs": [],
   "source": [
    "# km driven already by car, data is right skewed, however peak is as normal distribution\n"
   ]
  },
  {
   "cell_type": "code",
   "execution_count": 103,
   "id": "17443ec7",
   "metadata": {},
   "outputs": [
    {
     "data": {
      "text/plain": [
       "<AxesSubplot:xlabel='Automatic', ylabel='count'>"
      ]
     },
     "execution_count": 103,
     "metadata": {},
     "output_type": "execute_result"
    },
    {
     "data": {
      "image/png": "[encoded data removed]",
      "text/plain": [
       "<Figure size 432x288 with 1 Axes>"
      ]
     },
     "metadata": {
      "needs_background": "light"
     },
     "output_type": "display_data"
    }
   ],
   "source": [
    "sns.countplot(data['Automatic'])"
   ]
  },
  {
   "cell_type": "code",
   "execution_count": 104,
   "id": "338a76c4",
   "metadata": {},
   "outputs": [
    {
     "data": {
      "text/plain": [
       "Manual       76.0\n",
       "Automatic    24.0\n",
       "Name: Automatic, dtype: float64"
      ]
     },
     "execution_count": 104,
     "metadata": {},
     "output_type": "execute_result"
    }
   ],
   "source": [
    "round(data['Automatic'].value_counts(normalize=True)*100,2)"
   ]
  },
  {
   "cell_type": "markdown",
   "id": "eacd6bee",
   "metadata": {},
   "source": [
    "81.32 cars are manual while 18.68% cars are Automatic"
   ]
  },
  {
   "cell_type": "code",
   "execution_count": 105,
   "id": "e11a38ec",
   "metadata": {},
   "outputs": [
    {
     "data": {
      "text/plain": [
       "Index(['Name', 'Manufacture', 'Model', 'Fuel', 'Driven', 'Automatic', 'Owner',\n",
       "       'Location', 'Price', 'Brand'],\n",
       "      dtype='object')"
      ]
     },
     "execution_count": 105,
     "metadata": {},
     "output_type": "execute_result"
    }
   ],
   "source": [
    "data.columns"
   ]
  },
  {
   "cell_type": "code",
   "execution_count": 106,
   "id": "087b9db6",
   "metadata": {},
   "outputs": [
    {
     "data": {
      "text/plain": [
       "<AxesSubplot:xlabel='Owner', ylabel='count'>"
      ]
     },
     "execution_count": 106,
     "metadata": {},
     "output_type": "execute_result"
    },
    {
     "data": {
      "image/png": "[encoded data removed]",
      "text/plain": [
       "<Figure size 432x288 with 1 Axes>"
      ]
     },
     "metadata": {
      "needs_background": "light"
     },
     "output_type": "display_data"
    }
   ],
   "source": [
    "sns.countplot(data['Owner'], order=data['Owner'].value_counts().index)"
   ]
  },
  {
   "cell_type": "code",
   "execution_count": 107,
   "id": "c2577e7f",
   "metadata": {},
   "outputs": [],
   "source": [
    "# means the total owner's of Car"
   ]
  },
  {
   "cell_type": "code",
   "execution_count": 108,
   "id": "b179dceb",
   "metadata": {},
   "outputs": [
    {
     "data": {
      "text/plain": [
       "<AxesSubplot:xlabel='Location', ylabel='count'>"
      ]
     },
     "execution_count": 108,
     "metadata": {},
     "output_type": "execute_result"
    },
    {
     "data": {
      "image/png": "[encoded data removed]",
      "text/plain": [
       "<Figure size 1080x576 with 1 Axes>"
      ]
     },
     "metadata": {
      "needs_background": "light"
     },
     "output_type": "display_data"
    }
   ],
   "source": [
    "plt.figure(figsize=(15,8))\n",
    "sns.countplot(data['Location'], order=data['Location'].value_counts().index)"
   ]
  },
  {
   "cell_type": "markdown",
   "id": "1ff650c9",
   "metadata": {},
   "source": [
    "Most of the cras are from Maharastra state, then Delhi state"
   ]
  },
  {
   "cell_type": "code",
   "execution_count": 109,
   "id": "b1082863",
   "metadata": {},
   "outputs": [
    {
     "data": {
      "text/plain": [
       "<AxesSubplot:xlabel='Price', ylabel='Density'>"
      ]
     },
     "execution_count": 109,
     "metadata": {},
     "output_type": "execute_result"
    },
    {
     "data": {
      "image/png": "[encoded data removed]",
      "text/plain": [
       "<Figure size 432x288 with 1 Axes>"
      ]
     },
     "metadata": {
      "needs_background": "light"
     },
     "output_type": "display_data"
    }
   ],
   "source": [
    "sns.distplot(data['Price'])"
   ]
  },
  {
   "cell_type": "markdown",
   "id": "8b9243e6",
   "metadata": {},
   "source": [
    "Right skewed data"
   ]
  },
  {
   "cell_type": "code",
   "execution_count": 110,
   "id": "153abbd3",
   "metadata": {},
   "outputs": [
    {
     "data": {
      "text/html": [
       "<div>\n",
       "<style scoped>\n",
       "    .dataframe tbody tr th:only-of-type {\n",
       "        vertical-align: middle;\n",
       "    }\n",
       "\n",
       "    .dataframe tbody tr th {\n",
       "        vertical-align: top;\n",
       "    }\n",
       "\n",
       "    .dataframe thead th {\n",
       "        text-align: right;\n",
       "    }\n",
       "</style>\n",
       "<table border=\"1\" class=\"dataframe\">\n",
       "  <thead>\n",
       "    <tr style=\"text-align: right;\">\n",
       "      <th></th>\n",
       "      <th>Name</th>\n",
       "      <th>Manufacture</th>\n",
       "      <th>Model</th>\n",
       "      <th>Fuel</th>\n",
       "      <th>Driven</th>\n",
       "      <th>Automatic</th>\n",
       "      <th>Owner</th>\n",
       "      <th>Location</th>\n",
       "      <th>Price</th>\n",
       "      <th>Brand</th>\n",
       "    </tr>\n",
       "  </thead>\n",
       "  <tbody>\n",
       "    <tr>\n",
       "      <th>0</th>\n",
       "      <td>Hyundai Verna</td>\n",
       "      <td>2019</td>\n",
       "      <td>1.6 SX VTVT (O)</td>\n",
       "      <td>Petrol</td>\n",
       "      <td>80631.0</td>\n",
       "      <td>Manual</td>\n",
       "      <td>1</td>\n",
       "      <td>HR</td>\n",
       "      <td>981699</td>\n",
       "      <td>Hyundai</td>\n",
       "    </tr>\n",
       "    <tr>\n",
       "      <th>1</th>\n",
       "      <td>KIA SELTOS</td>\n",
       "      <td>2020</td>\n",
       "      <td>HTK PLUS 1.5 PETROL</td>\n",
       "      <td>Petrol</td>\n",
       "      <td>12981.0</td>\n",
       "      <td>Manual</td>\n",
       "      <td>2</td>\n",
       "      <td>HR</td>\n",
       "      <td>1155299</td>\n",
       "      <td>KIA</td>\n",
       "    </tr>\n",
       "  </tbody>\n",
       "</table>\n",
       "</div>"
      ],
      "text/plain": [
       "            Name  Manufacture                Model    Fuel   Driven Automatic  \\\n",
       "0  Hyundai Verna         2019      1.6 SX VTVT (O)  Petrol  80631.0    Manual   \n",
       "1     KIA SELTOS         2020  HTK PLUS 1.5 PETROL  Petrol  12981.0    Manual   \n",
       "\n",
       "   Owner Location    Price    Brand  \n",
       "0      1       HR   981699  Hyundai  \n",
       "1      2       HR  1155299      KIA  "
      ]
     },
     "execution_count": 110,
     "metadata": {},
     "output_type": "execute_result"
    }
   ],
   "source": [
    "data.head(2)"
   ]
  },
  {
   "cell_type": "markdown",
   "id": "94d72ca5",
   "metadata": {},
   "source": [
    "data['Manufacture'] have year of car, so basically we need tha age of car at the time of sell"
   ]
  },
  {
   "cell_type": "code",
   "execution_count": 111,
   "id": "a7613d71",
   "metadata": {},
   "outputs": [],
   "source": [
    "data['Years']=2022-data['Manufacture']"
   ]
  },
  {
   "cell_type": "code",
   "execution_count": 112,
   "id": "70f2b011",
   "metadata": {},
   "outputs": [
    {
     "data": {
      "text/html": [
       "<div>\n",
       "<style scoped>\n",
       "    .dataframe tbody tr th:only-of-type {\n",
       "        vertical-align: middle;\n",
       "    }\n",
       "\n",
       "    .dataframe tbody tr th {\n",
       "        vertical-align: top;\n",
       "    }\n",
       "\n",
       "    .dataframe thead th {\n",
       "        text-align: right;\n",
       "    }\n",
       "</style>\n",
       "<table border=\"1\" class=\"dataframe\">\n",
       "  <thead>\n",
       "    <tr style=\"text-align: right;\">\n",
       "      <th></th>\n",
       "      <th>Name</th>\n",
       "      <th>Manufacture</th>\n",
       "      <th>Model</th>\n",
       "      <th>Fuel</th>\n",
       "      <th>Driven</th>\n",
       "      <th>Automatic</th>\n",
       "      <th>Owner</th>\n",
       "      <th>Location</th>\n",
       "      <th>Price</th>\n",
       "      <th>Brand</th>\n",
       "      <th>Years</th>\n",
       "    </tr>\n",
       "  </thead>\n",
       "  <tbody>\n",
       "    <tr>\n",
       "      <th>0</th>\n",
       "      <td>Hyundai Verna</td>\n",
       "      <td>2019</td>\n",
       "      <td>1.6 SX VTVT (O)</td>\n",
       "      <td>Petrol</td>\n",
       "      <td>80631.0</td>\n",
       "      <td>Manual</td>\n",
       "      <td>1</td>\n",
       "      <td>HR</td>\n",
       "      <td>981699</td>\n",
       "      <td>Hyundai</td>\n",
       "      <td>3</td>\n",
       "    </tr>\n",
       "    <tr>\n",
       "      <th>1</th>\n",
       "      <td>KIA SELTOS</td>\n",
       "      <td>2020</td>\n",
       "      <td>HTK PLUS 1.5 PETROL</td>\n",
       "      <td>Petrol</td>\n",
       "      <td>12981.0</td>\n",
       "      <td>Manual</td>\n",
       "      <td>2</td>\n",
       "      <td>HR</td>\n",
       "      <td>1155299</td>\n",
       "      <td>KIA</td>\n",
       "      <td>2</td>\n",
       "    </tr>\n",
       "    <tr>\n",
       "      <th>2</th>\n",
       "      <td>Renault Kwid</td>\n",
       "      <td>2016</td>\n",
       "      <td>RXT</td>\n",
       "      <td>Petrol</td>\n",
       "      <td>22388.0</td>\n",
       "      <td>Manual</td>\n",
       "      <td>1</td>\n",
       "      <td>DL</td>\n",
       "      <td>279799</td>\n",
       "      <td>Renault</td>\n",
       "      <td>6</td>\n",
       "    </tr>\n",
       "    <tr>\n",
       "      <th>3</th>\n",
       "      <td>Mercedes Benz C Class</td>\n",
       "      <td>2014</td>\n",
       "      <td>C 200 AVANTGARDE</td>\n",
       "      <td>Petrol</td>\n",
       "      <td>36806.0</td>\n",
       "      <td>Automatic</td>\n",
       "      <td>1</td>\n",
       "      <td>UP</td>\n",
       "      <td>2133299</td>\n",
       "      <td>Mercedes</td>\n",
       "      <td>8</td>\n",
       "    </tr>\n",
       "    <tr>\n",
       "      <th>4</th>\n",
       "      <td>KIA SELTOS</td>\n",
       "      <td>2020</td>\n",
       "      <td>HTX AT PETROL</td>\n",
       "      <td>Petrol</td>\n",
       "      <td>21784.0</td>\n",
       "      <td>Automatic</td>\n",
       "      <td>2</td>\n",
       "      <td>HR</td>\n",
       "      <td>1429999</td>\n",
       "      <td>KIA</td>\n",
       "      <td>2</td>\n",
       "    </tr>\n",
       "  </tbody>\n",
       "</table>\n",
       "</div>"
      ],
      "text/plain": [
       "                    Name  Manufacture                Model    Fuel   Driven  \\\n",
       "0          Hyundai Verna         2019      1.6 SX VTVT (O)  Petrol  80631.0   \n",
       "1             KIA SELTOS         2020  HTK PLUS 1.5 PETROL  Petrol  12981.0   \n",
       "2           Renault Kwid         2016                  RXT  Petrol  22388.0   \n",
       "3  Mercedes Benz C Class         2014     C 200 AVANTGARDE  Petrol  36806.0   \n",
       "4             KIA SELTOS         2020        HTX AT PETROL  Petrol  21784.0   \n",
       "\n",
       "   Automatic  Owner Location    Price     Brand  Years  \n",
       "0     Manual      1       HR   981699   Hyundai      3  \n",
       "1     Manual      2       HR  1155299       KIA      2  \n",
       "2     Manual      1       DL   279799   Renault      6  \n",
       "3  Automatic      1       UP  2133299  Mercedes      8  \n",
       "4  Automatic      2       HR  1429999       KIA      2  "
      ]
     },
     "execution_count": 112,
     "metadata": {},
     "output_type": "execute_result"
    }
   ],
   "source": [
    "data.head()"
   ]
  },
  {
   "cell_type": "code",
   "execution_count": 113,
   "id": "67064514",
   "metadata": {},
   "outputs": [],
   "source": [
    "data.drop(['Name','Model','Manufacture'], axis=1, inplace=True)"
   ]
  },
  {
   "cell_type": "code",
   "execution_count": 114,
   "id": "7f8ace50",
   "metadata": {},
   "outputs": [
    {
     "data": {
      "text/plain": [
       "<AxesSubplot:xlabel='Years', ylabel='Price'>"
      ]
     },
     "execution_count": 114,
     "metadata": {},
     "output_type": "execute_result"
    },
    {
     "data": {
      "image/png": "[encoded data removed]",
      "text/plain": [
       "<Figure size 432x288 with 1 Axes>"
      ]
     },
     "metadata": {
      "needs_background": "light"
     },
     "output_type": "display_data"
    }
   ],
   "source": [
    "sns.scatterplot(data['Years'], data['Price'], hue=data['Owner'])"
   ]
  },
  {
   "cell_type": "markdown",
   "id": "86bd63c2",
   "metadata": {},
   "source": [
    "More years old car possible many owners has been changed so Price is less"
   ]
  },
  {
   "cell_type": "code",
   "execution_count": 115,
   "id": "01b1e6fd",
   "metadata": {},
   "outputs": [
    {
     "data": {
      "text/plain": [
       "<AxesSubplot:xlabel='Years', ylabel='Price'>"
      ]
     },
     "execution_count": 115,
     "metadata": {},
     "output_type": "execute_result"
    },
    {
     "data": {
      "image/png": "[encoded data removed]",
      "text/plain": [
       "<Figure size 432x288 with 1 Axes>"
      ]
     },
     "metadata": {
      "needs_background": "light"
     },
     "output_type": "display_data"
    }
   ],
   "source": [
    "sns.scatterplot(data['Years'], data['Price'], hue=data['Automatic'])"
   ]
  },
  {
   "cell_type": "code",
   "execution_count": 117,
   "id": "62e67406",
   "metadata": {},
   "outputs": [],
   "source": [
    "#Many years back, Automation was not in trends, so we hardly see automation in old cars"
   ]
  },
  {
   "cell_type": "code",
   "execution_count": 118,
   "id": "9edfd0ae",
   "metadata": {},
   "outputs": [
    {
     "data": {
      "text/plain": [
       "<AxesSubplot:xlabel='Years', ylabel='Price'>"
      ]
     },
     "execution_count": 118,
     "metadata": {},
     "output_type": "execute_result"
    },
    {
     "data": {
      "image/png": "[encoded data removed]",
      "text/plain": [
       "<Figure size 432x288 with 1 Axes>"
      ]
     },
     "metadata": {
      "needs_background": "light"
     },
     "output_type": "display_data"
    }
   ],
   "source": [
    "sns.scatterplot(data['Years'], data['Price'], hue=data['Fuel'])"
   ]
  },
  {
   "cell_type": "code",
   "execution_count": null,
   "id": "0e996ff8",
   "metadata": {},
   "outputs": [],
   "source": []
  },
  {
   "cell_type": "code",
   "execution_count": 119,
   "id": "4280e6eb",
   "metadata": {},
   "outputs": [
    {
     "data": {
      "text/plain": [
       "<AxesSubplot:xlabel='Years', ylabel='Price'>"
      ]
     },
     "execution_count": 119,
     "metadata": {},
     "output_type": "execute_result"
    },
    {
     "data": {
      "image/png": "[encoded data removed]",
      "text/plain": [
       "<Figure size 432x288 with 1 Axes>"
      ]
     },
     "metadata": {
      "needs_background": "light"
     },
     "output_type": "display_data"
    }
   ],
   "source": [
    "sns.regplot(data['Years'],data['Price'])"
   ]
  },
  {
   "cell_type": "code",
   "execution_count": 120,
   "id": "469b1a7a",
   "metadata": {},
   "outputs": [
    {
     "data": {
      "text/plain": [
       "<AxesSubplot:xlabel='Driven', ylabel='Price'>"
      ]
     },
     "execution_count": 120,
     "metadata": {},
     "output_type": "execute_result"
    },
    {
     "data": {
      "image/png": "[encoded data removed]",
      "text/plain": [
       "<Figure size 432x288 with 1 Axes>"
      ]
     },
     "metadata": {
      "needs_background": "light"
     },
     "output_type": "display_data"
    }
   ],
   "source": [
    "sns.regplot(data['Driven'],data['Price'])"
   ]
  },
  {
   "cell_type": "code",
   "execution_count": 121,
   "id": "eb544037",
   "metadata": {},
   "outputs": [
    {
     "data": {
      "text/html": [
       "<div>\n",
       "<style scoped>\n",
       "    .dataframe tbody tr th:only-of-type {\n",
       "        vertical-align: middle;\n",
       "    }\n",
       "\n",
       "    .dataframe tbody tr th {\n",
       "        vertical-align: top;\n",
       "    }\n",
       "\n",
       "    .dataframe thead th {\n",
       "        text-align: right;\n",
       "    }\n",
       "</style>\n",
       "<table border=\"1\" class=\"dataframe\">\n",
       "  <thead>\n",
       "    <tr style=\"text-align: right;\">\n",
       "      <th></th>\n",
       "      <th>Fuel</th>\n",
       "      <th>Driven</th>\n",
       "      <th>Automatic</th>\n",
       "      <th>Owner</th>\n",
       "      <th>Location</th>\n",
       "      <th>Price</th>\n",
       "      <th>Brand</th>\n",
       "      <th>Years</th>\n",
       "    </tr>\n",
       "  </thead>\n",
       "  <tbody>\n",
       "    <tr>\n",
       "      <th>0</th>\n",
       "      <td>Petrol</td>\n",
       "      <td>80631.0</td>\n",
       "      <td>Manual</td>\n",
       "      <td>1</td>\n",
       "      <td>HR</td>\n",
       "      <td>981699</td>\n",
       "      <td>Hyundai</td>\n",
       "      <td>3</td>\n",
       "    </tr>\n",
       "    <tr>\n",
       "      <th>1</th>\n",
       "      <td>Petrol</td>\n",
       "      <td>12981.0</td>\n",
       "      <td>Manual</td>\n",
       "      <td>2</td>\n",
       "      <td>HR</td>\n",
       "      <td>1155299</td>\n",
       "      <td>KIA</td>\n",
       "      <td>2</td>\n",
       "    </tr>\n",
       "    <tr>\n",
       "      <th>2</th>\n",
       "      <td>Petrol</td>\n",
       "      <td>22388.0</td>\n",
       "      <td>Manual</td>\n",
       "      <td>1</td>\n",
       "      <td>DL</td>\n",
       "      <td>279799</td>\n",
       "      <td>Renault</td>\n",
       "      <td>6</td>\n",
       "    </tr>\n",
       "  </tbody>\n",
       "</table>\n",
       "</div>"
      ],
      "text/plain": [
       "     Fuel   Driven Automatic  Owner Location    Price    Brand  Years\n",
       "0  Petrol  80631.0    Manual      1       HR   981699  Hyundai      3\n",
       "1  Petrol  12981.0    Manual      2       HR  1155299      KIA      2\n",
       "2  Petrol  22388.0    Manual      1       DL   279799  Renault      6"
      ]
     },
     "execution_count": 121,
     "metadata": {},
     "output_type": "execute_result"
    }
   ],
   "source": [
    "data.head(3)"
   ]
  },
  {
   "cell_type": "raw",
   "id": "2d4ee6c1",
   "metadata": {},
   "source": [
    "## Split independent and  dependent features"
   ]
  },
  {
   "cell_type": "code",
   "execution_count": 122,
   "id": "c7a67e53",
   "metadata": {},
   "outputs": [],
   "source": [
    "X= data.drop('Price', axis=1)\n",
    "Y=data['Price']"
   ]
  },
  {
   "cell_type": "code",
   "execution_count": 123,
   "id": "61946008",
   "metadata": {},
   "outputs": [
    {
     "data": {
      "text/plain": [
       "((500, 7), (500,))"
      ]
     },
     "execution_count": 123,
     "metadata": {},
     "output_type": "execute_result"
    }
   ],
   "source": [
    "X.shape , Y.shape"
   ]
  },
  {
   "cell_type": "code",
   "execution_count": 124,
   "id": "4a6964d5",
   "metadata": {},
   "outputs": [
    {
     "data": {
      "text/html": [
       "<div>\n",
       "<style scoped>\n",
       "    .dataframe tbody tr th:only-of-type {\n",
       "        vertical-align: middle;\n",
       "    }\n",
       "\n",
       "    .dataframe tbody tr th {\n",
       "        vertical-align: top;\n",
       "    }\n",
       "\n",
       "    .dataframe thead th {\n",
       "        text-align: right;\n",
       "    }\n",
       "</style>\n",
       "<table border=\"1\" class=\"dataframe\">\n",
       "  <thead>\n",
       "    <tr style=\"text-align: right;\">\n",
       "      <th></th>\n",
       "      <th>Fuel</th>\n",
       "      <th>Driven</th>\n",
       "      <th>Automatic</th>\n",
       "      <th>Owner</th>\n",
       "      <th>Location</th>\n",
       "      <th>Brand</th>\n",
       "      <th>Years</th>\n",
       "    </tr>\n",
       "  </thead>\n",
       "  <tbody>\n",
       "    <tr>\n",
       "      <th>0</th>\n",
       "      <td>Petrol</td>\n",
       "      <td>80631.0</td>\n",
       "      <td>Manual</td>\n",
       "      <td>1</td>\n",
       "      <td>HR</td>\n",
       "      <td>Hyundai</td>\n",
       "      <td>3</td>\n",
       "    </tr>\n",
       "    <tr>\n",
       "      <th>1</th>\n",
       "      <td>Petrol</td>\n",
       "      <td>12981.0</td>\n",
       "      <td>Manual</td>\n",
       "      <td>2</td>\n",
       "      <td>HR</td>\n",
       "      <td>KIA</td>\n",
       "      <td>2</td>\n",
       "    </tr>\n",
       "    <tr>\n",
       "      <th>2</th>\n",
       "      <td>Petrol</td>\n",
       "      <td>22388.0</td>\n",
       "      <td>Manual</td>\n",
       "      <td>1</td>\n",
       "      <td>DL</td>\n",
       "      <td>Renault</td>\n",
       "      <td>6</td>\n",
       "    </tr>\n",
       "    <tr>\n",
       "      <th>3</th>\n",
       "      <td>Petrol</td>\n",
       "      <td>36806.0</td>\n",
       "      <td>Automatic</td>\n",
       "      <td>1</td>\n",
       "      <td>UP</td>\n",
       "      <td>Mercedes</td>\n",
       "      <td>8</td>\n",
       "    </tr>\n",
       "    <tr>\n",
       "      <th>4</th>\n",
       "      <td>Petrol</td>\n",
       "      <td>21784.0</td>\n",
       "      <td>Automatic</td>\n",
       "      <td>2</td>\n",
       "      <td>HR</td>\n",
       "      <td>KIA</td>\n",
       "      <td>2</td>\n",
       "    </tr>\n",
       "  </tbody>\n",
       "</table>\n",
       "</div>"
      ],
      "text/plain": [
       "     Fuel   Driven  Automatic  Owner Location     Brand  Years\n",
       "0  Petrol  80631.0     Manual      1       HR   Hyundai      3\n",
       "1  Petrol  12981.0     Manual      2       HR       KIA      2\n",
       "2  Petrol  22388.0     Manual      1       DL   Renault      6\n",
       "3  Petrol  36806.0  Automatic      1       UP  Mercedes      8\n",
       "4  Petrol  21784.0  Automatic      2       HR       KIA      2"
      ]
     },
     "execution_count": 124,
     "metadata": {},
     "output_type": "execute_result"
    }
   ],
   "source": [
    "X.head()"
   ]
  },
  {
   "cell_type": "markdown",
   "id": "ca810b89",
   "metadata": {},
   "source": [
    "# Outlier"
   ]
  },
  {
   "cell_type": "code",
   "execution_count": 125,
   "id": "8ed64855",
   "metadata": {},
   "outputs": [
    {
     "data": {
      "text/plain": [
       "<AxesSubplot:xlabel='Driven'>"
      ]
     },
     "execution_count": 125,
     "metadata": {},
     "output_type": "execute_result"
    },
    {
     "data": {
      "image/png": "[encoded data removed]",
      "text/plain": [
       "<Figure size 432x288 with 1 Axes>"
      ]
     },
     "metadata": {
      "needs_background": "light"
     },
     "output_type": "display_data"
    }
   ],
   "source": [
    "sns.boxplot(data['Driven'])"
   ]
  },
  {
   "cell_type": "code",
   "execution_count": 126,
   "id": "2f549a80",
   "metadata": {},
   "outputs": [
    {
     "data": {
      "text/plain": [
       "51675.0"
      ]
     },
     "execution_count": 126,
     "metadata": {},
     "output_type": "execute_result"
    }
   ],
   "source": [
    "IQR= X['Driven'].quantile(.75)- X['Driven'].quantile(.25)\n",
    "IQR"
   ]
  },
  {
   "cell_type": "code",
   "execution_count": 127,
   "id": "812e977f",
   "metadata": {},
   "outputs": [
    {
     "data": {
      "text/plain": [
       "169512.5"
      ]
     },
     "execution_count": 127,
     "metadata": {},
     "output_type": "execute_result"
    }
   ],
   "source": [
    "upper= X['Driven'].quantile(.75) +(1.5 * IQR)\n",
    "upper"
   ]
  },
  {
   "cell_type": "code",
   "execution_count": 128,
   "id": "4abd90f4",
   "metadata": {},
   "outputs": [],
   "source": [
    "X['Driven']=np.where(X['Driven']>upper,upper,X['Driven'])"
   ]
  },
  {
   "cell_type": "code",
   "execution_count": 129,
   "id": "5369d030",
   "metadata": {},
   "outputs": [
    {
     "data": {
      "text/plain": [
       "<AxesSubplot:xlabel='Driven'>"
      ]
     },
     "execution_count": 129,
     "metadata": {},
     "output_type": "execute_result"
    },
    {
     "data": {
      "image/png": "[encoded data removed]",
      "text/plain": [
       "<Figure size 432x288 with 1 Axes>"
      ]
     },
     "metadata": {
      "needs_background": "light"
     },
     "output_type": "display_data"
    }
   ],
   "source": [
    "sns.boxplot(X['Driven'])"
   ]
  },
  {
   "cell_type": "code",
   "execution_count": 130,
   "id": "9e4a489b",
   "metadata": {},
   "outputs": [
    {
     "data": {
      "text/plain": [
       "(500,)"
      ]
     },
     "execution_count": 130,
     "metadata": {},
     "output_type": "execute_result"
    }
   ],
   "source": [
    "X['Driven'].shape"
   ]
  },
  {
   "cell_type": "code",
   "execution_count": 131,
   "id": "b0ac3663",
   "metadata": {},
   "outputs": [
    {
     "data": {
      "text/plain": [
       "[0       80631.0\n",
       " 1       12981.0\n",
       " 2       22388.0\n",
       " 3       36806.0\n",
       " 4       21784.0\n",
       "          ...   \n",
       " 495     90800.0\n",
       " 496     62500.0\n",
       " 497    135280.0\n",
       " 498     67000.0\n",
       " 499     40000.0\n",
       " Name: Driven, Length: 500, dtype: float64]"
      ]
     },
     "execution_count": 131,
     "metadata": {},
     "output_type": "execute_result"
    }
   ],
   "source": [
    "[X['Driven']]"
   ]
  },
  {
   "cell_type": "markdown",
   "id": "20a5cacb",
   "metadata": {},
   "source": [
    "# Encoding"
   ]
  },
  {
   "cell_type": "code",
   "execution_count": 132,
   "id": "a2b324b1",
   "metadata": {},
   "outputs": [
    {
     "data": {
      "text/plain": [
       "<function pandas.core.reshape.reshape.get_dummies(data, prefix=None, prefix_sep='_', dummy_na=False, columns=None, sparse=False, drop_first=False, dtype=None) -> 'DataFrame'>"
      ]
     },
     "execution_count": 132,
     "metadata": {},
     "output_type": "execute_result"
    }
   ],
   "source": [
    "pd.get_dummies"
   ]
  },
  {
   "cell_type": "code",
   "execution_count": 133,
   "id": "3dae73b6",
   "metadata": {},
   "outputs": [
    {
     "data": {
      "text/html": [
       "<div>\n",
       "<style scoped>\n",
       "    .dataframe tbody tr th:only-of-type {\n",
       "        vertical-align: middle;\n",
       "    }\n",
       "\n",
       "    .dataframe tbody tr th {\n",
       "        vertical-align: top;\n",
       "    }\n",
       "\n",
       "    .dataframe thead th {\n",
       "        text-align: right;\n",
       "    }\n",
       "</style>\n",
       "<table border=\"1\" class=\"dataframe\">\n",
       "  <thead>\n",
       "    <tr style=\"text-align: right;\">\n",
       "      <th></th>\n",
       "      <th>Fuel</th>\n",
       "      <th>Driven</th>\n",
       "      <th>Automatic</th>\n",
       "      <th>Owner</th>\n",
       "      <th>Location</th>\n",
       "      <th>Brand</th>\n",
       "      <th>Years</th>\n",
       "    </tr>\n",
       "  </thead>\n",
       "  <tbody>\n",
       "    <tr>\n",
       "      <th>0</th>\n",
       "      <td>Petrol</td>\n",
       "      <td>80631.0</td>\n",
       "      <td>Manual</td>\n",
       "      <td>1</td>\n",
       "      <td>HR</td>\n",
       "      <td>Hyundai</td>\n",
       "      <td>3</td>\n",
       "    </tr>\n",
       "    <tr>\n",
       "      <th>1</th>\n",
       "      <td>Petrol</td>\n",
       "      <td>12981.0</td>\n",
       "      <td>Manual</td>\n",
       "      <td>2</td>\n",
       "      <td>HR</td>\n",
       "      <td>KIA</td>\n",
       "      <td>2</td>\n",
       "    </tr>\n",
       "    <tr>\n",
       "      <th>2</th>\n",
       "      <td>Petrol</td>\n",
       "      <td>22388.0</td>\n",
       "      <td>Manual</td>\n",
       "      <td>1</td>\n",
       "      <td>DL</td>\n",
       "      <td>Renault</td>\n",
       "      <td>6</td>\n",
       "    </tr>\n",
       "    <tr>\n",
       "      <th>3</th>\n",
       "      <td>Petrol</td>\n",
       "      <td>36806.0</td>\n",
       "      <td>Automatic</td>\n",
       "      <td>1</td>\n",
       "      <td>UP</td>\n",
       "      <td>Mercedes</td>\n",
       "      <td>8</td>\n",
       "    </tr>\n",
       "    <tr>\n",
       "      <th>4</th>\n",
       "      <td>Petrol</td>\n",
       "      <td>21784.0</td>\n",
       "      <td>Automatic</td>\n",
       "      <td>2</td>\n",
       "      <td>HR</td>\n",
       "      <td>KIA</td>\n",
       "      <td>2</td>\n",
       "    </tr>\n",
       "  </tbody>\n",
       "</table>\n",
       "</div>"
      ],
      "text/plain": [
       "     Fuel   Driven  Automatic  Owner Location     Brand  Years\n",
       "0  Petrol  80631.0     Manual      1       HR   Hyundai      3\n",
       "1  Petrol  12981.0     Manual      2       HR       KIA      2\n",
       "2  Petrol  22388.0     Manual      1       DL   Renault      6\n",
       "3  Petrol  36806.0  Automatic      1       UP  Mercedes      8\n",
       "4  Petrol  21784.0  Automatic      2       HR       KIA      2"
      ]
     },
     "execution_count": 133,
     "metadata": {},
     "output_type": "execute_result"
    }
   ],
   "source": [
    "X.head()"
   ]
  },
  {
   "cell_type": "code",
   "execution_count": 134,
   "id": "a626dc75",
   "metadata": {},
   "outputs": [],
   "source": [
    "from sklearn.preprocessing import MinMaxScaler\n",
    "sc=MinMaxScaler()\n",
    "k=sc.fit_transform([X['Driven']])"
   ]
  },
  {
   "cell_type": "code",
   "execution_count": 139,
   "id": "18964883",
   "metadata": {},
   "outputs": [],
   "source": [
    "from sklearn.preprocessing import OneHotEncoder\n",
    "from sklearn.preprocessing import power_transform\n",
    "from sklearn.preprocessing import StandardScaler"
   ]
  },
  {
   "cell_type": "code",
   "execution_count": 140,
   "id": "dd59d113",
   "metadata": {},
   "outputs": [],
   "source": [
    "from sklearn.compose import ColumnTransformer\n",
    "transformer= ColumnTransformer(transformers=[('tnf1',StandardScaler(),['Driven','Years']),('tnf2',OneHotEncoder(sparse=False,drop='first'),['Fuel','Automatic','Location','Brand'])],remainder='passthrough')"
   ]
  },
  {
   "cell_type": "code",
   "execution_count": 141,
   "id": "e9ebd41c",
   "metadata": {},
   "outputs": [],
   "source": [
    "x=pd.DataFrame(transformer.fit_transform(X))"
   ]
  },
  {
   "cell_type": "code",
   "execution_count": 142,
   "id": "d321a05e",
   "metadata": {},
   "outputs": [
    {
     "data": {
      "text/plain": [
       "((500, 59), (500,))"
      ]
     },
     "execution_count": 142,
     "metadata": {},
     "output_type": "execute_result"
    }
   ],
   "source": [
    "x.shape  , Y.shape"
   ]
  },
  {
   "cell_type": "markdown",
   "id": "eee00bd3",
   "metadata": {},
   "source": [
    "# Machine Learning"
   ]
  },
  {
   "cell_type": "code",
   "execution_count": 143,
   "id": "cb0ca67d",
   "metadata": {},
   "outputs": [],
   "source": [
    "from sklearn.model_selection import train_test_split\n",
    "from sklearn.linear_model import LinearRegression\n",
    "from sklearn.metrics import r2_score,mean_absolute_error,mean_squared_error"
   ]
  },
  {
   "cell_type": "code",
   "execution_count": 144,
   "id": "b7231749",
   "metadata": {},
   "outputs": [],
   "source": [
    "LR= LinearRegression()"
   ]
  },
  {
   "cell_type": "code",
   "execution_count": 145,
   "id": "b1e7471e",
   "metadata": {},
   "outputs": [
    {
     "name": "stdout",
     "output_type": "stream",
     "text": [
      "Best accuracy is  0.6948930006003453 on Random State = 48\n"
     ]
    }
   ],
   "source": [
    "# FInd best Random_state\n",
    "\n",
    "maxaccu=0\n",
    "maxRS=0\n",
    "\n",
    "for i in range(0,200):\n",
    "    x_train,x_test,y_train,y_test= train_test_split(x,Y,random_state=i,test_size=.20)\n",
    "    LR= LinearRegression()\n",
    "    LR.fit(x_train,y_train)\n",
    "    pred= LR.predict(x_test)\n",
    "    acc=r2_score(y_test,pred)\n",
    "    if acc>maxaccu:\n",
    "        maxaccu=acc\n",
    "        maxRS=i\n",
    "print(\"Best accuracy is \",maxaccu,\"on Random State =\",maxRS)"
   ]
  },
  {
   "cell_type": "code",
   "execution_count": 146,
   "id": "c5b09540",
   "metadata": {},
   "outputs": [
    {
     "data": {
      "text/plain": [
       "LinearRegression()"
      ]
     },
     "execution_count": 146,
     "metadata": {},
     "output_type": "execute_result"
    }
   ],
   "source": [
    "x_train,x_test,y_train,y_test= train_test_split(x,Y,random_state=93,test_size=.3)\n",
    "LR.fit(x_train,y_train)"
   ]
  },
  {
   "cell_type": "code",
   "execution_count": 147,
   "id": "806834c6",
   "metadata": {},
   "outputs": [],
   "source": [
    "from sklearn.linear_model import LinearRegression\n",
    "from sklearn.linear_model import Ridge, Lasso\n",
    "from sklearn.tree import DecisionTreeRegressor\n",
    "from sklearn.svm import SVR\n",
    "from sklearn.neighbors import KNeighborsRegressor\n",
    "from sklearn.ensemble import RandomForestRegressor\n",
    "from xgboost import XGBRegressor\n",
    "from sklearn.linear_model import ElasticNet\n",
    "from sklearn.linear_model import SGDRegressor\n",
    "from sklearn.ensemble import BaggingRegressor\n",
    "from sklearn.ensemble import AdaBoostRegressor\n",
    "from sklearn.ensemble import GradientBoostingRegressor"
   ]
  },
  {
   "cell_type": "code",
   "execution_count": 148,
   "id": "ea117540",
   "metadata": {},
   "outputs": [],
   "source": [
    "LR_model= LinearRegression()\n",
    "RD_model= Ridge()\n",
    "LS_model= Lasso()\n",
    "DT_model= DecisionTreeRegressor()\n",
    "SV_model= SVR()\n",
    "KNR_model= KNeighborsRegressor()\n",
    "RFR_model= RandomForestRegressor()\n",
    "XGB_model= XGBRegressor()\n",
    "Elastic_model= ElasticNet()\n",
    "SGH_model= SGDRegressor()\n",
    "Bag_model=BaggingRegressor()\n",
    "ADA_model=AdaBoostRegressor()\n",
    "GB_model= GradientBoostingRegressor()\n",
    "\n",
    "model=[LR_model,RD_model,LS_model,DT_model,SV_model,KNR_model,RFR_model,XGB_model,Elastic_model,SGH_model,Bag_model,ADA_model,GB_model ]"
   ]
  },
  {
   "cell_type": "code",
   "execution_count": 149,
   "id": "5a8404b0",
   "metadata": {},
   "outputs": [
    {
     "name": "stdout",
     "output_type": "stream",
     "text": [
      "mean_absolute_error of  LinearRegression() model 2.838123139356261e+16\n",
      "Root mean_square_error of LinearRegression() model 3.285050906929811e+17\n",
      "R2 Score of LinearRegression() model -5.314047302779004e+24\n",
      "XXXXXXXXXXXXXXXXXXXXXXXXXXXXXXXXXXXXXXXXXXXXXXXXXX \n",
      "\n",
      "\n",
      "mean_absolute_error of  Ridge() model 367370.4250535556\n",
      "Root mean_square_error of Ridge() model 1197811.6310861707\n",
      "R2 Score of Ridge() model 29.34900871366205\n",
      "XXXXXXXXXXXXXXXXXXXXXXXXXXXXXXXXXXXXXXXXXXXXXXXXXX \n",
      "\n",
      "\n",
      "mean_absolute_error of  Lasso() model 351462.80694200523\n",
      "Root mean_square_error of Lasso() model 1169072.1729578339\n",
      "R2 Score of Lasso() model 32.69863781674117\n",
      "XXXXXXXXXXXXXXXXXXXXXXXXXXXXXXXXXXXXXXXXXXXXXXXXXX \n",
      "\n",
      "\n",
      "mean_absolute_error of  DecisionTreeRegressor() model 428812.2\n",
      "Root mean_square_error of DecisionTreeRegressor() model 1241747.950683353\n",
      "R2 Score of DecisionTreeRegressor() model 24.070924539368843\n",
      "XXXXXXXXXXXXXXXXXXXXXXXXXXXXXXXXXXXXXXXXXXXXXXXXXX \n",
      "\n",
      "\n",
      "mean_absolute_error of  SVR() model 491828.14928328345\n",
      "Root mean_square_error of SVR() model 1458645.5978054581\n",
      "R2 Score of SVR() model -4.770925240738211\n",
      "XXXXXXXXXXXXXXXXXXXXXXXXXXXXXXXXXXXXXXXXXXXXXXXXXX \n",
      "\n",
      "\n",
      "mean_absolute_error of  KNeighborsRegressor() model 390872.1666666666\n",
      "Root mean_square_error of KNeighborsRegressor() model 1299655.4679680676\n",
      "R2 Score of KNeighborsRegressor() model 16.82406634476019\n",
      "XXXXXXXXXXXXXXXXXXXXXXXXXXXXXXXXXXXXXXXXXXXXXXXXXX \n",
      "\n",
      "\n",
      "mean_absolute_error of  RandomForestRegressor() model 353137.69353333337\n",
      "Root mean_square_error of RandomForestRegressor() model 1217137.66740607\n",
      "R2 Score of RandomForestRegressor() model 27.05078650793544\n",
      "XXXXXXXXXXXXXXXXXXXXXXXXXXXXXXXXXXXXXXXXXXXXXXXXXX \n",
      "\n",
      "\n",
      "mean_absolute_error of  XGBRegressor(base_score=0.5, booster='gbtree', callbacks=None,\n",
      "             colsample_bylevel=1, colsample_bynode=1, colsample_bytree=1,\n",
      "             early_stopping_rounds=None, enable_categorical=False,\n",
      "             eval_metric=None, gamma=0, gpu_id=-1, grow_policy='depthwise',\n",
      "             importance_type=None, interaction_constraints='',\n",
      "             learning_rate=0.300000012, max_bin=256, max_cat_to_onehot=4,\n",
      "             max_delta_step=0, max_depth=6, max_leaves=0, min_child_weight=1,\n",
      "             missing=nan, monotone_constraints='()', n_estimators=100, n_jobs=0,\n",
      "             num_parallel_tree=1, predictor='auto', random_state=0, reg_alpha=0,\n",
      "             reg_lambda=1, ...) model 361597.9236979167\n",
      "Root mean_square_error of XGBRegressor(base_score=0.5, booster='gbtree', callbacks=None,\n",
      "             colsample_bylevel=1, colsample_bynode=1, colsample_bytree=1,\n",
      "             early_stopping_rounds=None, enable_categorical=False,\n",
      "             eval_metric=None, gamma=0, gpu_id=-1, grow_policy='depthwise',\n",
      "             importance_type=None, interaction_constraints='',\n",
      "             learning_rate=0.300000012, max_bin=256, max_cat_to_onehot=4,\n",
      "             max_delta_step=0, max_depth=6, max_leaves=0, min_child_weight=1,\n",
      "             missing=nan, monotone_constraints='()', n_estimators=100, n_jobs=0,\n",
      "             num_parallel_tree=1, predictor='auto', random_state=0, reg_alpha=0,\n",
      "             reg_lambda=1, ...) model 1230955.609652511\n",
      "R2 Score of XGBRegressor(base_score=0.5, booster='gbtree', callbacks=None,\n",
      "             colsample_bylevel=1, colsample_bynode=1, colsample_bytree=1,\n",
      "             early_stopping_rounds=None, enable_categorical=False,\n",
      "             eval_metric=None, gamma=0, gpu_id=-1, grow_policy='depthwise',\n",
      "             importance_type=None, interaction_constraints='',\n",
      "             learning_rate=0.300000012, max_bin=256, max_cat_to_onehot=4,\n",
      "             max_delta_step=0, max_depth=6, max_leaves=0, min_child_weight=1,\n",
      "             missing=nan, monotone_constraints='()', n_estimators=100, n_jobs=0,\n",
      "             num_parallel_tree=1, predictor='auto', random_state=0, reg_alpha=0,\n",
      "             reg_lambda=1, ...) model 25.385026073725047\n",
      "XXXXXXXXXXXXXXXXXXXXXXXXXXXXXXXXXXXXXXXXXXXXXXXXXX \n",
      "\n",
      "\n",
      "mean_absolute_error of  ElasticNet() model 471842.1462723259\n",
      "Root mean_square_error of ElasticNet() model 1341302.4802674137\n",
      "R2 Score of ElasticNet() model 11.407967956338293\n",
      "XXXXXXXXXXXXXXXXXXXXXXXXXXXXXXXXXXXXXXXXXXXXXXXXXX \n",
      "\n",
      "\n",
      "mean_absolute_error of  SGDRegressor() model 366823.9600144592\n",
      "Root mean_square_error of SGDRegressor() model 1194620.8260091522\n",
      "R2 Score of SGDRegressor() model 29.72491636710202\n",
      "XXXXXXXXXXXXXXXXXXXXXXXXXXXXXXXXXXXXXXXXXXXXXXXXXX \n",
      "\n",
      "\n",
      "mean_absolute_error of  BaggingRegressor() model 362007.5026666667\n",
      "Root mean_square_error of BaggingRegressor() model 1228225.0454417816\n",
      "R2 Score of BaggingRegressor() model 25.71568788124159\n",
      "XXXXXXXXXXXXXXXXXXXXXXXXXXXXXXXXXXXXXXXXXXXXXXXXXX \n",
      "\n",
      "\n",
      "mean_absolute_error of  AdaBoostRegressor() model 532350.990796956\n",
      "Root mean_square_error of AdaBoostRegressor() model 1266985.7010028828\n",
      "R2 Score of AdaBoostRegressor() model 20.953137819661848\n",
      "XXXXXXXXXXXXXXXXXXXXXXXXXXXXXXXXXXXXXXXXXXXXXXXXXX \n",
      "\n",
      "\n",
      "mean_absolute_error of  GradientBoostingRegressor() model 356070.81349638273\n",
      "Root mean_square_error of GradientBoostingRegressor() model 1185719.4243102565\n",
      "R2 Score of GradientBoostingRegressor() model 30.768287095362624\n",
      "XXXXXXXXXXXXXXXXXXXXXXXXXXXXXXXXXXXXXXXXXXXXXXXXXX \n",
      "\n",
      "\n"
     ]
    }
   ],
   "source": [
    "for m in model:\n",
    "    m.fit(x_train,y_train)\n",
    "    print('mean_absolute_error of ',m ,'model', mean_absolute_error(y_test,m.predict(x_test)))\n",
    "    print('Root mean_square_error of',m,'model' , np.sqrt(mean_squared_error(y_test,m.predict(x_test))))\n",
    "    print('R2 Score of',m,'model', r2_score(y_test,m.predict(x_test) )*100)\n",
    "    print('X' * 50, '\\n\\n')"
   ]
  },
  {
   "cell_type": "markdown",
   "id": "77a60a93",
   "metadata": {},
   "source": [
    "# Cross Validation"
   ]
  },
  {
   "cell_type": "code",
   "execution_count": 151,
   "id": "9711fffb",
   "metadata": {},
   "outputs": [],
   "source": [
    "from sklearn.model_selection import cross_val_score"
   ]
  },
  {
   "cell_type": "code",
   "execution_count": 152,
   "id": "b5266a26",
   "metadata": {},
   "outputs": [
    {
     "name": "stdout",
     "output_type": "stream",
     "text": [
      "Root mean_square of  LinearRegression() model 3.285050906929811e+17\n",
      "cross Validation score of root mean square  LinearRegression()  is  6.377216369134784e+17\n",
      "**************************************************\n",
      "Root mean_square of  Ridge() model 1197811.6310861707\n",
      "cross Validation score of root mean square  Ridge()  is  745441.4680013345\n",
      "**************************************************\n",
      "Root mean_square of  Lasso() model 1169072.1729578339\n",
      "cross Validation score of root mean square  Lasso()  is  741641.9740828719\n",
      "**************************************************\n",
      "Root mean_square of  DecisionTreeRegressor() model 1241747.950683353\n",
      "cross Validation score of root mean square  DecisionTreeRegressor()  is  866859.5430843177\n",
      "**************************************************\n",
      "Root mean_square of  SVR() model 1458645.5978054581\n",
      "cross Validation score of root mean square  SVR()  is  991729.2119933253\n",
      "**************************************************\n",
      "Root mean_square of  KNeighborsRegressor() model 1299655.4679680676\n",
      "cross Validation score of root mean square  KNeighborsRegressor()  is  793410.7630991834\n",
      "**************************************************\n",
      "Root mean_square of  RandomForestRegressor() model 1217137.66740607\n",
      "cross Validation score of root mean square  RandomForestRegressor()  is  757527.8803860075\n",
      "**************************************************\n",
      "Root mean_square of  XGBRegressor(base_score=0.5, booster='gbtree', callbacks=None,\n",
      "             colsample_bylevel=1, colsample_bynode=1, colsample_bytree=1,\n",
      "             early_stopping_rounds=None, enable_categorical=False,\n",
      "             eval_metric=None, gamma=0, gpu_id=-1, grow_policy='depthwise',\n",
      "             importance_type=None, interaction_constraints='',\n",
      "             learning_rate=0.300000012, max_bin=256, max_cat_to_onehot=4,\n",
      "             max_delta_step=0, max_depth=6, max_leaves=0, min_child_weight=1,\n",
      "             missing=nan, monotone_constraints='()', n_estimators=100, n_jobs=0,\n",
      "             num_parallel_tree=1, predictor='auto', random_state=0, reg_alpha=0,\n",
      "             reg_lambda=1, ...) model 1230955.609652511\n",
      "cross Validation score of root mean square  XGBRegressor(base_score=0.5, booster='gbtree', callbacks=None,\n",
      "             colsample_bylevel=1, colsample_bynode=1, colsample_bytree=1,\n",
      "             early_stopping_rounds=None, enable_categorical=False,\n",
      "             eval_metric=None, gamma=0, gpu_id=-1, grow_policy='depthwise',\n",
      "             importance_type=None, interaction_constraints='',\n",
      "             learning_rate=0.300000012, max_bin=256, max_cat_to_onehot=4,\n",
      "             max_delta_step=0, max_depth=6, max_leaves=0, min_child_weight=1,\n",
      "             missing=nan, monotone_constraints='()', n_estimators=100, n_jobs=0,\n",
      "             num_parallel_tree=1, predictor='auto', random_state=0, reg_alpha=0,\n",
      "             reg_lambda=1, ...)  is  780006.5269853367\n",
      "**************************************************\n",
      "Root mean_square of  ElasticNet() model 1341302.4802674137\n",
      "cross Validation score of root mean square  ElasticNet()  is  863184.2616714386\n",
      "**************************************************\n",
      "Root mean_square of  SGDRegressor() model 1194620.8260091522\n",
      "cross Validation score of root mean square  SGDRegressor()  is  754131.5729666803\n",
      "**************************************************\n",
      "Root mean_square of  BaggingRegressor() model 1228225.0454417816\n",
      "cross Validation score of root mean square  BaggingRegressor()  is  777563.7757740886\n",
      "**************************************************\n",
      "Root mean_square of  AdaBoostRegressor() model 1266985.7010028828\n",
      "cross Validation score of root mean square  AdaBoostRegressor()  is  1012299.2333854105\n",
      "**************************************************\n",
      "Root mean_square of  GradientBoostingRegressor() model 1185719.4243102565\n",
      "cross Validation score of root mean square  GradientBoostingRegressor()  is  745186.2258462848\n",
      "**************************************************\n"
     ]
    }
   ],
   "source": [
    "from sklearn.model_selection import cross_val_score\n",
    "for i in model:\n",
    "    print('Root mean_square of ',i, 'model',np.sqrt(mean_squared_error(y_test,i.predict(x_test))))\n",
    "    score=cross_val_score(i,x,Y,cv=10, scoring='neg_mean_squared_error').mean()\n",
    "    print(\"cross Validation score of root mean square \",i ,\" is \",np.sqrt(-score))\n",
    "    print('*'*50)"
   ]
  },
  {
   "cell_type": "markdown",
   "id": "98819ebd",
   "metadata": {},
   "source": [
    "# Random Forest Regressor"
   ]
  },
  {
   "cell_type": "code",
   "execution_count": 153,
   "id": "23fd198b",
   "metadata": {},
   "outputs": [],
   "source": [
    "from sklearn.model_selection import RandomizedSearchCV\n",
    "from sklearn.ensemble import RandomForestRegressor"
   ]
  },
  {
   "cell_type": "code",
   "execution_count": 154,
   "id": "9cc935bf",
   "metadata": {},
   "outputs": [],
   "source": [
    "# Number of trees in random forest\n",
    "n_estimators = [int(x) for x in np.linspace(start = 100, stop = 1200, num = 12)]\n",
    "# Number of features to consider at every split\n",
    "max_features = ['auto', 'sqrt']\n",
    "# Maximum number of levels in tree\n",
    "max_depth = [int(x) for x in np.linspace(5, 30, num = 6)]\n",
    "# max_depth.append(None)\n",
    "# Minimum number of samples required to split a node\n",
    "min_samples_split = [2, 5, 10, 15, 100]\n",
    "# Minimum number of samples required at each leaf node\n",
    "min_samples_leaf = [1, 2, 5, 10]"
   ]
  },
  {
   "cell_type": "code",
   "execution_count": 155,
   "id": "f2a50398",
   "metadata": {},
   "outputs": [],
   "source": [
    "rf=RandomForestRegressor()"
   ]
  },
  {
   "cell_type": "code",
   "execution_count": 156,
   "id": "5d955dbf",
   "metadata": {},
   "outputs": [],
   "source": [
    "random_grid = {'n_estimators': n_estimators,\n",
    "               'max_features': max_features,\n",
    "               'max_depth': max_depth,\n",
    "               'min_samples_split': min_samples_split,\n",
    "               'min_samples_leaf': min_samples_leaf}"
   ]
  },
  {
   "cell_type": "code",
   "execution_count": 157,
   "id": "f312c1ca",
   "metadata": {},
   "outputs": [],
   "source": [
    "rf_random = RandomizedSearchCV(estimator = rf, param_distributions = random_grid,scoring='neg_mean_squared_error', n_iter = 10, cv = 5, verbose=2, random_state=42, n_jobs = 1)"
   ]
  },
  {
   "cell_type": "code",
   "execution_count": 158,
   "id": "ea97a176",
   "metadata": {},
   "outputs": [
    {
     "name": "stdout",
     "output_type": "stream",
     "text": [
      "Fitting 5 folds for each of 10 candidates, totalling 50 fits\n",
      "[CV] END max_depth=10, max_features=sqrt, min_samples_leaf=5, min_samples_split=5, n_estimators=900; total time=   0.6s\n",
      "[CV] END max_depth=10, max_features=sqrt, min_samples_leaf=5, min_samples_split=5, n_estimators=900; total time=   0.6s\n",
      "[CV] END max_depth=10, max_features=sqrt, min_samples_leaf=5, min_samples_split=5, n_estimators=900; total time=   0.6s\n",
      "[CV] END max_depth=10, max_features=sqrt, min_samples_leaf=5, min_samples_split=5, n_estimators=900; total time=   0.6s\n",
      "[CV] END max_depth=10, max_features=sqrt, min_samples_leaf=5, min_samples_split=5, n_estimators=900; total time=   0.6s\n",
      "[CV] END max_depth=15, max_features=sqrt, min_samples_leaf=2, min_samples_split=10, n_estimators=1100; total time=   0.8s\n",
      "[CV] END max_depth=15, max_features=sqrt, min_samples_leaf=2, min_samples_split=10, n_estimators=1100; total time=   0.8s\n",
      "[CV] END max_depth=15, max_features=sqrt, min_samples_leaf=2, min_samples_split=10, n_estimators=1100; total time=   0.8s\n",
      "[CV] END max_depth=15, max_features=sqrt, min_samples_leaf=2, min_samples_split=10, n_estimators=1100; total time=   0.8s\n",
      "[CV] END max_depth=15, max_features=sqrt, min_samples_leaf=2, min_samples_split=10, n_estimators=1100; total time=   0.8s\n",
      "[CV] END max_depth=15, max_features=auto, min_samples_leaf=5, min_samples_split=100, n_estimators=300; total time=   0.2s\n",
      "[CV] END max_depth=15, max_features=auto, min_samples_leaf=5, min_samples_split=100, n_estimators=300; total time=   0.2s\n",
      "[CV] END max_depth=15, max_features=auto, min_samples_leaf=5, min_samples_split=100, n_estimators=300; total time=   0.2s\n",
      "[CV] END max_depth=15, max_features=auto, min_samples_leaf=5, min_samples_split=100, n_estimators=300; total time=   0.2s\n",
      "[CV] END max_depth=15, max_features=auto, min_samples_leaf=5, min_samples_split=100, n_estimators=300; total time=   0.2s\n",
      "[CV] END max_depth=15, max_features=auto, min_samples_leaf=5, min_samples_split=5, n_estimators=400; total time=   0.3s\n",
      "[CV] END max_depth=15, max_features=auto, min_samples_leaf=5, min_samples_split=5, n_estimators=400; total time=   0.3s\n",
      "[CV] END max_depth=15, max_features=auto, min_samples_leaf=5, min_samples_split=5, n_estimators=400; total time=   0.3s\n",
      "[CV] END max_depth=15, max_features=auto, min_samples_leaf=5, min_samples_split=5, n_estimators=400; total time=   0.3s\n",
      "[CV] END max_depth=15, max_features=auto, min_samples_leaf=5, min_samples_split=5, n_estimators=400; total time=   0.3s\n",
      "[CV] END max_depth=20, max_features=auto, min_samples_leaf=10, min_samples_split=5, n_estimators=700; total time=   0.7s\n",
      "[CV] END max_depth=20, max_features=auto, min_samples_leaf=10, min_samples_split=5, n_estimators=700; total time=   0.6s\n",
      "[CV] END max_depth=20, max_features=auto, min_samples_leaf=10, min_samples_split=5, n_estimators=700; total time=   0.6s\n",
      "[CV] END max_depth=20, max_features=auto, min_samples_leaf=10, min_samples_split=5, n_estimators=700; total time=   0.6s\n",
      "[CV] END max_depth=20, max_features=auto, min_samples_leaf=10, min_samples_split=5, n_estimators=700; total time=   0.6s\n",
      "[CV] END max_depth=25, max_features=sqrt, min_samples_leaf=1, min_samples_split=2, n_estimators=1000; total time=   0.9s\n",
      "[CV] END max_depth=25, max_features=sqrt, min_samples_leaf=1, min_samples_split=2, n_estimators=1000; total time=   0.9s\n",
      "[CV] END max_depth=25, max_features=sqrt, min_samples_leaf=1, min_samples_split=2, n_estimators=1000; total time=   0.8s\n",
      "[CV] END max_depth=25, max_features=sqrt, min_samples_leaf=1, min_samples_split=2, n_estimators=1000; total time=   0.9s\n",
      "[CV] END max_depth=25, max_features=sqrt, min_samples_leaf=1, min_samples_split=2, n_estimators=1000; total time=   1.0s\n",
      "[CV] END max_depth=5, max_features=sqrt, min_samples_leaf=10, min_samples_split=15, n_estimators=1100; total time=   0.7s\n",
      "[CV] END max_depth=5, max_features=sqrt, min_samples_leaf=10, min_samples_split=15, n_estimators=1100; total time=   0.9s\n",
      "[CV] END max_depth=5, max_features=sqrt, min_samples_leaf=10, min_samples_split=15, n_estimators=1100; total time=   0.7s\n",
      "[CV] END max_depth=5, max_features=sqrt, min_samples_leaf=10, min_samples_split=15, n_estimators=1100; total time=   0.8s\n",
      "[CV] END max_depth=5, max_features=sqrt, min_samples_leaf=10, min_samples_split=15, n_estimators=1100; total time=   0.8s\n",
      "[CV] END max_depth=15, max_features=sqrt, min_samples_leaf=1, min_samples_split=15, n_estimators=300; total time=   0.2s\n",
      "[CV] END max_depth=15, max_features=sqrt, min_samples_leaf=1, min_samples_split=15, n_estimators=300; total time=   0.2s\n",
      "[CV] END max_depth=15, max_features=sqrt, min_samples_leaf=1, min_samples_split=15, n_estimators=300; total time=   0.2s\n",
      "[CV] END max_depth=15, max_features=sqrt, min_samples_leaf=1, min_samples_split=15, n_estimators=300; total time=   0.2s\n",
      "[CV] END max_depth=15, max_features=sqrt, min_samples_leaf=1, min_samples_split=15, n_estimators=300; total time=   0.2s\n",
      "[CV] END max_depth=5, max_features=sqrt, min_samples_leaf=2, min_samples_split=10, n_estimators=700; total time=   0.5s\n",
      "[CV] END max_depth=5, max_features=sqrt, min_samples_leaf=2, min_samples_split=10, n_estimators=700; total time=   0.5s\n",
      "[CV] END max_depth=5, max_features=sqrt, min_samples_leaf=2, min_samples_split=10, n_estimators=700; total time=   0.5s\n",
      "[CV] END max_depth=5, max_features=sqrt, min_samples_leaf=2, min_samples_split=10, n_estimators=700; total time=   0.5s\n",
      "[CV] END max_depth=5, max_features=sqrt, min_samples_leaf=2, min_samples_split=10, n_estimators=700; total time=   0.5s\n",
      "[CV] END max_depth=20, max_features=auto, min_samples_leaf=1, min_samples_split=15, n_estimators=700; total time=   0.7s\n",
      "[CV] END max_depth=20, max_features=auto, min_samples_leaf=1, min_samples_split=15, n_estimators=700; total time=   0.7s\n",
      "[CV] END max_depth=20, max_features=auto, min_samples_leaf=1, min_samples_split=15, n_estimators=700; total time=   0.8s\n",
      "[CV] END max_depth=20, max_features=auto, min_samples_leaf=1, min_samples_split=15, n_estimators=700; total time=   0.7s\n",
      "[CV] END max_depth=20, max_features=auto, min_samples_leaf=1, min_samples_split=15, n_estimators=700; total time=   0.7s\n"
     ]
    },
    {
     "data": {
      "text/plain": [
       "RandomizedSearchCV(cv=5, estimator=RandomForestRegressor(), n_jobs=1,\n",
       "                   param_distributions={'max_depth': [5, 10, 15, 20, 25, 30],\n",
       "                                        'max_features': ['auto', 'sqrt'],\n",
       "                                        'min_samples_leaf': [1, 2, 5, 10],\n",
       "                                        'min_samples_split': [2, 5, 10, 15,\n",
       "                                                              100],\n",
       "                                        'n_estimators': [100, 200, 300, 400,\n",
       "                                                         500, 600, 700, 800,\n",
       "                                                         900, 1000, 1100,\n",
       "                                                         1200]},\n",
       "                   random_state=42, scoring='neg_mean_squared_error',\n",
       "                   verbose=2)"
      ]
     },
     "execution_count": 158,
     "metadata": {},
     "output_type": "execute_result"
    }
   ],
   "source": [
    "rf_random.fit(x_train,y_train)"
   ]
  },
  {
   "cell_type": "code",
   "execution_count": 159,
   "id": "fab8bcbc",
   "metadata": {},
   "outputs": [
    {
     "data": {
      "text/plain": [
       "-264071177428.78085"
      ]
     },
     "execution_count": 159,
     "metadata": {},
     "output_type": "execute_result"
    }
   ],
   "source": [
    "rf_random.best_score_\n"
   ]
  },
  {
   "cell_type": "code",
   "execution_count": 160,
   "id": "16831638",
   "metadata": {},
   "outputs": [
    {
     "name": "stdout",
     "output_type": "stream",
     "text": [
      "MAE: 381011.70552312414\n",
      "MSE: 1608606099678.935\n",
      "RMSE: 1268308.3614322406\n"
     ]
    }
   ],
   "source": [
    "from sklearn import metrics\n",
    "predictions=rf_random.predict(x_test)\n",
    "print('MAE:', metrics.mean_absolute_error(y_test, predictions))\n",
    "print('MSE:', metrics.mean_squared_error(y_test, predictions))\n",
    "print('RMSE:', np.sqrt(metrics.mean_squared_error(y_test, predictions)))"
   ]
  },
  {
   "cell_type": "code",
   "execution_count": 161,
   "id": "08e1bb35",
   "metadata": {},
   "outputs": [
    {
     "data": {
      "text/plain": [
       "Text(0, 0.5, 'Prediction--->')"
      ]
     },
     "execution_count": 161,
     "metadata": {},
     "output_type": "execute_result"
    },
    {
     "data": {
      "image/png": "[encoded data removed]",
      "text/plain": [
       "<Figure size 432x288 with 1 Axes>"
      ]
     },
     "metadata": {
      "needs_background": "light"
     },
     "output_type": "display_data"
    }
   ],
   "source": [
    "plt.scatter(y_test,predictions)\n",
    "x=[0,25]\n",
    "Y=[0,25]\n",
    "plt.plot(x,Y,color=\"r\")\n",
    "plt.xlabel(\"Actual--->\")\n",
    "plt.ylabel(\"Prediction--->\")"
   ]
  },
  {
   "cell_type": "markdown",
   "id": "2b4b3e6a",
   "metadata": {},
   "source": [
    "# Saving Model"
   ]
  },
  {
   "cell_type": "code",
   "execution_count": 162,
   "id": "04610db7",
   "metadata": {},
   "outputs": [
    {
     "data": {
      "text/plain": [
       "['car_price_prediction.pkl']"
      ]
     },
     "execution_count": 162,
     "metadata": {},
     "output_type": "execute_result"
    }
   ],
   "source": [
    "import joblib\n",
    "joblib.dump(rf_random.best_estimator_,\"car_price_prediction.pkl\")"
   ]
  },
  {
   "cell_type": "markdown",
   "id": "8290afc9",
   "metadata": {},
   "source": [
    "# Dataset  used"
   ]
  },
  {
   "cell_type": "code",
   "execution_count": 163,
   "id": "7cd9920a",
   "metadata": {},
   "outputs": [],
   "source": [
    "file='car_data.csv'\n",
    "data.to_csv(file)"
   ]
  },
  {
   "cell_type": "code",
   "execution_count": null,
   "id": "20e54729",
   "metadata": {},
   "outputs": [],
   "source": []
  }
 ],
 "metadata": {
  "kernelspec": {
   "display_name": "Python 3",
   "language": "python",
   "name": "python3"
  },
  "language_info": {
   "codemirror_mode": {
    "name": "ipython",
    "version": 3
   },
   "file_extension": ".py",
   "mimetype": "text/x-python",
   "name": "python",
   "nbconvert_exporter": "python",
   "pygments_lexer": "ipython3",
   "version": "3.8.8"
  }
 },
 "nbformat": 4,
 "nbformat_minor": 5
}
